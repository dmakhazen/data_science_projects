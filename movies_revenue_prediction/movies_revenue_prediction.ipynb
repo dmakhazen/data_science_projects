{
 "cells": [
  {
   "cell_type": "markdown",
   "metadata": {},
   "source": [
    "**Table of contents**<a id='toc0_'></a>    \n",
    "- [ Movies revenue prediction](#toc1_)    \n",
    "- [Импорт библиотек и данных](#toc2_)    \n",
    "- [Изучение структуры данных](#toc3_)    \n",
    "- [Подготовка данных](#toc4_)    \n",
    "  - [Индексы (index, id, imdb_id)](#toc4_1_)    \n",
    "  - [Время релиза (release_date)](#toc4_2_)    \n",
    "  - [Выручка и бюджет (revenue_adj, budget_adj, revenue, budget)](#toc4_3_)    \n",
    "  - [Оценки зрителей (popularity, vote_count, vote_average)](#toc4_4_)    \n",
    "  - [Текстовые описания фильма (homepage, tagline, overview, keywords, genres, cast, director, production_companies)](#toc4_5_)    \n",
    "- [Исследовательский анализ](#toc5_)    \n",
    "- [Создание моделей](#toc6_)    \n",
    "  - [Линейные модели](#toc6_1_)    \n",
    "  - [Модели решающего дерева и случайного леса](#toc6_2_)    \n",
    "  - [Модели градиентного бустинга Catboost и LGBM](#toc6_3_)    \n",
    "  - [Результаты моделей получены](#toc6_4_)    \n",
    "- [Обучение и тест лучшей модели](#toc7_)    \n",
    "- [Результаты](#toc8_)    \n",
    "\n",
    "<!-- vscode-jupyter-toc-config\n",
    "\tnumbering=false\n",
    "\tanchor=true\n",
    "\tflat=false\n",
    "\tminLevel=1\n",
    "\tmaxLevel=6\n",
    "\t/vscode-jupyter-toc-config -->\n",
    "<!-- THIS CELL WILL BE REPLACED ON TOC UPDATE. DO NOT WRITE YOUR TEXT IN THIS CELL -->"
   ]
  },
  {
   "cell_type": "markdown",
   "metadata": {},
   "source": [
    "# <a id='toc1_'></a>[ Movies revenue prediction](#toc0_)"
   ]
  },
  {
   "attachments": {},
   "cell_type": "markdown",
   "metadata": {},
   "source": [
    "**Описание проблемы**\n",
    "\n",
    "<p><img style=\"float:right; margin:20px; padding:20px; max-height:400px\" src=\"https://images.pexels.com/photos/8263316/pexels-photo-8263316.jpeg?auto=compress&cs=tinysrgb&w=1260&h=750&dpr=1\"></p>\n",
    "<p style=\"text-align:justify;\">\n",
    "    \n",
    "К вам обращается компания, управляющая кинотеатрами. Компания хочет предсказать, насколько успешным будет фильм, еще до его выхода. Компания хочет использовать эти прогнозы как часть планирования расписания фильмов. Компания предоставляет вам набор данных и просит вас создать модель машинного обучения, чтобы помочь им.\n",
    "\n",
    "**Цель**\n",
    "\n",
    "Создать ML модель, которая будет предсказывать полученную прибыль в процессе показа фильма. Метрика - RMSE. \n",
    "\n",
    "**Задачи**\n",
    "\n",
    "1. Осмотреть и подготовить данные\n",
    "2. Провести исследовательский анализ данных\n",
    "3. Выбрать актуальные для модели признаки, выбрать актуальный временной период для обучения модели, преобразовать признаки\n",
    "4. Обучить различные модели на тренировочных данных\n",
    "5. Выбрать лучшую модель и провести итоговый тест\n",
    "6. Сделать общие выводы\n",
    "\n",
    "**Подход к решению**\n",
    "\n",
    "1. Осмотреть данные целиком (явные дубликаты, пропуски, размеры, id, типы)\n",
    "2. Подготовить каждый признак:\n",
    "    1. Разбить признаки на группы\n",
    "    2. Убрать признаки не имеющие отношения к будущей модели\n",
    "    3. Заполнить пропуски\n",
    "    4. Преобразовать признаки (допустим перекодировать в бинарные, можно ли категоризировать и т.д.) и лучше это сделать функциями\n",
    "3. Найти корреляцию в данных с целевым признаком, построить графики объясняющие важность признаков и зависимости, найти актуальный период\n",
    "4. Исследую модели линейной регрессии (с регуляризацией и без), ансамблевые модели из sklearn, и градиентный бустинг (кэтбуст, LGBM)\n",
    "7. Каждую модель буду обучать с небольшим подбором гиперпараметров, и собирать получившиеся метрики, поэтому лучше написать отдельную функцию универсальную для проверки и сбора метрик.\n",
    "8. Соберу метрики в таблицу и найду наилучшую модель. Обучу её с широким подбором гиперпараметров. Потом тест модели и сделаю в графическом виде результаты модели. \n",
    "9. Соберу результат в графическом виде\n",
    "\n",
    "\n",
    "**Данные**\n",
    "\n",
    "Источник данных - (https://www.kaggle.com/datasets/juzershakir/tmdb-movies-dataset)"
   ]
  },
  {
   "cell_type": "markdown",
   "metadata": {},
   "source": [
    "# <a id='toc2_'></a>[Импорт библиотек и данных](#toc0_)"
   ]
  },
  {
   "cell_type": "code",
   "execution_count": 1,
   "metadata": {},
   "outputs": [
    {
     "name": "stdout",
     "output_type": "stream",
     "text": [
      "Requirement already satisfied: tqdm in c:\\users\\dmitriy\\anaconda3\\envs\\datasci\\lib\\site-packages (4.64.1)\n",
      "Requirement already satisfied: colorama in c:\\users\\dmitriy\\anaconda3\\envs\\datasci\\lib\\site-packages (from tqdm) (0.4.6)\n"
     ]
    }
   ],
   "source": [
    "# Для каггла\n",
    "#!pip install tqdm"
   ]
  },
  {
   "cell_type": "code",
   "execution_count": 2,
   "metadata": {},
   "outputs": [],
   "source": [
    "# Pandas\n",
    "import pandas as pd\n",
    "\n",
    "# Seaborn\n",
    "import seaborn as sns\n",
    "\n",
    "# Numpy\n",
    "import numpy as np\n",
    "\n",
    "# Matplotlib\n",
    "import matplotlib.pyplot as plt\n",
    "\n",
    "# Scikit-learn\n",
    "from sklearn.model_selection import train_test_split, GridSearchCV\n",
    "from sklearn.dummy import DummyRegressor\n",
    "from sklearn.linear_model import (\n",
    "    LinearRegression,\n",
    "    Lasso,\n",
    "    ElasticNet,\n",
    "    Ridge\n",
    ")\n",
    "from sklearn.tree import DecisionTreeRegressor\n",
    "from sklearn.preprocessing import StandardScaler, MultiLabelBinarizer\n",
    "from sklearn.metrics import (\n",
    "    mean_absolute_error,\n",
    "    mean_squared_error,\n",
    "    r2_score,\n",
    "    mean_absolute_percentage_error\n",
    ")\n",
    "from sklearn.ensemble import RandomForestRegressor\n",
    "\n",
    "# LightGMB\n",
    "from lightgbm import LGBMRegressor\n",
    "\n",
    "# Catboost\n",
    "from catboost import CatBoostRegressor\n",
    "\n",
    "# Time\n",
    "import time\n",
    "\n",
    "# tqdm\n",
    "from tqdm import notebook\n",
    "from tqdm.notebook import tqdm\n",
    "\n",
    "import warnings\n",
    "warnings.simplefilter(action='ignore', category=pd.errors.PerformanceWarning)"
   ]
  },
  {
   "cell_type": "code",
   "execution_count": 3,
   "metadata": {},
   "outputs": [],
   "source": [
    "data = pd.read_csv(r\"C:\\project_data\\movies\\tmdb_movies_data.csv\")"
   ]
  },
  {
   "cell_type": "markdown",
   "metadata": {},
   "source": [
    "# <a id='toc3_'></a>[Изучение структуры данных](#toc0_)"
   ]
  },
  {
   "attachments": {},
   "cell_type": "markdown",
   "metadata": {},
   "source": [
    "<font color='orange'>**Осмотр, размеры, пропуски, дубликаты**</font>"
   ]
  },
  {
   "cell_type": "code",
   "execution_count": 4,
   "metadata": {},
   "outputs": [
    {
     "data": {
      "text/html": [
       "<div>\n",
       "<style scoped>\n",
       "    .dataframe tbody tr th:only-of-type {\n",
       "        vertical-align: middle;\n",
       "    }\n",
       "\n",
       "    .dataframe tbody tr th {\n",
       "        vertical-align: top;\n",
       "    }\n",
       "\n",
       "    .dataframe thead th {\n",
       "        text-align: right;\n",
       "    }\n",
       "</style>\n",
       "<table border=\"1\" class=\"dataframe\">\n",
       "  <thead>\n",
       "    <tr style=\"text-align: right;\">\n",
       "      <th></th>\n",
       "      <th>id</th>\n",
       "      <th>imdb_id</th>\n",
       "      <th>popularity</th>\n",
       "      <th>budget</th>\n",
       "      <th>revenue</th>\n",
       "      <th>original_title</th>\n",
       "      <th>cast</th>\n",
       "      <th>homepage</th>\n",
       "      <th>director</th>\n",
       "      <th>tagline</th>\n",
       "      <th>...</th>\n",
       "      <th>overview</th>\n",
       "      <th>runtime</th>\n",
       "      <th>genres</th>\n",
       "      <th>production_companies</th>\n",
       "      <th>release_date</th>\n",
       "      <th>vote_count</th>\n",
       "      <th>vote_average</th>\n",
       "      <th>release_year</th>\n",
       "      <th>budget_adj</th>\n",
       "      <th>revenue_adj</th>\n",
       "    </tr>\n",
       "  </thead>\n",
       "  <tbody>\n",
       "    <tr>\n",
       "      <th>0</th>\n",
       "      <td>135397</td>\n",
       "      <td>tt0369610</td>\n",
       "      <td>32.985763</td>\n",
       "      <td>150000000</td>\n",
       "      <td>1513528810</td>\n",
       "      <td>Jurassic World</td>\n",
       "      <td>Chris Pratt|Bryce Dallas Howard|Irrfan Khan|Vi...</td>\n",
       "      <td>http://www.jurassicworld.com/</td>\n",
       "      <td>Colin Trevorrow</td>\n",
       "      <td>The park is open.</td>\n",
       "      <td>...</td>\n",
       "      <td>Twenty-two years after the events of Jurassic ...</td>\n",
       "      <td>124</td>\n",
       "      <td>Action|Adventure|Science Fiction|Thriller</td>\n",
       "      <td>Universal Studios|Amblin Entertainment|Legenda...</td>\n",
       "      <td>6/9/2015</td>\n",
       "      <td>5562</td>\n",
       "      <td>6.5</td>\n",
       "      <td>2015</td>\n",
       "      <td>137999939.3</td>\n",
       "      <td>1.392446e+09</td>\n",
       "    </tr>\n",
       "    <tr>\n",
       "      <th>1</th>\n",
       "      <td>76341</td>\n",
       "      <td>tt1392190</td>\n",
       "      <td>28.419936</td>\n",
       "      <td>150000000</td>\n",
       "      <td>378436354</td>\n",
       "      <td>Mad Max: Fury Road</td>\n",
       "      <td>Tom Hardy|Charlize Theron|Hugh Keays-Byrne|Nic...</td>\n",
       "      <td>http://www.madmaxmovie.com/</td>\n",
       "      <td>George Miller</td>\n",
       "      <td>What a Lovely Day.</td>\n",
       "      <td>...</td>\n",
       "      <td>An apocalyptic story set in the furthest reach...</td>\n",
       "      <td>120</td>\n",
       "      <td>Action|Adventure|Science Fiction|Thriller</td>\n",
       "      <td>Village Roadshow Pictures|Kennedy Miller Produ...</td>\n",
       "      <td>5/13/2015</td>\n",
       "      <td>6185</td>\n",
       "      <td>7.1</td>\n",
       "      <td>2015</td>\n",
       "      <td>137999939.3</td>\n",
       "      <td>3.481613e+08</td>\n",
       "    </tr>\n",
       "    <tr>\n",
       "      <th>2</th>\n",
       "      <td>262500</td>\n",
       "      <td>tt2908446</td>\n",
       "      <td>13.112507</td>\n",
       "      <td>110000000</td>\n",
       "      <td>295238201</td>\n",
       "      <td>Insurgent</td>\n",
       "      <td>Shailene Woodley|Theo James|Kate Winslet|Ansel...</td>\n",
       "      <td>http://www.thedivergentseries.movie/#insurgent</td>\n",
       "      <td>Robert Schwentke</td>\n",
       "      <td>One Choice Can Destroy You</td>\n",
       "      <td>...</td>\n",
       "      <td>Beatrice Prior must confront her inner demons ...</td>\n",
       "      <td>119</td>\n",
       "      <td>Adventure|Science Fiction|Thriller</td>\n",
       "      <td>Summit Entertainment|Mandeville Films|Red Wago...</td>\n",
       "      <td>3/18/2015</td>\n",
       "      <td>2480</td>\n",
       "      <td>6.3</td>\n",
       "      <td>2015</td>\n",
       "      <td>101199955.5</td>\n",
       "      <td>2.716190e+08</td>\n",
       "    </tr>\n",
       "  </tbody>\n",
       "</table>\n",
       "<p>3 rows × 21 columns</p>\n",
       "</div>"
      ],
      "text/plain": [
       "       id    imdb_id  popularity     budget     revenue      original_title  \\\n",
       "0  135397  tt0369610   32.985763  150000000  1513528810      Jurassic World   \n",
       "1   76341  tt1392190   28.419936  150000000   378436354  Mad Max: Fury Road   \n",
       "2  262500  tt2908446   13.112507  110000000   295238201           Insurgent   \n",
       "\n",
       "                                                cast  \\\n",
       "0  Chris Pratt|Bryce Dallas Howard|Irrfan Khan|Vi...   \n",
       "1  Tom Hardy|Charlize Theron|Hugh Keays-Byrne|Nic...   \n",
       "2  Shailene Woodley|Theo James|Kate Winslet|Ansel...   \n",
       "\n",
       "                                         homepage          director  \\\n",
       "0                   http://www.jurassicworld.com/   Colin Trevorrow   \n",
       "1                     http://www.madmaxmovie.com/     George Miller   \n",
       "2  http://www.thedivergentseries.movie/#insurgent  Robert Schwentke   \n",
       "\n",
       "                      tagline  ...  \\\n",
       "0           The park is open.  ...   \n",
       "1          What a Lovely Day.  ...   \n",
       "2  One Choice Can Destroy You  ...   \n",
       "\n",
       "                                            overview runtime  \\\n",
       "0  Twenty-two years after the events of Jurassic ...     124   \n",
       "1  An apocalyptic story set in the furthest reach...     120   \n",
       "2  Beatrice Prior must confront her inner demons ...     119   \n",
       "\n",
       "                                      genres  \\\n",
       "0  Action|Adventure|Science Fiction|Thriller   \n",
       "1  Action|Adventure|Science Fiction|Thriller   \n",
       "2         Adventure|Science Fiction|Thriller   \n",
       "\n",
       "                                production_companies release_date vote_count  \\\n",
       "0  Universal Studios|Amblin Entertainment|Legenda...     6/9/2015       5562   \n",
       "1  Village Roadshow Pictures|Kennedy Miller Produ...    5/13/2015       6185   \n",
       "2  Summit Entertainment|Mandeville Films|Red Wago...    3/18/2015       2480   \n",
       "\n",
       "   vote_average  release_year   budget_adj   revenue_adj  \n",
       "0           6.5          2015  137999939.3  1.392446e+09  \n",
       "1           7.1          2015  137999939.3  3.481613e+08  \n",
       "2           6.3          2015  101199955.5  2.716190e+08  \n",
       "\n",
       "[3 rows x 21 columns]"
      ]
     },
     "metadata": {},
     "output_type": "display_data"
    }
   ],
   "source": [
    "display(data.head(3))"
   ]
  },
  {
   "cell_type": "code",
   "execution_count": 5,
   "metadata": {},
   "outputs": [
    {
     "name": "stdout",
     "output_type": "stream",
     "text": [
      "<class 'pandas.core.frame.DataFrame'>\n",
      "RangeIndex: 10866 entries, 0 to 10865\n",
      "Data columns (total 21 columns):\n",
      " #   Column                Non-Null Count  Dtype  \n",
      "---  ------                --------------  -----  \n",
      " 0   id                    10866 non-null  int64  \n",
      " 1   imdb_id               10856 non-null  object \n",
      " 2   popularity            10866 non-null  float64\n",
      " 3   budget                10866 non-null  int64  \n",
      " 4   revenue               10866 non-null  int64  \n",
      " 5   original_title        10866 non-null  object \n",
      " 6   cast                  10790 non-null  object \n",
      " 7   homepage              2936 non-null   object \n",
      " 8   director              10822 non-null  object \n",
      " 9   tagline               8042 non-null   object \n",
      " 10  keywords              9373 non-null   object \n",
      " 11  overview              10862 non-null  object \n",
      " 12  runtime               10866 non-null  int64  \n",
      " 13  genres                10843 non-null  object \n",
      " 14  production_companies  9836 non-null   object \n",
      " 15  release_date          10866 non-null  object \n",
      " 16  vote_count            10866 non-null  int64  \n",
      " 17  vote_average          10866 non-null  float64\n",
      " 18  release_year          10866 non-null  int64  \n",
      " 19  budget_adj            10866 non-null  float64\n",
      " 20  revenue_adj           10866 non-null  float64\n",
      "dtypes: float64(4), int64(6), object(11)\n",
      "memory usage: 1.7+ MB\n"
     ]
    }
   ],
   "source": [
    "data.info()"
   ]
  },
  {
   "cell_type": "code",
   "execution_count": 6,
   "metadata": {},
   "outputs": [
    {
     "data": {
      "text/plain": [
       "id                         0\n",
       "imdb_id                   10\n",
       "popularity                 0\n",
       "budget                     0\n",
       "revenue                    0\n",
       "original_title             0\n",
       "cast                      76\n",
       "homepage                7930\n",
       "director                  44\n",
       "tagline                 2824\n",
       "keywords                1493\n",
       "overview                   4\n",
       "runtime                    0\n",
       "genres                    23\n",
       "production_companies    1030\n",
       "release_date               0\n",
       "vote_count                 0\n",
       "vote_average               0\n",
       "release_year               0\n",
       "budget_adj                 0\n",
       "revenue_adj                0\n",
       "dtype: int64"
      ]
     },
     "execution_count": 6,
     "metadata": {},
     "output_type": "execute_result"
    }
   ],
   "source": [
    "data.isna().sum()"
   ]
  },
  {
   "cell_type": "code",
   "execution_count": 7,
   "metadata": {},
   "outputs": [
    {
     "data": {
      "text/plain": [
       "False    10865\n",
       "True         1\n",
       "dtype: int64"
      ]
     },
     "execution_count": 7,
     "metadata": {},
     "output_type": "execute_result"
    }
   ],
   "source": [
    "data.duplicated().value_counts()"
   ]
  },
  {
   "cell_type": "code",
   "execution_count": 8,
   "metadata": {},
   "outputs": [],
   "source": [
    "data = data.drop_duplicates()"
   ]
  },
  {
   "cell_type": "code",
   "execution_count": 9,
   "metadata": {},
   "outputs": [
    {
     "name": "stdout",
     "output_type": "stream",
     "text": [
      "1/1/1960\n",
      "9/9/2015\n"
     ]
    }
   ],
   "source": [
    "print(data['release_date'].min())\n",
    "print(data['release_date'].max())"
   ]
  },
  {
   "attachments": {},
   "cell_type": "markdown",
   "metadata": {},
   "source": [
    "<style>\n",
    "    .bordered-cell {\n",
    "        border: 3px solid black;\n",
    "        padding: 10px;\n",
    "    }\n",
    "</style>\n",
    "\n",
    "<div class=\"bordered-cell\">\n",
    "\n",
    "<font color='green'>**Вывод - Общий анализ:**</font>\n",
    "\n",
    "1. Пропуски есть\n",
    "2. Один явный дубликат\n",
    "3. 21 столбец, 10800 строк\n",
    "4. Временной период от 1960 по 2015 год"
   ]
  },
  {
   "cell_type": "markdown",
   "metadata": {},
   "source": [
    "# <a id='toc4_'></a>[Подготовка данных](#toc0_)"
   ]
  },
  {
   "cell_type": "markdown",
   "metadata": {},
   "source": [
    "## <a id='toc4_1_'></a>[Индексы (index, id, imdb_id)](#toc0_)"
   ]
  },
  {
   "cell_type": "code",
   "execution_count": 10,
   "metadata": {},
   "outputs": [
    {
     "data": {
      "text/html": [
       "<div>\n",
       "<style scoped>\n",
       "    .dataframe tbody tr th:only-of-type {\n",
       "        vertical-align: middle;\n",
       "    }\n",
       "\n",
       "    .dataframe tbody tr th {\n",
       "        vertical-align: top;\n",
       "    }\n",
       "\n",
       "    .dataframe thead th {\n",
       "        text-align: right;\n",
       "    }\n",
       "</style>\n",
       "<table border=\"1\" class=\"dataframe\">\n",
       "  <thead>\n",
       "    <tr style=\"text-align: right;\">\n",
       "      <th></th>\n",
       "      <th>id</th>\n",
       "      <th>release_date</th>\n",
       "    </tr>\n",
       "  </thead>\n",
       "  <tbody>\n",
       "    <tr>\n",
       "      <th>8088</th>\n",
       "      <td>5</td>\n",
       "      <td>12/25/1995</td>\n",
       "    </tr>\n",
       "    <tr>\n",
       "      <th>10249</th>\n",
       "      <td>6</td>\n",
       "      <td>10/15/1993</td>\n",
       "    </tr>\n",
       "    <tr>\n",
       "      <th>1329</th>\n",
       "      <td>11</td>\n",
       "      <td>3/20/1977</td>\n",
       "    </tr>\n",
       "    <tr>\n",
       "      <th>4955</th>\n",
       "      <td>12</td>\n",
       "      <td>5/30/2003</td>\n",
       "    </tr>\n",
       "  </tbody>\n",
       "</table>\n",
       "</div>"
      ],
      "text/plain": [
       "       id release_date\n",
       "8088    5   12/25/1995\n",
       "10249   6   10/15/1993\n",
       "1329   11    3/20/1977\n",
       "4955   12    5/30/2003"
      ]
     },
     "metadata": {},
     "output_type": "display_data"
    }
   ],
   "source": [
    "# Порядок индексов\n",
    "display(data[['id', 'release_date']].sort_values(by='id').head(4))"
   ]
  },
  {
   "attachments": {},
   "cell_type": "markdown",
   "metadata": {},
   "source": [
    "Нужно сделать новые индексы, так как пропуски в imdb id, а id из данных начинается с 5 и не идёт по порядку"
   ]
  },
  {
   "attachments": {},
   "cell_type": "markdown",
   "metadata": {},
   "source": [
    "Удалю столбцы id и imdb_id, отсортирую по времени и переделаю индекс"
   ]
  },
  {
   "cell_type": "code",
   "execution_count": 11,
   "metadata": {},
   "outputs": [],
   "source": [
    "# Удаляю старые id\n",
    "data = data.drop(['id', 'imdb_id'], axis=1)"
   ]
  },
  {
   "cell_type": "code",
   "execution_count": 12,
   "metadata": {},
   "outputs": [],
   "source": [
    "# Новый индекс сортированный по дате релиза\n",
    "data = data.sort_values(by='release_date').reset_index(drop=True)"
   ]
  },
  {
   "cell_type": "markdown",
   "metadata": {},
   "source": [
    "## <a id='toc4_2_'></a>[Время релиза (release_date)](#toc0_)\n",
    "\n",
    "<font color='orange' font size=4>**Переведу в Datetime и добавлю признаки дня/недели**</font>"
   ]
  },
  {
   "cell_type": "code",
   "execution_count": 13,
   "metadata": {},
   "outputs": [],
   "source": [
    "# data['release_date'][data['original_title']=='Jurassic World']"
   ]
  },
  {
   "cell_type": "code",
   "execution_count": 14,
   "metadata": {},
   "outputs": [],
   "source": [
    "# Перевожу в формат datetime\n",
    "data['release_date'] = pd.to_datetime(data['release_date'], format='%m/%d/%Y')"
   ]
  },
  {
   "cell_type": "code",
   "execution_count": 15,
   "metadata": {},
   "outputs": [],
   "source": [
    "# data['release_date'][data['original_title']=='Jurassic World']"
   ]
  },
  {
   "cell_type": "code",
   "execution_count": 16,
   "metadata": {},
   "outputs": [],
   "source": [
    "# Добавлю в датасет признаки для дня/недели/квартала\n",
    "\n",
    "data['release_day'] = data['release_date'].dt.day\n",
    "data['release_month'] = data['release_date'].dt.month\n",
    "data['release_quarter'] = data['release_date'].dt.quarter\n",
    "data['release_day_of_week'] = data['release_date'].dt.dayofweek\n",
    "data['release_day_of_year'] = data['release_date'].dt.day_of_year"
   ]
  },
  {
   "cell_type": "markdown",
   "metadata": {},
   "source": [
    "## <a id='toc4_3_'></a>[Выручка и бюджет (revenue_adj, budget_adj, revenue, budget)](#toc0_)"
   ]
  },
  {
   "attachments": {},
   "cell_type": "markdown",
   "metadata": {},
   "source": [
    "<font color='orange' font size=4>**Целевой признак для работы**</font> - выручка с поправкой на инфляцию, так как выручка и продажи билетов влияют на прибыль кинотеатров, вычитать из нее затраты на производоство фильма неправильно."
   ]
  },
  {
   "cell_type": "code",
   "execution_count": 17,
   "metadata": {},
   "outputs": [
    {
     "data": {
      "text/html": [
       "<div>\n",
       "<style scoped>\n",
       "    .dataframe tbody tr th:only-of-type {\n",
       "        vertical-align: middle;\n",
       "    }\n",
       "\n",
       "    .dataframe tbody tr th {\n",
       "        vertical-align: top;\n",
       "    }\n",
       "\n",
       "    .dataframe thead th {\n",
       "        text-align: right;\n",
       "    }\n",
       "</style>\n",
       "<table border=\"1\" class=\"dataframe\">\n",
       "  <thead>\n",
       "    <tr style=\"text-align: right;\">\n",
       "      <th></th>\n",
       "      <th>revenue_adj</th>\n",
       "      <th>budget_adj</th>\n",
       "      <th>revenue</th>\n",
       "      <th>budget</th>\n",
       "    </tr>\n",
       "  </thead>\n",
       "  <tbody>\n",
       "    <tr>\n",
       "      <th>count</th>\n",
       "      <td>1.086500e+04</td>\n",
       "      <td>1.086500e+04</td>\n",
       "      <td>1.086500e+04</td>\n",
       "      <td>1.086500e+04</td>\n",
       "    </tr>\n",
       "    <tr>\n",
       "      <th>mean</th>\n",
       "      <td>5.136900e+07</td>\n",
       "      <td>1.754989e+07</td>\n",
       "      <td>3.982690e+07</td>\n",
       "      <td>1.462429e+07</td>\n",
       "    </tr>\n",
       "    <tr>\n",
       "      <th>std</th>\n",
       "      <td>1.446383e+08</td>\n",
       "      <td>3.430753e+07</td>\n",
       "      <td>1.170083e+08</td>\n",
       "      <td>3.091428e+07</td>\n",
       "    </tr>\n",
       "    <tr>\n",
       "      <th>min</th>\n",
       "      <td>0.000000e+00</td>\n",
       "      <td>0.000000e+00</td>\n",
       "      <td>0.000000e+00</td>\n",
       "      <td>0.000000e+00</td>\n",
       "    </tr>\n",
       "    <tr>\n",
       "      <th>25%</th>\n",
       "      <td>0.000000e+00</td>\n",
       "      <td>0.000000e+00</td>\n",
       "      <td>0.000000e+00</td>\n",
       "      <td>0.000000e+00</td>\n",
       "    </tr>\n",
       "    <tr>\n",
       "      <th>50%</th>\n",
       "      <td>0.000000e+00</td>\n",
       "      <td>0.000000e+00</td>\n",
       "      <td>0.000000e+00</td>\n",
       "      <td>0.000000e+00</td>\n",
       "    </tr>\n",
       "    <tr>\n",
       "      <th>75%</th>\n",
       "      <td>3.370173e+07</td>\n",
       "      <td>2.085325e+07</td>\n",
       "      <td>2.400000e+07</td>\n",
       "      <td>1.500000e+07</td>\n",
       "    </tr>\n",
       "    <tr>\n",
       "      <th>max</th>\n",
       "      <td>2.827124e+09</td>\n",
       "      <td>4.250000e+08</td>\n",
       "      <td>2.781506e+09</td>\n",
       "      <td>4.250000e+08</td>\n",
       "    </tr>\n",
       "  </tbody>\n",
       "</table>\n",
       "</div>"
      ],
      "text/plain": [
       "        revenue_adj    budget_adj       revenue        budget\n",
       "count  1.086500e+04  1.086500e+04  1.086500e+04  1.086500e+04\n",
       "mean   5.136900e+07  1.754989e+07  3.982690e+07  1.462429e+07\n",
       "std    1.446383e+08  3.430753e+07  1.170083e+08  3.091428e+07\n",
       "min    0.000000e+00  0.000000e+00  0.000000e+00  0.000000e+00\n",
       "25%    0.000000e+00  0.000000e+00  0.000000e+00  0.000000e+00\n",
       "50%    0.000000e+00  0.000000e+00  0.000000e+00  0.000000e+00\n",
       "75%    3.370173e+07  2.085325e+07  2.400000e+07  1.500000e+07\n",
       "max    2.827124e+09  4.250000e+08  2.781506e+09  4.250000e+08"
      ]
     },
     "execution_count": 17,
     "metadata": {},
     "output_type": "execute_result"
    }
   ],
   "source": [
    "data[['revenue_adj', 'budget_adj', 'revenue', 'budget']].describe()"
   ]
  },
  {
   "cell_type": "code",
   "execution_count": 18,
   "metadata": {},
   "outputs": [],
   "source": [
    "# Убираю столбцы с бюджетом и выручкой без поправки на инфляцию, они менее актуальны, чем с поправкой\n",
    "data = data.drop(['revenue', 'budget'], axis=1)"
   ]
  },
  {
   "cell_type": "code",
   "execution_count": 19,
   "metadata": {},
   "outputs": [
    {
     "data": {
      "text/plain": [
       "(6016, 2)"
      ]
     },
     "execution_count": 19,
     "metadata": {},
     "output_type": "execute_result"
    }
   ],
   "source": [
    "data[['original_title', 'release_date']][data['revenue_adj'] == 0].shape"
   ]
  },
  {
   "attachments": {},
   "cell_type": "markdown",
   "metadata": {},
   "source": [
    "Большая часть данных не содержит целевого признака, на данный момент оставлю как есть (нужно для подсчёта фильмов), а перед обучением удалю строки с нулями\n",
    "\n",
    "Максимумы адекватны, выбросов нет"
   ]
  },
  {
   "cell_type": "markdown",
   "metadata": {},
   "source": [
    "## <a id='toc4_4_'></a>[Оценки зрителей (popularity, vote_count, vote_average)](#toc0_)"
   ]
  },
  {
   "cell_type": "code",
   "execution_count": 20,
   "metadata": {},
   "outputs": [
    {
     "data": {
      "text/html": [
       "<div>\n",
       "<style scoped>\n",
       "    .dataframe tbody tr th:only-of-type {\n",
       "        vertical-align: middle;\n",
       "    }\n",
       "\n",
       "    .dataframe tbody tr th {\n",
       "        vertical-align: top;\n",
       "    }\n",
       "\n",
       "    .dataframe thead th {\n",
       "        text-align: right;\n",
       "    }\n",
       "</style>\n",
       "<table border=\"1\" class=\"dataframe\">\n",
       "  <thead>\n",
       "    <tr style=\"text-align: right;\">\n",
       "      <th></th>\n",
       "      <th>popularity</th>\n",
       "      <th>vote_count</th>\n",
       "      <th>vote_average</th>\n",
       "    </tr>\n",
       "  </thead>\n",
       "  <tbody>\n",
       "    <tr>\n",
       "      <th>count</th>\n",
       "      <td>10865.000000</td>\n",
       "      <td>10865.000000</td>\n",
       "      <td>10865.000000</td>\n",
       "    </tr>\n",
       "    <tr>\n",
       "      <th>mean</th>\n",
       "      <td>0.646446</td>\n",
       "      <td>217.399632</td>\n",
       "      <td>5.975012</td>\n",
       "    </tr>\n",
       "    <tr>\n",
       "      <th>std</th>\n",
       "      <td>1.000231</td>\n",
       "      <td>575.644627</td>\n",
       "      <td>0.935138</td>\n",
       "    </tr>\n",
       "    <tr>\n",
       "      <th>min</th>\n",
       "      <td>0.000065</td>\n",
       "      <td>10.000000</td>\n",
       "      <td>1.500000</td>\n",
       "    </tr>\n",
       "    <tr>\n",
       "      <th>25%</th>\n",
       "      <td>0.207575</td>\n",
       "      <td>17.000000</td>\n",
       "      <td>5.400000</td>\n",
       "    </tr>\n",
       "    <tr>\n",
       "      <th>50%</th>\n",
       "      <td>0.383831</td>\n",
       "      <td>38.000000</td>\n",
       "      <td>6.000000</td>\n",
       "    </tr>\n",
       "    <tr>\n",
       "      <th>75%</th>\n",
       "      <td>0.713857</td>\n",
       "      <td>146.000000</td>\n",
       "      <td>6.600000</td>\n",
       "    </tr>\n",
       "    <tr>\n",
       "      <th>max</th>\n",
       "      <td>32.985763</td>\n",
       "      <td>9767.000000</td>\n",
       "      <td>9.200000</td>\n",
       "    </tr>\n",
       "  </tbody>\n",
       "</table>\n",
       "</div>"
      ],
      "text/plain": [
       "         popularity    vote_count  vote_average\n",
       "count  10865.000000  10865.000000  10865.000000\n",
       "mean       0.646446    217.399632      5.975012\n",
       "std        1.000231    575.644627      0.935138\n",
       "min        0.000065     10.000000      1.500000\n",
       "25%        0.207575     17.000000      5.400000\n",
       "50%        0.383831     38.000000      6.000000\n",
       "75%        0.713857    146.000000      6.600000\n",
       "max       32.985763   9767.000000      9.200000"
      ]
     },
     "execution_count": 20,
     "metadata": {},
     "output_type": "execute_result"
    }
   ],
   "source": [
    "data[['popularity', 'vote_count', 'vote_average']].describe()"
   ]
  },
  {
   "attachments": {},
   "cell_type": "markdown",
   "metadata": {},
   "source": [
    "Значения выглядят адекватными и без выбросов"
   ]
  },
  {
   "cell_type": "markdown",
   "metadata": {},
   "source": [
    "## <a id='toc4_5_'></a>[Текстовые описания фильма (homepage, tagline, overview, keywords, genres, cast, director, production_companies)](#toc0_)"
   ]
  },
  {
   "attachments": {},
   "cell_type": "markdown",
   "metadata": {},
   "source": [
    "<font color='orange' font size=4>**homepage, tagline, overview**</font>\n",
    "\n",
    "Данные о сайте фильма и описание фильма - удалю, для анализа они не нужны. Хотя описание фильма (overview) можно было бы использовать, но это сильно увеличит размеры данных и вряд-ли даст значимый прирост в метрике. Переделаю homepage - в значения \"есть или нет\""
   ]
  },
  {
   "cell_type": "code",
   "execution_count": 21,
   "metadata": {},
   "outputs": [],
   "source": [
    "# удаляю лишние\n",
    "data = data.drop(['tagline', 'overview'], axis=1)"
   ]
  },
  {
   "cell_type": "code",
   "execution_count": 22,
   "metadata": {},
   "outputs": [],
   "source": [
    "# есть ли страница фильма в интернете\n",
    "data['homepage'] = data['homepage'].notnull().astype(int)"
   ]
  },
  {
   "attachments": {},
   "cell_type": "markdown",
   "metadata": {},
   "source": [
    "<font color='orange' font size=4>**keywords, genres, cast, director, production_companies**</font>\n",
    "\n",
    "- Все эти признаки могут помочь модели, их нужно перекодировать в бинарные признаки (кодировка в функции ниже)\n",
    "- Добавлю количество актеров отмеченные в cast в отдельный столбец"
   ]
  },
  {
   "cell_type": "code",
   "execution_count": 23,
   "metadata": {},
   "outputs": [],
   "source": [
    "# Списки признаков\n",
    "features_list_OHE = ['keywords', 'genres',\n",
    "                     'cast', 'director', 'production_companies']\n",
    "features_numerical = ['popularity', 'runtime', 'vote_count', 'budget_adj']"
   ]
  },
  {
   "cell_type": "code",
   "execution_count": 24,
   "metadata": {},
   "outputs": [],
   "source": [
    "# Заполню пропуски заглушки типо no_info\n",
    "data['keywords'] = data['keywords'].fillna('no_keywords')\n",
    "data['genres'] = data['genres'].fillna('no_genres')\n",
    "data['cast'] = data['cast'].fillna('no_cast')\n",
    "data['director'] = data['director'].fillna('no_director')\n",
    "data['production_companies'] = data['production_companies'].fillna(\n",
    "    'no_production_companies')"
   ]
  },
  {
   "cell_type": "code",
   "execution_count": 25,
   "metadata": {},
   "outputs": [],
   "source": [
    "# Добавлю признак \"cast_num\" содержащий количество актёров\n",
    "data['cast_num'] = data['cast'].str.count('\\|') + 1\n",
    "data['cast_num'] = data['cast_num'].fillna(0).astype(int)\n",
    "# print(data[['cast', 'cast_num']].head(20))"
   ]
  },
  {
   "attachments": {},
   "cell_type": "markdown",
   "metadata": {},
   "source": [
    "Перевожу строки в столбцах в списки и в нижний регистр"
   ]
  },
  {
   "cell_type": "code",
   "execution_count": 26,
   "metadata": {},
   "outputs": [],
   "source": [
    "for feature in features_list_OHE:\n",
    "    data[feature] = data[feature].str.lower().str.split('|')"
   ]
  },
  {
   "attachments": {},
   "cell_type": "markdown",
   "metadata": {},
   "source": [
    "<div class=\"alert\" style=\"background-color:#ead7f7;color:#8737bf\">\n",
    "    <font size=\"5\"><b>Важная часть!</b></font>\n",
    "   \n",
    "Ниже в ячейке показно количество уникальных значений для столбцов, и если их бинарно классифицировать, таблица будет довольно большой для вычислений. Я пробовал сделать классификацию каждого значения, но модель становилась хуже\n",
    "</div>"
   ]
  },
  {
   "cell_type": "code",
   "execution_count": 27,
   "metadata": {},
   "outputs": [
    {
     "name": "stdout",
     "output_type": "stream",
     "text": [
      "keywords 7879\n",
      "genres 21\n",
      "cast 19026\n",
      "director 5363\n",
      "production_companies 7862\n"
     ]
    }
   ],
   "source": [
    "for feature in features_list_OHE:\n",
    "    print(str(feature), data[feature].explode().nunique())"
   ]
  },
  {
   "attachments": {},
   "cell_type": "markdown",
   "metadata": {},
   "source": [
    "<font color='orange' font size=4>**Сделаю функцию, которая которая кодирует признаки (в ней можно выбрать разные параметры).**</font>\n",
    "\n",
    "\n",
    "Суть работы: кодирует признаки по выбору. Пример работы: выбираю год и top_n = 50. Функция находит топ-50 (по выручке) лучших актеров, режиссеров, ключевых слов, компаний. И классифицирует их. Жарны классифицируются полностью всегда.\n",
    "\n",
    "Параметры:\n",
    "1. data - датасет который будет кодирован\n",
    "2. years - год с которого начинаются данные. По дефолту стоит год 1960 (он включает все данные)\n",
    "3. top_n - количество классификаций для топ по прибыльности признаков. По дефолту = 100\n"
   ]
  },
  {
   "cell_type": "code",
   "execution_count": 28,
   "metadata": {},
   "outputs": [],
   "source": [
    "def feature_encoding(data, years=1960, top_n=100):\n",
    "\n",
    "    # Список столбцов для работы\n",
    "    features_list = ['genres', 'director',\n",
    "                     'production_companies', 'keywords', 'cast']\n",
    "\n",
    "    # Оставляю только необходимый временной период\n",
    "    data = data[data['release_year'] >= years]\n",
    "\n",
    "    # Удаление строк в которох нет данных о бюджете или выручке\n",
    "    data = data[data['revenue_adj'] != 0]\n",
    "    data = data[data['budget_adj'] != 0]\n",
    "\n",
    "    # Классифицирую все жанры\n",
    "    mlb = MultiLabelBinarizer()\n",
    "    binary_features = pd.DataFrame(mlb.fit_transform(data['genres']),\n",
    "                                   columns=mlb.classes_,\n",
    "                                   index=data.index)\n",
    "    binary_features = binary_features.add_suffix('_' + 'genres')\n",
    "    data = pd.concat([data, binary_features], axis=1)\n",
    "\n",
    "    # Классифицирую top-n актеров (лучших по сборам)\n",
    "    # Создание нового DataFrame с актерами и суммарной выручкой\n",
    "    actor_revenue = data.explode('cast').groupby(\n",
    "        'cast')['revenue_adj'].sum().reset_index()\n",
    "    # Выбор top-n актеров по суммарной выручке\n",
    "    top_actors = actor_revenue.nlargest(top_n, 'revenue_adj')\n",
    "    # Создание столбцов классификации для каждого актера\n",
    "    for actor in top_actors['cast']:\n",
    "        data['actor_' +\n",
    "             actor] = data['cast'].apply(lambda x: 1 if actor in x else 0)\n",
    "\n",
    "    # Классифицирую N режисеров (лучших по сборам)\n",
    "    data['director'] = data['director'].apply(\n",
    "        lambda x: x[0] if isinstance(x, list) else x)\n",
    "    director_revenue = data.groupby(\n",
    "        'director')['revenue_adj'].sum().reset_index()\n",
    "    top_directors = director_revenue.nlargest(top_n, 'revenue_adj')\n",
    "    for director in top_directors['director']:\n",
    "        data['director_' +\n",
    "             director] = data['director'].apply(lambda x: 1 if x == director else 0)\n",
    "\n",
    "    # Классифицирую top-n production_companies (лучших по сборам)\n",
    "    # Создание нового DataFrame с production_companies и суммарной выручкой\n",
    "    production_companies_revenue = data.explode('production_companies').groupby(\n",
    "        'production_companies')['revenue_adj'].sum().reset_index()\n",
    "    # Выбор top-n production_companies по суммарной выручке\n",
    "    top_production_companies = production_companies_revenue.nlargest(\n",
    "        top_n, 'revenue_adj')\n",
    "    # Создание столбцов классификации для каждого production_companies\n",
    "    for production_companie in top_production_companies['production_companies']:\n",
    "        data['production_companie_' + production_companie] = data['production_companies'].apply(\n",
    "            lambda x: 1 if production_companie in x else 0)\n",
    "\n",
    "    # Классифицирую top-n keywords (лучших по сборам)\n",
    "    # Создание нового DataFrame с keywords и суммарной выручкой\n",
    "    keywords_revenue = data.explode('keywords').groupby(\n",
    "        'keywords')['revenue_adj'].sum().reset_index()\n",
    "    # Выбор top-n keywords по суммарной выручке\n",
    "    top_keywords = keywords_revenue.nlargest(top_n, 'revenue_adj')\n",
    "    # Создание столбцов классификации для каждого keywords\n",
    "    for keyword in top_keywords['keywords']:\n",
    "        data['keyword_' +\n",
    "             keyword] = data['keywords'].apply(lambda x: 1 if keyword in x else 0)\n",
    "\n",
    "    # Удаление столбцов с признаками которые были обработаны\n",
    "    data = data.drop(features_list, axis=1)\n",
    "    data = data.drop(['original_title', 'release_date'], axis=1)\n",
    "\n",
    "    # print(top_keywords)\n",
    "    return data"
   ]
  },
  {
   "cell_type": "code",
   "execution_count": 29,
   "metadata": {},
   "outputs": [],
   "source": [
    "# Функция для разделения датасета на трейн/тест + дополнительно возможность масштабирования\n",
    "\n",
    "def data_split(data, scaling=False):\n",
    "\n",
    "    target = data['revenue_adj']\n",
    "    features = data.drop(['revenue_adj'], axis=1)\n",
    "    feature_list_all = features.columns\n",
    "\n",
    "    X_train, X_test, y_train, y_test = train_test_split(\n",
    "        features, target, test_size=0.2, random_state=12345)\n",
    "\n",
    "    if scaling:\n",
    "        # Создаю скейлер\n",
    "        scaler = StandardScaler()\n",
    "        # Обучаю скейлер\n",
    "        scaler.fit(X_train)\n",
    "        # Трансформирую данные\n",
    "        X_train = scaler.transform(X_train)\n",
    "        X_test = scaler.transform(X_test)\n",
    "\n",
    "    return X_train, X_test, y_train, y_test, feature_list_all"
   ]
  },
  {
   "cell_type": "markdown",
   "metadata": {},
   "source": [
    "# <a id='toc5_'></a>[Исследовательский анализ](#toc0_)"
   ]
  },
  {
   "attachments": {},
   "cell_type": "markdown",
   "metadata": {},
   "source": [
    "Я буду рассматривать этот анализ только в отношении построения модели, не буду делать что-то вроде топ-10 режиссеров, самые крупные фильмы и т.д.\n",
    "\n",
    "- Создаю новую копию датасета для EDA\n",
    "- Перевожу нулевые значения бюджета и выручки в nan\n",
    "- Делю выручку на миллион, для удобства презентации"
   ]
  },
  {
   "cell_type": "code",
   "execution_count": 30,
   "metadata": {},
   "outputs": [],
   "source": [
    "EDA_data = data.copy()\n",
    "EDA_data['revenue_adj'] /= 1000000\n",
    "EDA_data['budget_adj'] = EDA_data['budget_adj'].replace(0, np.nan)\n",
    "EDA_data['revenue_adj'] = EDA_data['revenue_adj'].replace(0, np.nan)"
   ]
  },
  {
   "attachments": {},
   "cell_type": "markdown",
   "metadata": {},
   "source": [
    "<font color='orange' font size=4>Сколько всего фильмов выходит в год?</font>"
   ]
  },
  {
   "cell_type": "code",
   "execution_count": 31,
   "metadata": {},
   "outputs": [
    {
     "data": {
      "text/plain": [
       "<AxesSubplot:xlabel='release_year', ylabel='Count'>"
      ]
     },
     "execution_count": 31,
     "metadata": {},
     "output_type": "execute_result"
    },
    {
     "data": {
      "image/png": "[encoded data removed]",
      "text/plain": [
       "<Figure size 640x480 with 1 Axes>"
      ]
     },
     "metadata": {},
     "output_type": "display_data"
    }
   ],
   "source": [
    "sns.histplot(EDA_data['release_year'])"
   ]
  },
  {
   "attachments": {},
   "cell_type": "markdown",
   "metadata": {},
   "source": [
    "<font color='orange'>**Ищу актуальный период для данных**</font>\n",
    "\n",
    "Два графика вместе, средние значение выручки и сумарное (+ доверительный интервал)."
   ]
  },
  {
   "cell_type": "code",
   "execution_count": 32,
   "metadata": {},
   "outputs": [
    {
     "data": {
      "image/png": "[encoded data removed]",
      "text/plain": [
       "<Figure size 640x480 with 2 Axes>"
      ]
     },
     "metadata": {},
     "output_type": "display_data"
    }
   ],
   "source": [
    "# Создание объекта Axes\n",
    "fig, ax1 = plt.subplots()\n",
    "\n",
    "# Первый график\n",
    "sns.lineplot(data=EDA_data, x='release_year', y='revenue_adj',\n",
    "             color='red', estimator='mean', ax=ax1, label='Mean revenue')\n",
    "ax1.set_ylabel('Mean revenue, mln $')\n",
    "\n",
    "# Создание второй оси y\n",
    "ax2 = ax1.twinx()\n",
    "\n",
    "# Второй график\n",
    "sns.lineplot(data=EDA_data, x='release_year', y='revenue_adj',\n",
    "             color='blue', estimator='sum', ax=ax2, label='Total revenue')\n",
    "ax2.set_ylabel('Total revenue, mln $')\n",
    "\n",
    "ax1.set_xlabel('Release year')\n",
    "ax1.set_title('Mean and total revenue by year')\n",
    "ax1.legend(loc='upper left')\n",
    "ax2.legend(loc='upper right')\n",
    "\n",
    "# Показать график\n",
    "plt.show()"
   ]
  },
  {
   "attachments": {},
   "cell_type": "markdown",
   "metadata": {},
   "source": [
    "Выберу данные с 1985 года"
   ]
  },
  {
   "cell_type": "code",
   "execution_count": 33,
   "metadata": {},
   "outputs": [
    {
     "data": {
      "image/png": "[encoded data removed]",
      "text/plain": [
       "<Figure size 640x480 with 2 Axes>"
      ]
     },
     "metadata": {},
     "output_type": "display_data"
    }
   ],
   "source": [
    "# Установка периода\n",
    "start_year = 1985\n",
    "\n",
    "# Отбор данных в указанном периоде\n",
    "period_data = EDA_data[EDA_data['release_year'] >= start_year]\n",
    "\n",
    "# Создание объекта Axes\n",
    "fig, ax1 = plt.subplots()\n",
    "\n",
    "# Первый график\n",
    "sns.lineplot(data=period_data, x='release_year', y='revenue_adj',\n",
    "             color='red', estimator='mean', ax=ax1, label='Mean revenue')\n",
    "ax1.set_ylabel('Mean revenue, mln $')\n",
    "\n",
    "# Создание второй оси y\n",
    "ax2 = ax1.twinx()\n",
    "\n",
    "# Второй график\n",
    "sns.lineplot(data=period_data, x='release_year', y='revenue_adj',\n",
    "             color='blue', estimator='sum', ax=ax2, label='Total revenue')\n",
    "ax2.set_ylabel('Total revenue, mln $')\n",
    "\n",
    "# Настройка заголовка и меток осей\n",
    "ax1.set_xlabel('Release year')\n",
    "ax1.set_title('Mean and total revenue by year')\n",
    "\n",
    "# Отображение легенды\n",
    "ax1.legend(loc='upper left')\n",
    "ax2.legend(loc='upper right')\n",
    "\n",
    "# Показать график\n",
    "plt.show()"
   ]
  },
  {
   "attachments": {},
   "cell_type": "markdown",
   "metadata": {},
   "source": [
    "<style>\n",
    "    .bordered-cell {\n",
    "        border: 3px solid black;\n",
    "        padding: 10px;\n",
    "    }\n",
    "</style>\n",
    "\n",
    "<div class=\"bordered-cell\">\n",
    "\n",
    "<font color='green'>**Период - вывод**</font>\n",
    "\n",
    "- Данные до ~1985 года не имеют четкого тренда и имеют очень большой разброс. Для построения модели они не актуальны и даже вредны\n",
    "- Линейный тренд на суммарную выручку прослеживается с 1985 года\n",
    "- А вот данные про среднюю выручку более-менее постоянны примерно с 2005 года\n",
    "- Возможно стоит попробовать три разных периода данных (с 1985 года, с 2000 года, с 2005 года) при валидации моделей"
   ]
  },
  {
   "cell_type": "markdown",
   "metadata": {},
   "source": [
    "# <a id='toc6_'></a>[Создание моделей](#toc0_)"
   ]
  },
  {
   "attachments": {},
   "cell_type": "markdown",
   "metadata": {},
   "source": [
    "<div class=\"alert\" style=\"background-color:#ead7f7;color:#8737bf\">\n",
    "    <font size=\"5\"><b>Важная часть!</b></font>\n",
    "   \n",
    "Ниже в ячейке вызов функцит которая готовит данные для обучения и теста. Я в ней эксперементировал с раскрытием признаков. В ней можно менять параметры для подготовки признаков\n",
    "    \n",
    "</div>"
   ]
  },
  {
   "cell_type": "code",
   "execution_count": 35,
   "metadata": {},
   "outputs": [
    {
     "name": "stdout",
     "output_type": "stream",
     "text": [
      "Размеры всех данных (2500, 433)\n",
      "Размеры тренировочных данных (2000, 432)\n",
      "Размеры тестовых данных (500, 432)\n"
     ]
    }
   ],
   "source": [
    "new_data = feature_encoding(data, years=2000, top_n=100)\n",
    "X_train, X_test, y_train, y_test, feature_list_all = data_split(\n",
    "    new_data, scaling=False)\n",
    "print('Размеры всех данных', new_data.shape)\n",
    "print('Размеры тренировочных данных', X_train.shape)\n",
    "print('Размеры тестовых данных', X_test.shape)"
   ]
  },
  {
   "attachments": {},
   "cell_type": "markdown",
   "metadata": {},
   "source": [
    "<font color='orange' font size=4>**Функция для обучения моделей и сбора метрик моделей**</font>\n",
    "- model_eval(model_name, model, parameters)\n",
    "- Кросс-валидация через грид-серч\n",
    "- Выбрал разные метрики, но для интереса, главная метрика для оценки - RMSE\n",
    "- Сохраняет метрики в словарь results (потом из него датафрейм построю)\n",
    "- Сохраняет лучшие гиперпараметры в словарь best_parameters"
   ]
  },
  {
   "cell_type": "code",
   "execution_count": 37,
   "metadata": {},
   "outputs": [],
   "source": [
    "# В эти переменные я собираю метрики\n",
    "results = {}\n",
    "best_parameters = {}\n",
    "\n",
    "\n",
    "def model_eval(model_name, model, parameters):\n",
    "\n",
    "    # Параметры для скоринга и кросс-валидации\n",
    "    scoring = {'RMSE': 'neg_root_mean_squared_error', \"R2\": \"r2\",\n",
    "               'MAE': 'neg_mean_absolute_error', 'MAPE': 'neg_mean_absolute_percentage_error'}\n",
    "\n",
    "    # Гридсерч\n",
    "    grid_search_model = GridSearchCV(\n",
    "        model, parameters, cv=4, scoring=scoring, n_jobs=-1, refit=\"RMSE\")\n",
    "    grid_search_model.fit(X_train, y_train)\n",
    "\n",
    "    # Сохраняю метрики лучшей модели\n",
    "    RMSE = -grid_search_model.best_score_\n",
    "    MAE = - \\\n",
    "        grid_search_model.cv_results_[\n",
    "            'mean_test_MAE'][grid_search_model.best_index_]\n",
    "    R2 = grid_search_model.cv_results_[\n",
    "        'mean_test_R2'][grid_search_model.best_index_]\n",
    "    MAPE = - \\\n",
    "        grid_search_model.cv_results_[\n",
    "            'mean_test_MAPE'][grid_search_model.best_index_]\n",
    "\n",
    "    \"\"\"     # Вывод на экран метрик\n",
    "    print('Метрики для модели', model_name)\n",
    "    print('RMSE =', RMSE)\n",
    "    print('MAE =', MAE)\n",
    "    print('R2 =', R2)\n",
    "    print('MAPE =', MAPE)\n",
    "    print('Best parameters', grid_search_model.best_params_) \"\"\"\n",
    "\n",
    "    # Время предсказания\n",
    "    start_time = time.time()\n",
    "    grid_search_model.predict(X_test)\n",
    "    predict_time = time.time() - start_time\n",
    "\n",
    "    # Сохраняю в общую таблицу метрики для модели\n",
    "    results[model_name] = [RMSE, MAE, R2, MAPE, predict_time]\n",
    "    best_parameters[model_name] = grid_search_model.best_params_\n",
    "    return None"
   ]
  },
  {
   "attachments": {},
   "cell_type": "markdown",
   "metadata": {},
   "source": [
    "<font color='orange'>**Dummy модель**</font>\n",
    "- Сделал dummy модель для дальнейшего сравнения с ней. Но очень большой разброс получится (если брать средние сборы фильма), вообще неинформативно для оценки либо сравнения"
   ]
  },
  {
   "cell_type": "code",
   "execution_count": 38,
   "metadata": {},
   "outputs": [
    {
     "name": "stdout",
     "output_type": "stream",
     "text": [
      "RMSE (test) = 191100777.04564047\n"
     ]
    }
   ],
   "source": [
    "dummy_regr = DummyRegressor(strategy=\"mean\")\n",
    "dummy_regr.fit(X_train, y_train)\n",
    "prediction_dummy = dummy_regr.predict(X_test)\n",
    "dummy_rmse = mean_squared_error(y_test, prediction_dummy)**0.5\n",
    "print(\"RMSE (test) =\", dummy_rmse)"
   ]
  },
  {
   "cell_type": "markdown",
   "metadata": {},
   "source": [
    "## <a id='toc6_1_'></a>[Линейные модели](#toc0_)"
   ]
  },
  {
   "attachments": {},
   "cell_type": "markdown",
   "metadata": {},
   "source": [
    "<font color='orange'>**Модель линейной регрессии**</font>\n",
    "\n",
    "Модель построил без функции (model_eval(model_name, model, parameters)), из-за отсутствия гиперпараметров"
   ]
  },
  {
   "cell_type": "code",
   "execution_count": 39,
   "metadata": {},
   "outputs": [
    {
     "name": "stdout",
     "output_type": "stream",
     "text": [
      "RMSE = 290451470559.61206\n",
      "MAE = 22855665525.629425\n",
      "R2 = -0.005817184953645027\n",
      "MAPE = -0.005817184953645027\n"
     ]
    }
   ],
   "source": [
    "split_for_LR = X_train.shape[0]-X_test.shape[0]\n",
    "\n",
    "model = LinearRegression()\n",
    "model.fit(X_train[:split_for_LR], y_train[:split_for_LR])\n",
    "y_pred = model.predict(X_train[split_for_LR:])\n",
    "y_true = y_train[split_for_LR:]\n",
    "\n",
    "# Метрики\n",
    "RMSE_l = mean_squared_error(y_pred, y_true)**0.5\n",
    "MAE_l = mean_absolute_error(y_pred, y_true)\n",
    "R2_l = r2_score(y_pred, y_true)\n",
    "MAPE_l = mean_absolute_percentage_error(y_pred, y_true)\n",
    "\n",
    "# Время предсказания\n",
    "start_time = time.time()\n",
    "model.predict(X_test)\n",
    "predict_time = time.time() - start_time\n",
    "\n",
    "\"\"\" print(\"RMSE =\", RMSE_l)\n",
    "print('MAE =', MAE_l)\n",
    "print('R2 =', R2_l)\n",
    "print('MAPE =', R2_l) \"\"\"\n",
    "\n",
    "# Сохраняю в общие результаты\n",
    "results['LinearRegression'] = [RMSE_l, MAE_l, R2_l, MAPE_l, predict_time]"
   ]
  },
  {
   "attachments": {},
   "cell_type": "markdown",
   "metadata": {},
   "source": [
    "<font color='orange'>**Модель ElasticNet**</font>\n"
   ]
  },
  {
   "cell_type": "code",
   "execution_count": 40,
   "metadata": {},
   "outputs": [
    {
     "name": "stderr",
     "output_type": "stream",
     "text": [
      "c:\\Users\\Dmitriy\\anaconda3\\envs\\datasci\\lib\\site-packages\\sklearn\\linear_model\\_coordinate_descent.py:631: ConvergenceWarning: Objective did not converge. You might want to increase the number of iterations, check the scale of the features or consider increasing regularisation. Duality gap: 7.572e+18, tolerance: 8.193e+15\n",
      "  model = cd_fast.enet_coordinate_descent(\n"
     ]
    }
   ],
   "source": [
    "parameters = {\"alpha\": [0.0001, 0.001, 0.01, 0.1, 1, 10, 100]}\n",
    "model_eval('ElasticNet', ElasticNet(random_state=12345), parameters)"
   ]
  },
  {
   "attachments": {},
   "cell_type": "markdown",
   "metadata": {},
   "source": [
    "\n",
    "<font color='orange'>**Модель Lasso**</font>\n"
   ]
  },
  {
   "cell_type": "code",
   "execution_count": 41,
   "metadata": {},
   "outputs": [
    {
     "name": "stderr",
     "output_type": "stream",
     "text": [
      "c:\\Users\\Dmitriy\\anaconda3\\envs\\datasci\\lib\\site-packages\\sklearn\\linear_model\\_coordinate_descent.py:631: ConvergenceWarning: Objective did not converge. You might want to increase the number of iterations, check the scale of the features or consider increasing regularisation. Duality gap: 4.027e+18, tolerance: 8.193e+15\n",
      "  model = cd_fast.enet_coordinate_descent(\n"
     ]
    }
   ],
   "source": [
    "parameters = {\"alpha\": [0.0001, 0.001, 0.01, 0.1, 1, 10, 100]}\n",
    "model_eval('Lasso', Lasso(random_state=12345), parameters)"
   ]
  },
  {
   "attachments": {},
   "cell_type": "markdown",
   "metadata": {},
   "source": [
    "<font color='orange'>**Модель Ridge**</font>"
   ]
  },
  {
   "cell_type": "code",
   "execution_count": 42,
   "metadata": {},
   "outputs": [
    {
     "name": "stderr",
     "output_type": "stream",
     "text": [
      "c:\\Users\\Dmitriy\\anaconda3\\envs\\datasci\\lib\\site-packages\\sklearn\\linear_model\\_ridge.py:216: LinAlgWarning: Ill-conditioned matrix (rcond=1.74311e-18): result may not be accurate.\n",
      "  return linalg.solve(A, Xy, assume_a=\"pos\", overwrite_a=True).T\n"
     ]
    }
   ],
   "source": [
    "parameters = {\"alpha\": [0.0001, 0.001, 0.01, 0.1, 1, 10, 100]}\n",
    "model_eval('Ridge', Ridge(random_state=12345), parameters)"
   ]
  },
  {
   "cell_type": "markdown",
   "metadata": {},
   "source": [
    "## <a id='toc6_2_'></a>[Модели решающего дерева и случайного леса](#toc0_)"
   ]
  },
  {
   "attachments": {},
   "cell_type": "markdown",
   "metadata": {},
   "source": [
    "<font color='orange'>**Модель решающего дерева**</font>"
   ]
  },
  {
   "cell_type": "code",
   "execution_count": 43,
   "metadata": {},
   "outputs": [
    {
     "name": "stderr",
     "output_type": "stream",
     "text": [
      "c:\\Users\\Dmitriy\\anaconda3\\envs\\datasci\\lib\\site-packages\\sklearn\\tree\\_classes.py:277: FutureWarning: `max_features='auto'` has been deprecated in 1.1 and will be removed in 1.3. To keep the past behaviour, explicitly set `max_features=1.0'`.\n",
      "  warnings.warn(\n"
     ]
    }
   ],
   "source": [
    "parameters = {\"splitter\": [\"best\", \"random\"],\n",
    "              \"max_depth\": [1, 3, 5, 7, 9, 11, 12],\n",
    "              \"min_samples_leaf\": [1, 2, 3, 4, 5, 6, 7, 8, 9, 10],\n",
    "              \"min_weight_fraction_leaf\": [0.1, 0.2, 0.3, 0.4, 0.5],\n",
    "              \"max_features\": [\"auto\", \"log2\", \"sqrt\", None]}\n",
    "model_eval('Решающее дерево',\n",
    "           DecisionTreeRegressor(random_state=12345), parameters)"
   ]
  },
  {
   "attachments": {},
   "cell_type": "markdown",
   "metadata": {},
   "source": [
    "<font color='orange'>**Модель случайного леса**</font>"
   ]
  },
  {
   "cell_type": "code",
   "execution_count": 44,
   "metadata": {},
   "outputs": [],
   "source": [
    "parameters = {\"n_estimators\": [1, 10, 100, 500],\n",
    "              \"max_depth\": [2, 4, 6, 8, 10]}\n",
    "model_eval('Случайный лес',\n",
    "           RandomForestRegressor(random_state=12345), parameters)"
   ]
  },
  {
   "cell_type": "markdown",
   "metadata": {},
   "source": [
    "## <a id='toc6_3_'></a>[Модели градиентного бустинга Catboost и LGBM](#toc0_)"
   ]
  },
  {
   "attachments": {},
   "cell_type": "markdown",
   "metadata": {},
   "source": [
    "<font color='orange'>**Модель LGBM**</font>"
   ]
  },
  {
   "attachments": {},
   "cell_type": "markdown",
   "metadata": {},
   "source": [
    "Пришлось отказаться от этой модели из-за проблем с кодировками текста после кодировки признаков\n",
    "\n",
    "ОШИБКА:\n",
    "lightgbm.basic.LightGBMError: Do not support special JSON characters in feature name."
   ]
  },
  {
   "cell_type": "code",
   "execution_count": 45,
   "metadata": {},
   "outputs": [
    {
     "data": {
      "text/plain": [
       "\" parameters = {'learning_rate': [0.01, 0.05, 0.1, 0.25, 0.5]}\\nmodel_eval('LGBMRegressor', LGBMRegressor(), parameters) \""
      ]
     },
     "execution_count": 45,
     "metadata": {},
     "output_type": "execute_result"
    }
   ],
   "source": [
    "\"\"\" parameters = {'learning_rate': [0.01, 0.05, 0.1, 0.25, 0.5]}\n",
    "model_eval('LGBMRegressor', LGBMRegressor(), parameters) \"\"\""
   ]
  },
  {
   "attachments": {},
   "cell_type": "markdown",
   "metadata": {},
   "source": [
    "<font color='orange'>**Модель Catboost**</font>"
   ]
  },
  {
   "cell_type": "code",
   "execution_count": 46,
   "metadata": {},
   "outputs": [
    {
     "name": "stderr",
     "output_type": "stream",
     "text": [
      "c:\\Users\\Dmitriy\\anaconda3\\envs\\datasci\\lib\\site-packages\\catboost\\core.py:1411: FutureWarning: iteritems is deprecated and will be removed in a future version. Use .items instead.\n",
      "  self._init_pool(data, label, cat_features, text_features, embedding_features, embedding_features_data, pairs, weight,\n"
     ]
    },
    {
     "name": "stdout",
     "output_type": "stream",
     "text": [
      "0:\tlearn: 191818844.9824443\ttotal: 61.3ms\tremaining: 1m 1s\n",
      "200:\tlearn: 52385896.2338034\ttotal: 2.28s\tremaining: 9.05s\n",
      "400:\tlearn: 36705000.8010439\ttotal: 3.49s\tremaining: 5.22s\n",
      "600:\tlearn: 29228655.0416943\ttotal: 4.81s\tremaining: 3.19s\n",
      "800:\tlearn: 23986277.4447964\ttotal: 6.01s\tremaining: 1.49s\n",
      "999:\tlearn: 20013693.1890034\ttotal: 7.25s\tremaining: 0us\n"
     ]
    }
   ],
   "source": [
    "parameters = {'learning_rate': [0.01, 0.05, 0.1, 0.25, 0.5]}\n",
    "model_eval('Catboost', CatBoostRegressor(\n",
    "    verbose=200), parameters)"
   ]
  },
  {
   "cell_type": "markdown",
   "metadata": {},
   "source": [
    "## <a id='toc6_4_'></a>[Результаты моделей получены](#toc0_)"
   ]
  },
  {
   "attachments": {},
   "cell_type": "markdown",
   "metadata": {},
   "source": [
    "<font color='orange'>**Сравнение моделей**</font>"
   ]
  },
  {
   "cell_type": "code",
   "execution_count": 47,
   "metadata": {},
   "outputs": [],
   "source": [
    "results_df = pd.DataFrame(results, index=[\n",
    "                          'RMSE, в млн. $', 'MAE, в млн. $', 'R2', 'MAPE, количество раз', 'Predict_time'])\n",
    "results_df.loc['RMSE, в млн. $'] /= 1000000\n",
    "results_df.loc['MAE, в млн. $'] /= 1000000\n",
    "results_df.loc['MAPE, количество раз'] /= 100"
   ]
  },
  {
   "cell_type": "code",
   "execution_count": 48,
   "metadata": {},
   "outputs": [
    {
     "data": {
      "text/html": [
       "<div>\n",
       "<style scoped>\n",
       "    .dataframe tbody tr th:only-of-type {\n",
       "        vertical-align: middle;\n",
       "    }\n",
       "\n",
       "    .dataframe tbody tr th {\n",
       "        vertical-align: top;\n",
       "    }\n",
       "\n",
       "    .dataframe thead th {\n",
       "        text-align: right;\n",
       "    }\n",
       "</style>\n",
       "<table border=\"1\" class=\"dataframe\">\n",
       "  <thead>\n",
       "    <tr style=\"text-align: right;\">\n",
       "      <th></th>\n",
       "      <th>RMSE, в млн. $</th>\n",
       "      <th>MAE, в млн. $</th>\n",
       "      <th>R2</th>\n",
       "      <th>MAPE, количество раз</th>\n",
       "      <th>Predict_time</th>\n",
       "    </tr>\n",
       "  </thead>\n",
       "  <tbody>\n",
       "    <tr>\n",
       "      <th>Catboost</th>\n",
       "      <td>97.429</td>\n",
       "      <td>51.162</td>\n",
       "      <td>0.764</td>\n",
       "      <td>108.374</td>\n",
       "      <td>0.042</td>\n",
       "    </tr>\n",
       "    <tr>\n",
       "      <th>Случайный лес</th>\n",
       "      <td>101.345</td>\n",
       "      <td>52.092</td>\n",
       "      <td>0.747</td>\n",
       "      <td>48.045</td>\n",
       "      <td>0.306</td>\n",
       "    </tr>\n",
       "    <tr>\n",
       "      <th>Ridge</th>\n",
       "      <td>103.328</td>\n",
       "      <td>59.964</td>\n",
       "      <td>0.735</td>\n",
       "      <td>191.603</td>\n",
       "      <td>0.014</td>\n",
       "    </tr>\n",
       "    <tr>\n",
       "      <th>ElasticNet</th>\n",
       "      <td>103.414</td>\n",
       "      <td>60.291</td>\n",
       "      <td>0.735</td>\n",
       "      <td>202.722</td>\n",
       "      <td>0.020</td>\n",
       "    </tr>\n",
       "    <tr>\n",
       "      <th>Решающее дерево</th>\n",
       "      <td>144.158</td>\n",
       "      <td>74.305</td>\n",
       "      <td>0.484</td>\n",
       "      <td>55.898</td>\n",
       "      <td>0.011</td>\n",
       "    </tr>\n",
       "    <tr>\n",
       "      <th>Lasso</th>\n",
       "      <td>148.691</td>\n",
       "      <td>76.215</td>\n",
       "      <td>0.413</td>\n",
       "      <td>692.861</td>\n",
       "      <td>0.035</td>\n",
       "    </tr>\n",
       "    <tr>\n",
       "      <th>LinearRegression</th>\n",
       "      <td>290451.471</td>\n",
       "      <td>22855.666</td>\n",
       "      <td>-0.006</td>\n",
       "      <td>0.025</td>\n",
       "      <td>0.028</td>\n",
       "    </tr>\n",
       "  </tbody>\n",
       "</table>\n",
       "</div>"
      ],
      "text/plain": [
       "                  RMSE, в млн. $  MAE, в млн. $     R2  MAPE, количество раз  \\\n",
       "Catboost                  97.429         51.162  0.764               108.374   \n",
       "Случайный лес            101.345         52.092  0.747                48.045   \n",
       "Ridge                    103.328         59.964  0.735               191.603   \n",
       "ElasticNet               103.414         60.291  0.735               202.722   \n",
       "Решающее дерево          144.158         74.305  0.484                55.898   \n",
       "Lasso                    148.691         76.215  0.413               692.861   \n",
       "LinearRegression      290451.471      22855.666 -0.006                 0.025   \n",
       "\n",
       "                  Predict_time  \n",
       "Catboost                 0.042  \n",
       "Случайный лес            0.306  \n",
       "Ridge                    0.014  \n",
       "ElasticNet               0.020  \n",
       "Решающее дерево          0.011  \n",
       "Lasso                    0.035  \n",
       "LinearRegression         0.028  "
      ]
     },
     "metadata": {},
     "output_type": "display_data"
    }
   ],
   "source": [
    "pd.options.display.float_format = '{:.3f}'.format\n",
    "display(results_df.transpose().sort_values(by='RMSE, в млн. $'))"
   ]
  },
  {
   "attachments": {},
   "cell_type": "markdown",
   "metadata": {},
   "source": [
    "<style>\n",
    "    .bordered-cell {\n",
    "        border: 3px solid black;\n",
    "        padding: 10px;\n",
    "    }\n",
    "</style>\n",
    "\n",
    "<div class=\"bordered-cell\">\n",
    "\n",
    "<font color='orange'>**Вывод - Сравнение моделей**</font>\n",
    "\n",
    "- Кэтбуст лучший по RMSE, R2. Выбираю его для обучения и тестирования дальнейшего\n",
    "- Модели с L1 регуляризацией (Ridge, ElasticNet) лучше, чем только с L2 (Lasso) и сравнимы с Catboost\n",
    "- Модель LinearRegression значительно отличается от других моделей из-за отсутствия масштабирования в данных.\n",
    "- На втором месте - случайный лес, но скорость предсказания и долгое обучения сильно уступает другим моделям"
   ]
  },
  {
   "attachments": {},
   "cell_type": "markdown",
   "metadata": {},
   "source": [
    "<font color='orange'>**Подбор гиперпараметров для кэтбуста под разные данные**</font>\n",
    "- В цикле подбираю гиперпараметры, top-n признаков и год начала данных\n",
    "- В результате получу таблицу с метриками и названием модели+данных в формате Catboost_{год}_{top_n}"
   ]
  },
  {
   "cell_type": "code",
   "execution_count": 49,
   "metadata": {},
   "outputs": [
    {
     "data": {
      "application/vnd.jupyter.widget-view+json": {
       "model_id": "eac0af10eec44523b56ebe87b5109992",
       "version_major": 2,
       "version_minor": 0
      },
      "text/plain": [
       "  0%|          | 0/3 [00:00<?, ?it/s]"
      ]
     },
     "metadata": {},
     "output_type": "display_data"
    },
    {
     "data": {
      "application/vnd.jupyter.widget-view+json": {
       "model_id": "d6afa13072444e30a3988e7f54402b46",
       "version_major": 2,
       "version_minor": 0
      },
      "text/plain": [
       "  0%|          | 0/5 [00:00<?, ?it/s]"
      ]
     },
     "metadata": {},
     "output_type": "display_data"
    },
    {
     "name": "stderr",
     "output_type": "stream",
     "text": [
      "c:\\Users\\Dmitriy\\anaconda3\\envs\\datasci\\lib\\site-packages\\catboost\\core.py:1411: FutureWarning: iteritems is deprecated and will be removed in a future version. Use .items instead.\n",
      "  self._init_pool(data, label, cat_features, text_features, embedding_features, embedding_features_data, pairs, weight,\n",
      "c:\\Users\\Dmitriy\\anaconda3\\envs\\datasci\\lib\\site-packages\\catboost\\core.py:1411: FutureWarning: iteritems is deprecated and will be removed in a future version. Use .items instead.\n",
      "  self._init_pool(data, label, cat_features, text_features, embedding_features, embedding_features_data, pairs, weight,\n",
      "c:\\Users\\Dmitriy\\anaconda3\\envs\\datasci\\lib\\site-packages\\catboost\\core.py:1411: FutureWarning: iteritems is deprecated and will be removed in a future version. Use .items instead.\n",
      "  self._init_pool(data, label, cat_features, text_features, embedding_features, embedding_features_data, pairs, weight,\n",
      "c:\\Users\\Dmitriy\\anaconda3\\envs\\datasci\\lib\\site-packages\\catboost\\core.py:1411: FutureWarning: iteritems is deprecated and will be removed in a future version. Use .items instead.\n",
      "  self._init_pool(data, label, cat_features, text_features, embedding_features, embedding_features_data, pairs, weight,\n",
      "c:\\Users\\Dmitriy\\anaconda3\\envs\\datasci\\lib\\site-packages\\catboost\\core.py:1411: FutureWarning: iteritems is deprecated and will be removed in a future version. Use .items instead.\n",
      "  self._init_pool(data, label, cat_features, text_features, embedding_features, embedding_features_data, pairs, weight,\n"
     ]
    },
    {
     "data": {
      "application/vnd.jupyter.widget-view+json": {
       "model_id": "9fea3716fa7f43fd9a733881dbb9ba13",
       "version_major": 2,
       "version_minor": 0
      },
      "text/plain": [
       "  0%|          | 0/5 [00:00<?, ?it/s]"
      ]
     },
     "metadata": {},
     "output_type": "display_data"
    },
    {
     "name": "stderr",
     "output_type": "stream",
     "text": [
      "c:\\Users\\Dmitriy\\anaconda3\\envs\\datasci\\lib\\site-packages\\catboost\\core.py:1411: FutureWarning: iteritems is deprecated and will be removed in a future version. Use .items instead.\n",
      "  self._init_pool(data, label, cat_features, text_features, embedding_features, embedding_features_data, pairs, weight,\n",
      "c:\\Users\\Dmitriy\\anaconda3\\envs\\datasci\\lib\\site-packages\\catboost\\core.py:1411: FutureWarning: iteritems is deprecated and will be removed in a future version. Use .items instead.\n",
      "  self._init_pool(data, label, cat_features, text_features, embedding_features, embedding_features_data, pairs, weight,\n",
      "c:\\Users\\Dmitriy\\anaconda3\\envs\\datasci\\lib\\site-packages\\catboost\\core.py:1411: FutureWarning: iteritems is deprecated and will be removed in a future version. Use .items instead.\n",
      "  self._init_pool(data, label, cat_features, text_features, embedding_features, embedding_features_data, pairs, weight,\n",
      "c:\\Users\\Dmitriy\\anaconda3\\envs\\datasci\\lib\\site-packages\\catboost\\core.py:1411: FutureWarning: iteritems is deprecated and will be removed in a future version. Use .items instead.\n",
      "  self._init_pool(data, label, cat_features, text_features, embedding_features, embedding_features_data, pairs, weight,\n",
      "c:\\Users\\Dmitriy\\anaconda3\\envs\\datasci\\lib\\site-packages\\catboost\\core.py:1411: FutureWarning: iteritems is deprecated and will be removed in a future version. Use .items instead.\n",
      "  self._init_pool(data, label, cat_features, text_features, embedding_features, embedding_features_data, pairs, weight,\n"
     ]
    },
    {
     "data": {
      "application/vnd.jupyter.widget-view+json": {
       "model_id": "432a43a151c6412cb6722ff221f9db68",
       "version_major": 2,
       "version_minor": 0
      },
      "text/plain": [
       "  0%|          | 0/5 [00:00<?, ?it/s]"
      ]
     },
     "metadata": {},
     "output_type": "display_data"
    },
    {
     "name": "stderr",
     "output_type": "stream",
     "text": [
      "c:\\Users\\Dmitriy\\anaconda3\\envs\\datasci\\lib\\site-packages\\catboost\\core.py:1411: FutureWarning: iteritems is deprecated and will be removed in a future version. Use .items instead.\n",
      "  self._init_pool(data, label, cat_features, text_features, embedding_features, embedding_features_data, pairs, weight,\n",
      "c:\\Users\\Dmitriy\\anaconda3\\envs\\datasci\\lib\\site-packages\\catboost\\core.py:1411: FutureWarning: iteritems is deprecated and will be removed in a future version. Use .items instead.\n",
      "  self._init_pool(data, label, cat_features, text_features, embedding_features, embedding_features_data, pairs, weight,\n",
      "c:\\Users\\Dmitriy\\anaconda3\\envs\\datasci\\lib\\site-packages\\catboost\\core.py:1411: FutureWarning: iteritems is deprecated and will be removed in a future version. Use .items instead.\n",
      "  self._init_pool(data, label, cat_features, text_features, embedding_features, embedding_features_data, pairs, weight,\n",
      "c:\\Users\\Dmitriy\\anaconda3\\envs\\datasci\\lib\\site-packages\\catboost\\core.py:1411: FutureWarning: iteritems is deprecated and will be removed in a future version. Use .items instead.\n",
      "  self._init_pool(data, label, cat_features, text_features, embedding_features, embedding_features_data, pairs, weight,\n",
      "c:\\Users\\Dmitriy\\anaconda3\\envs\\datasci\\lib\\site-packages\\catboost\\core.py:1411: FutureWarning: iteritems is deprecated and will be removed in a future version. Use .items instead.\n",
      "  self._init_pool(data, label, cat_features, text_features, embedding_features, embedding_features_data, pairs, weight,\n"
     ]
    }
   ],
   "source": [
    "years = [1985, 2000, 2005]\n",
    "top_n_features = [10, 25, 50, 100, 200]\n",
    "results = {}\n",
    "\n",
    "parameters = {\n",
    "    # Скорость обучения\n",
    "    'learning_rate': [0.01, 0.05, 0.1, 0.5, 1],\n",
    "    'l2_leaf_reg': [1, 3, 5]  # Регуляризация L2\n",
    "}\n",
    "\n",
    "for year in notebook.tqdm(years):\n",
    "    for number in notebook.tqdm(top_n_features):\n",
    "        new_data = feature_encoding(data, years=year, top_n=number)\n",
    "        X_train, X_test, y_train, y_test, feature_list_all = data_split(\n",
    "            new_data, scaling=False)\n",
    "        model_eval(('Catboost'+'_' + str(year) + '_' + str(number)), CatBoostRegressor(\n",
    "            logging_level='Silent'), parameters)"
   ]
  },
  {
   "cell_type": "code",
   "execution_count": 50,
   "metadata": {},
   "outputs": [
    {
     "data": {
      "text/html": [
       "<div>\n",
       "<style scoped>\n",
       "    .dataframe tbody tr th:only-of-type {\n",
       "        vertical-align: middle;\n",
       "    }\n",
       "\n",
       "    .dataframe tbody tr th {\n",
       "        vertical-align: top;\n",
       "    }\n",
       "\n",
       "    .dataframe thead th {\n",
       "        text-align: right;\n",
       "    }\n",
       "</style>\n",
       "<table border=\"1\" class=\"dataframe\">\n",
       "  <thead>\n",
       "    <tr style=\"text-align: right;\">\n",
       "      <th></th>\n",
       "      <th>RMSE, в млн. $</th>\n",
       "      <th>MAE, в млн. $</th>\n",
       "      <th>R2</th>\n",
       "      <th>MAPE, количество раз</th>\n",
       "      <th>Predict_time</th>\n",
       "    </tr>\n",
       "  </thead>\n",
       "  <tbody>\n",
       "    <tr>\n",
       "      <th>Catboost_2000_100</th>\n",
       "      <td>96.779</td>\n",
       "      <td>50.284</td>\n",
       "      <td>0.769</td>\n",
       "      <td>82.933</td>\n",
       "      <td>0.037</td>\n",
       "    </tr>\n",
       "    <tr>\n",
       "      <th>Catboost_2000_50</th>\n",
       "      <td>97.684</td>\n",
       "      <td>50.054</td>\n",
       "      <td>0.765</td>\n",
       "      <td>87.588</td>\n",
       "      <td>0.020</td>\n",
       "    </tr>\n",
       "    <tr>\n",
       "      <th>Catboost_2000_10</th>\n",
       "      <td>98.342</td>\n",
       "      <td>50.856</td>\n",
       "      <td>0.762</td>\n",
       "      <td>134.301</td>\n",
       "      <td>0.009</td>\n",
       "    </tr>\n",
       "    <tr>\n",
       "      <th>Catboost_2000_200</th>\n",
       "      <td>98.470</td>\n",
       "      <td>51.684</td>\n",
       "      <td>0.761</td>\n",
       "      <td>124.699</td>\n",
       "      <td>0.067</td>\n",
       "    </tr>\n",
       "    <tr>\n",
       "      <th>Catboost_2000_25</th>\n",
       "      <td>98.720</td>\n",
       "      <td>50.836</td>\n",
       "      <td>0.759</td>\n",
       "      <td>94.617</td>\n",
       "      <td>0.013</td>\n",
       "    </tr>\n",
       "    <tr>\n",
       "      <th>Catboost_2005_200</th>\n",
       "      <td>101.018</td>\n",
       "      <td>50.664</td>\n",
       "      <td>0.765</td>\n",
       "      <td>40.164</td>\n",
       "      <td>0.215</td>\n",
       "    </tr>\n",
       "    <tr>\n",
       "      <th>Catboost_2005_100</th>\n",
       "      <td>101.170</td>\n",
       "      <td>50.742</td>\n",
       "      <td>0.763</td>\n",
       "      <td>35.992</td>\n",
       "      <td>0.082</td>\n",
       "    </tr>\n",
       "    <tr>\n",
       "      <th>Catboost_2005_50</th>\n",
       "      <td>101.258</td>\n",
       "      <td>50.552</td>\n",
       "      <td>0.764</td>\n",
       "      <td>75.013</td>\n",
       "      <td>0.027</td>\n",
       "    </tr>\n",
       "    <tr>\n",
       "      <th>Catboost_2005_10</th>\n",
       "      <td>102.171</td>\n",
       "      <td>50.900</td>\n",
       "      <td>0.760</td>\n",
       "      <td>61.092</td>\n",
       "      <td>0.009</td>\n",
       "    </tr>\n",
       "    <tr>\n",
       "      <th>Catboost_2005_25</th>\n",
       "      <td>102.924</td>\n",
       "      <td>51.219</td>\n",
       "      <td>0.755</td>\n",
       "      <td>30.168</td>\n",
       "      <td>0.016</td>\n",
       "    </tr>\n",
       "    <tr>\n",
       "      <th>Catboost_1985_100</th>\n",
       "      <td>105.896</td>\n",
       "      <td>57.024</td>\n",
       "      <td>0.733</td>\n",
       "      <td>321.576</td>\n",
       "      <td>0.036</td>\n",
       "    </tr>\n",
       "    <tr>\n",
       "      <th>Catboost_1985_10</th>\n",
       "      <td>106.775</td>\n",
       "      <td>57.115</td>\n",
       "      <td>0.728</td>\n",
       "      <td>223.228</td>\n",
       "      <td>0.011</td>\n",
       "    </tr>\n",
       "    <tr>\n",
       "      <th>Catboost_1985_50</th>\n",
       "      <td>107.549</td>\n",
       "      <td>57.335</td>\n",
       "      <td>0.725</td>\n",
       "      <td>238.430</td>\n",
       "      <td>0.018</td>\n",
       "    </tr>\n",
       "    <tr>\n",
       "      <th>Catboost_1985_25</th>\n",
       "      <td>107.829</td>\n",
       "      <td>57.038</td>\n",
       "      <td>0.723</td>\n",
       "      <td>278.893</td>\n",
       "      <td>0.016</td>\n",
       "    </tr>\n",
       "    <tr>\n",
       "      <th>Catboost_1985_200</th>\n",
       "      <td>108.268</td>\n",
       "      <td>57.877</td>\n",
       "      <td>0.721</td>\n",
       "      <td>307.816</td>\n",
       "      <td>0.138</td>\n",
       "    </tr>\n",
       "  </tbody>\n",
       "</table>\n",
       "</div>"
      ],
      "text/plain": [
       "                   RMSE, в млн. $  MAE, в млн. $    R2  MAPE, количество раз  \\\n",
       "Catboost_2000_100          96.779         50.284 0.769                82.933   \n",
       "Catboost_2000_50           97.684         50.054 0.765                87.588   \n",
       "Catboost_2000_10           98.342         50.856 0.762               134.301   \n",
       "Catboost_2000_200          98.470         51.684 0.761               124.699   \n",
       "Catboost_2000_25           98.720         50.836 0.759                94.617   \n",
       "Catboost_2005_200         101.018         50.664 0.765                40.164   \n",
       "Catboost_2005_100         101.170         50.742 0.763                35.992   \n",
       "Catboost_2005_50          101.258         50.552 0.764                75.013   \n",
       "Catboost_2005_10          102.171         50.900 0.760                61.092   \n",
       "Catboost_2005_25          102.924         51.219 0.755                30.168   \n",
       "Catboost_1985_100         105.896         57.024 0.733               321.576   \n",
       "Catboost_1985_10          106.775         57.115 0.728               223.228   \n",
       "Catboost_1985_50          107.549         57.335 0.725               238.430   \n",
       "Catboost_1985_25          107.829         57.038 0.723               278.893   \n",
       "Catboost_1985_200         108.268         57.877 0.721               307.816   \n",
       "\n",
       "                   Predict_time  \n",
       "Catboost_2000_100         0.037  \n",
       "Catboost_2000_50          0.020  \n",
       "Catboost_2000_10          0.009  \n",
       "Catboost_2000_200         0.067  \n",
       "Catboost_2000_25          0.013  \n",
       "Catboost_2005_200         0.215  \n",
       "Catboost_2005_100         0.082  \n",
       "Catboost_2005_50          0.027  \n",
       "Catboost_2005_10          0.009  \n",
       "Catboost_2005_25          0.016  \n",
       "Catboost_1985_100         0.036  \n",
       "Catboost_1985_10          0.011  \n",
       "Catboost_1985_50          0.018  \n",
       "Catboost_1985_25          0.016  \n",
       "Catboost_1985_200         0.138  "
      ]
     },
     "metadata": {},
     "output_type": "display_data"
    }
   ],
   "source": [
    "results_df = pd.DataFrame(results, index=[\n",
    "                          'RMSE, в млн. $', 'MAE, в млн. $', 'R2', 'MAPE, количество раз', 'Predict_time'])\n",
    "results_df.loc['RMSE, в млн. $'] /= 1000000\n",
    "results_df.loc['MAE, в млн. $'] /= 1000000\n",
    "results_df.loc['MAPE, количество раз'] /= 100\n",
    "pd.options.display.float_format = '{:.3f}'.format\n",
    "display(results_df.transpose().sort_values(by='RMSE, в млн. $'))"
   ]
  },
  {
   "cell_type": "code",
   "execution_count": 51,
   "metadata": {},
   "outputs": [
    {
     "name": "stdout",
     "output_type": "stream",
     "text": [
      "{'l2_leaf_reg': 1, 'learning_rate': 0.05}\n"
     ]
    }
   ],
   "source": [
    "print(best_parameters['Catboost_2000_100'])"
   ]
  },
  {
   "attachments": {},
   "cell_type": "markdown",
   "metadata": {},
   "source": [
    "<style>\n",
    "    .bordered-cell {\n",
    "        border: 3px solid black;\n",
    "        padding: 10px;\n",
    "    }\n",
    "</style>\n",
    "\n",
    "<div class=\"bordered-cell\">\n",
    "\n",
    "<font color='green'>**Выбор данных и гиперпараметров**</font>\n",
    "- Полученны сравнения гиперпарамеров и данных\n",
    "- Кэтбуст ({'l2_leaf_reg': 1, 'learning_rate': 0.05}) - лучшие гиперпараметры\n",
    "- Данные с 2000года и топ-100 признаков - лучшая обработка признаков"
   ]
  },
  {
   "cell_type": "markdown",
   "metadata": {},
   "source": [
    "# <a id='toc7_'></a>[Обучение и тест лучшей модели](#toc0_)"
   ]
  },
  {
   "attachments": {},
   "cell_type": "markdown",
   "metadata": {},
   "source": [
    "<font color='orange'>**Обучаю и тестирую лучшую модель**</font>"
   ]
  },
  {
   "cell_type": "code",
   "execution_count": 52,
   "metadata": {},
   "outputs": [
    {
     "name": "stderr",
     "output_type": "stream",
     "text": [
      "c:\\Users\\Dmitriy\\anaconda3\\envs\\datasci\\lib\\site-packages\\catboost\\core.py:1411: FutureWarning: iteritems is deprecated and will be removed in a future version. Use .items instead.\n",
      "  self._init_pool(data, label, cat_features, text_features, embedding_features, embedding_features_data, pairs, weight,\n"
     ]
    },
    {
     "name": "stdout",
     "output_type": "stream",
     "text": [
      "0:\tlearn: 196417042.5387779\ttotal: 9.56ms\tremaining: 9.55s\n",
      "200:\tlearn: 60017021.9684428\ttotal: 1.9s\tremaining: 7.56s\n",
      "400:\tlearn: 43989938.2049541\ttotal: 3.43s\tremaining: 5.13s\n",
      "600:\tlearn: 35722416.1601801\ttotal: 4.26s\tremaining: 2.83s\n",
      "800:\tlearn: 29579283.5378795\ttotal: 5.14s\tremaining: 1.28s\n",
      "999:\tlearn: 25270897.7874632\ttotal: 6.02s\tremaining: 0us\n",
      "RMSE (в млн. $) = 87.62723189149521\n",
      "MAE (в млн. $) = 50.525928435247174\n",
      "R2 = 0.7571166151481206\n"
     ]
    }
   ],
   "source": [
    "new_data = feature_encoding(data, years=2000, top_n=100)\n",
    "X_train, X_test, y_train, y_test, feature_list_all = data_split(\n",
    "    new_data, scaling=False)\n",
    "\n",
    "model = CatBoostRegressor(learning_rate=0.05, l2_leaf_reg=1, verbose=200)\n",
    "model.fit(X_train, y_train)\n",
    "y_pred = model.predict(X_test)\n",
    "\n",
    "print('RMSE (в млн. $) =', mean_squared_error(y_pred, y_test)**0.5/1000000)\n",
    "print('MAE (в млн. $) =', mean_absolute_error(y_pred, y_test)/1000000)\n",
    "print('R2 =', r2_score(y_pred, y_test))"
   ]
  },
  {
   "attachments": {},
   "cell_type": "markdown",
   "metadata": {},
   "source": [
    "<font color='orange'>**Список самых важных признаков**</font>"
   ]
  },
  {
   "cell_type": "code",
   "execution_count": 53,
   "metadata": {},
   "outputs": [
    {
     "data": {
      "text/html": [
       "<div>\n",
       "<style scoped>\n",
       "    .dataframe tbody tr th:only-of-type {\n",
       "        vertical-align: middle;\n",
       "    }\n",
       "\n",
       "    .dataframe tbody tr th {\n",
       "        vertical-align: top;\n",
       "    }\n",
       "\n",
       "    .dataframe thead th {\n",
       "        text-align: right;\n",
       "    }\n",
       "</style>\n",
       "<table border=\"1\" class=\"dataframe\">\n",
       "  <thead>\n",
       "    <tr style=\"text-align: right;\">\n",
       "      <th></th>\n",
       "      <th>importance</th>\n",
       "      <th>features</th>\n",
       "    </tr>\n",
       "  </thead>\n",
       "  <tbody>\n",
       "    <tr>\n",
       "      <th>0</th>\n",
       "      <td>29.133</td>\n",
       "      <td>vote_count</td>\n",
       "    </tr>\n",
       "    <tr>\n",
       "      <th>1</th>\n",
       "      <td>26.430</td>\n",
       "      <td>budget_adj</td>\n",
       "    </tr>\n",
       "    <tr>\n",
       "      <th>2</th>\n",
       "      <td>6.451</td>\n",
       "      <td>popularity</td>\n",
       "    </tr>\n",
       "    <tr>\n",
       "      <th>3</th>\n",
       "      <td>3.717</td>\n",
       "      <td>release_year</td>\n",
       "    </tr>\n",
       "    <tr>\n",
       "      <th>4</th>\n",
       "      <td>3.639</td>\n",
       "      <td>runtime</td>\n",
       "    </tr>\n",
       "    <tr>\n",
       "      <th>5</th>\n",
       "      <td>2.621</td>\n",
       "      <td>vote_average</td>\n",
       "    </tr>\n",
       "    <tr>\n",
       "      <th>6</th>\n",
       "      <td>2.465</td>\n",
       "      <td>family_genres</td>\n",
       "    </tr>\n",
       "    <tr>\n",
       "      <th>7</th>\n",
       "      <td>1.793</td>\n",
       "      <td>release_day_of_year</td>\n",
       "    </tr>\n",
       "    <tr>\n",
       "      <th>8</th>\n",
       "      <td>1.401</td>\n",
       "      <td>release_day</td>\n",
       "    </tr>\n",
       "    <tr>\n",
       "      <th>9</th>\n",
       "      <td>1.337</td>\n",
       "      <td>science fiction_genres</td>\n",
       "    </tr>\n",
       "    <tr>\n",
       "      <th>10</th>\n",
       "      <td>1.108</td>\n",
       "      <td>release_day_of_week</td>\n",
       "    </tr>\n",
       "    <tr>\n",
       "      <th>11</th>\n",
       "      <td>1.004</td>\n",
       "      <td>fantasy_genres</td>\n",
       "    </tr>\n",
       "    <tr>\n",
       "      <th>12</th>\n",
       "      <td>0.985</td>\n",
       "      <td>adventure_genres</td>\n",
       "    </tr>\n",
       "    <tr>\n",
       "      <th>13</th>\n",
       "      <td>0.701</td>\n",
       "      <td>homepage</td>\n",
       "    </tr>\n",
       "    <tr>\n",
       "      <th>14</th>\n",
       "      <td>0.640</td>\n",
       "      <td>actor_michelle rodriguez</td>\n",
       "    </tr>\n",
       "    <tr>\n",
       "      <th>15</th>\n",
       "      <td>0.534</td>\n",
       "      <td>release_quarter</td>\n",
       "    </tr>\n",
       "    <tr>\n",
       "      <th>16</th>\n",
       "      <td>0.533</td>\n",
       "      <td>production_companie_lucasfilm</td>\n",
       "    </tr>\n",
       "    <tr>\n",
       "      <th>17</th>\n",
       "      <td>0.522</td>\n",
       "      <td>keyword_culture clash</td>\n",
       "    </tr>\n",
       "    <tr>\n",
       "      <th>18</th>\n",
       "      <td>0.509</td>\n",
       "      <td>action_genres</td>\n",
       "    </tr>\n",
       "    <tr>\n",
       "      <th>19</th>\n",
       "      <td>0.398</td>\n",
       "      <td>animation_genres</td>\n",
       "    </tr>\n",
       "    <tr>\n",
       "      <th>20</th>\n",
       "      <td>0.380</td>\n",
       "      <td>drama_genres</td>\n",
       "    </tr>\n",
       "    <tr>\n",
       "      <th>21</th>\n",
       "      <td>0.343</td>\n",
       "      <td>comedy_genres</td>\n",
       "    </tr>\n",
       "    <tr>\n",
       "      <th>22</th>\n",
       "      <td>0.330</td>\n",
       "      <td>keyword_space war</td>\n",
       "    </tr>\n",
       "    <tr>\n",
       "      <th>23</th>\n",
       "      <td>0.330</td>\n",
       "      <td>keyword_dystopia</td>\n",
       "    </tr>\n",
       "    <tr>\n",
       "      <th>24</th>\n",
       "      <td>0.327</td>\n",
       "      <td>thriller_genres</td>\n",
       "    </tr>\n",
       "    <tr>\n",
       "      <th>25</th>\n",
       "      <td>0.275</td>\n",
       "      <td>actor_taylor lautner</td>\n",
       "    </tr>\n",
       "    <tr>\n",
       "      <th>26</th>\n",
       "      <td>0.260</td>\n",
       "      <td>production_companie_twentieth century fox film...</td>\n",
       "    </tr>\n",
       "    <tr>\n",
       "      <th>27</th>\n",
       "      <td>0.258</td>\n",
       "      <td>actor_sigourney weaver</td>\n",
       "    </tr>\n",
       "    <tr>\n",
       "      <th>28</th>\n",
       "      <td>0.249</td>\n",
       "      <td>release_month</td>\n",
       "    </tr>\n",
       "    <tr>\n",
       "      <th>29</th>\n",
       "      <td>0.246</td>\n",
       "      <td>western_genres</td>\n",
       "    </tr>\n",
       "  </tbody>\n",
       "</table>\n",
       "</div>"
      ],
      "text/plain": [
       "    importance                                           features\n",
       "0       29.133                                         vote_count\n",
       "1       26.430                                         budget_adj\n",
       "2        6.451                                         popularity\n",
       "3        3.717                                       release_year\n",
       "4        3.639                                            runtime\n",
       "5        2.621                                       vote_average\n",
       "6        2.465                                      family_genres\n",
       "7        1.793                                release_day_of_year\n",
       "8        1.401                                        release_day\n",
       "9        1.337                             science fiction_genres\n",
       "10       1.108                                release_day_of_week\n",
       "11       1.004                                     fantasy_genres\n",
       "12       0.985                                   adventure_genres\n",
       "13       0.701                                           homepage\n",
       "14       0.640                           actor_michelle rodriguez\n",
       "15       0.534                                    release_quarter\n",
       "16       0.533                      production_companie_lucasfilm\n",
       "17       0.522                              keyword_culture clash\n",
       "18       0.509                                      action_genres\n",
       "19       0.398                                   animation_genres\n",
       "20       0.380                                       drama_genres\n",
       "21       0.343                                      comedy_genres\n",
       "22       0.330                                  keyword_space war\n",
       "23       0.330                                   keyword_dystopia\n",
       "24       0.327                                    thriller_genres\n",
       "25       0.275                               actor_taylor lautner\n",
       "26       0.260  production_companie_twentieth century fox film...\n",
       "27       0.258                             actor_sigourney weaver\n",
       "28       0.249                                      release_month\n",
       "29       0.246                                     western_genres"
      ]
     },
     "execution_count": 53,
     "metadata": {},
     "output_type": "execute_result"
    }
   ],
   "source": [
    "features = feature_list_all\n",
    "importances = model.feature_importances_\n",
    "feature_importance = pd.DataFrame({'importance': importances, 'features': features}).sort_values(\n",
    "    'importance', ascending=False).reset_index(drop=True)\n",
    "feature_importance.head(30)"
   ]
  },
  {
   "attachments": {},
   "cell_type": "markdown",
   "metadata": {},
   "source": [
    "<font color='orange'>**Пример работы модели и её предсказания**</font>\n",
    "\n",
    "- Сравнительная таблица с предсказаниями/целевым признаком для случайных фильмов\n",
    "- Сравнительная таблица с предсказаниями/целевым признаком для самых крупных фильмов"
   ]
  },
  {
   "cell_type": "code",
   "execution_count": 54,
   "metadata": {},
   "outputs": [
    {
     "data": {
      "text/html": [
       "<div>\n",
       "<style scoped>\n",
       "    .dataframe tbody tr th:only-of-type {\n",
       "        vertical-align: middle;\n",
       "    }\n",
       "\n",
       "    .dataframe tbody tr th {\n",
       "        vertical-align: top;\n",
       "    }\n",
       "\n",
       "    .dataframe thead th {\n",
       "        text-align: right;\n",
       "    }\n",
       "</style>\n",
       "<table border=\"1\" class=\"dataframe\">\n",
       "  <thead>\n",
       "    <tr style=\"text-align: right;\">\n",
       "      <th></th>\n",
       "      <th>true revenue, млн. $</th>\n",
       "      <th>prediction revenue, млн. $</th>\n",
       "      <th>error_folds</th>\n",
       "      <th>error, млн. $</th>\n",
       "      <th>original_title</th>\n",
       "    </tr>\n",
       "  </thead>\n",
       "  <tbody>\n",
       "    <tr>\n",
       "      <th>5581</th>\n",
       "      <td>650.0</td>\n",
       "      <td>741.2</td>\n",
       "      <td>0.9</td>\n",
       "      <td>-91.2</td>\n",
       "      <td>The Amazing Spider-Man 2</td>\n",
       "    </tr>\n",
       "    <tr>\n",
       "      <th>2866</th>\n",
       "      <td>353.1</td>\n",
       "      <td>461.5</td>\n",
       "      <td>0.8</td>\n",
       "      <td>-108.3</td>\n",
       "      <td>The Polar Express</td>\n",
       "    </tr>\n",
       "    <tr>\n",
       "      <th>2417</th>\n",
       "      <td>314.3</td>\n",
       "      <td>138.9</td>\n",
       "      <td>2.3</td>\n",
       "      <td>175.3</td>\n",
       "      <td>The Blind Side</td>\n",
       "    </tr>\n",
       "    <tr>\n",
       "      <th>833</th>\n",
       "      <td>220.5</td>\n",
       "      <td>235.9</td>\n",
       "      <td>0.9</td>\n",
       "      <td>-15.4</td>\n",
       "      <td>RoboCop</td>\n",
       "    </tr>\n",
       "    <tr>\n",
       "      <th>6528</th>\n",
       "      <td>212.5</td>\n",
       "      <td>148.9</td>\n",
       "      <td>1.4</td>\n",
       "      <td>63.6</td>\n",
       "      <td>The Longest Yard</td>\n",
       "    </tr>\n",
       "    <tr>\n",
       "      <th>8751</th>\n",
       "      <td>99.5</td>\n",
       "      <td>171.7</td>\n",
       "      <td>0.6</td>\n",
       "      <td>-72.2</td>\n",
       "      <td>The Man from U.N.C.L.E.</td>\n",
       "    </tr>\n",
       "    <tr>\n",
       "      <th>897</th>\n",
       "      <td>85.4</td>\n",
       "      <td>74.1</td>\n",
       "      <td>1.2</td>\n",
       "      <td>11.4</td>\n",
       "      <td>Season of the Witch</td>\n",
       "    </tr>\n",
       "    <tr>\n",
       "      <th>4842</th>\n",
       "      <td>37.6</td>\n",
       "      <td>54.6</td>\n",
       "      <td>0.7</td>\n",
       "      <td>-17.0</td>\n",
       "      <td>Take the Lead</td>\n",
       "    </tr>\n",
       "    <tr>\n",
       "      <th>7839</th>\n",
       "      <td>18.8</td>\n",
       "      <td>68.4</td>\n",
       "      <td>0.3</td>\n",
       "      <td>-49.6</td>\n",
       "      <td>Rebound</td>\n",
       "    </tr>\n",
       "    <tr>\n",
       "      <th>1666</th>\n",
       "      <td>17.2</td>\n",
       "      <td>44.3</td>\n",
       "      <td>0.4</td>\n",
       "      <td>-27.1</td>\n",
       "      <td>The Little Vampire</td>\n",
       "    </tr>\n",
       "  </tbody>\n",
       "</table>\n",
       "</div>"
      ],
      "text/plain": [
       "      true revenue, млн. $  prediction revenue, млн. $  error_folds  \\\n",
       "5581                 650.0                       741.2          0.9   \n",
       "2866                 353.1                       461.5          0.8   \n",
       "2417                 314.3                       138.9          2.3   \n",
       "833                  220.5                       235.9          0.9   \n",
       "6528                 212.5                       148.9          1.4   \n",
       "8751                  99.5                       171.7          0.6   \n",
       "897                   85.4                        74.1          1.2   \n",
       "4842                  37.6                        54.6          0.7   \n",
       "7839                  18.8                        68.4          0.3   \n",
       "1666                  17.2                        44.3          0.4   \n",
       "\n",
       "      error, млн. $            original_title  \n",
       "5581          -91.2  The Amazing Spider-Man 2  \n",
       "2866         -108.3         The Polar Express  \n",
       "2417          175.3            The Blind Side  \n",
       "833           -15.4                   RoboCop  \n",
       "6528           63.6          The Longest Yard  \n",
       "8751          -72.2   The Man from U.N.C.L.E.  \n",
       "897            11.4       Season of the Witch  \n",
       "4842          -17.0             Take the Lead  \n",
       "7839          -49.6                   Rebound  \n",
       "1666          -27.1        The Little Vampire  "
      ]
     },
     "metadata": {},
     "output_type": "display_data"
    },
    {
     "data": {
      "text/html": [
       "<div>\n",
       "<style scoped>\n",
       "    .dataframe tbody tr th:only-of-type {\n",
       "        vertical-align: middle;\n",
       "    }\n",
       "\n",
       "    .dataframe tbody tr th {\n",
       "        vertical-align: top;\n",
       "    }\n",
       "\n",
       "    .dataframe thead th {\n",
       "        text-align: right;\n",
       "    }\n",
       "</style>\n",
       "<table border=\"1\" class=\"dataframe\">\n",
       "  <thead>\n",
       "    <tr style=\"text-align: right;\">\n",
       "      <th></th>\n",
       "      <th>true revenue, млн. $</th>\n",
       "      <th>prediction revenue, млн. $</th>\n",
       "      <th>error_folds</th>\n",
       "      <th>error, млн. $</th>\n",
       "      <th>original_title</th>\n",
       "    </tr>\n",
       "  </thead>\n",
       "  <tbody>\n",
       "    <tr>\n",
       "      <th>5787</th>\n",
       "      <td>1292.6</td>\n",
       "      <td>974.8</td>\n",
       "      <td>1.3</td>\n",
       "      <td>317.8</td>\n",
       "      <td>Avengers: Age of Ultron</td>\n",
       "    </tr>\n",
       "    <tr>\n",
       "      <th>2630</th>\n",
       "      <td>1192.7</td>\n",
       "      <td>693.3</td>\n",
       "      <td>1.7</td>\n",
       "      <td>499.4</td>\n",
       "      <td>Frozen</td>\n",
       "    </tr>\n",
       "    <tr>\n",
       "      <th>5637</th>\n",
       "      <td>1137.7</td>\n",
       "      <td>667.5</td>\n",
       "      <td>1.7</td>\n",
       "      <td>470.2</td>\n",
       "      <td>Iron Man 3</td>\n",
       "    </tr>\n",
       "    <tr>\n",
       "      <th>3243</th>\n",
       "      <td>1122.9</td>\n",
       "      <td>806.4</td>\n",
       "      <td>1.4</td>\n",
       "      <td>316.5</td>\n",
       "      <td>The Lord of the Rings: The Two Towers</td>\n",
       "    </tr>\n",
       "    <tr>\n",
       "      <th>8022</th>\n",
       "      <td>1014.7</td>\n",
       "      <td>1105.2</td>\n",
       "      <td>0.9</td>\n",
       "      <td>-90.5</td>\n",
       "      <td>The Dark Knight</td>\n",
       "    </tr>\n",
       "    <tr>\n",
       "      <th>1301</th>\n",
       "      <td>954.3</td>\n",
       "      <td>1074.1</td>\n",
       "      <td>0.9</td>\n",
       "      <td>-119.8</td>\n",
       "      <td>Harry Potter and the Deathly Hallows: Part 1</td>\n",
       "    </tr>\n",
       "    <tr>\n",
       "      <th>6861</th>\n",
       "      <td>911.8</td>\n",
       "      <td>967.4</td>\n",
       "      <td>0.9</td>\n",
       "      <td>-55.6</td>\n",
       "      <td>Harry Potter and the Prisoner of Azkaban</td>\n",
       "    </tr>\n",
       "    <tr>\n",
       "      <th>7601</th>\n",
       "      <td>901.2</td>\n",
       "      <td>625.1</td>\n",
       "      <td>1.4</td>\n",
       "      <td>276.2</td>\n",
       "      <td>Ice Age: Dawn of the Dinosaurs</td>\n",
       "    </tr>\n",
       "    <tr>\n",
       "      <th>6451</th>\n",
       "      <td>840.2</td>\n",
       "      <td>890.5</td>\n",
       "      <td>0.9</td>\n",
       "      <td>-50.2</td>\n",
       "      <td>Shrek the Third</td>\n",
       "    </tr>\n",
       "    <tr>\n",
       "      <th>6917</th>\n",
       "      <td>738.2</td>\n",
       "      <td>631.4</td>\n",
       "      <td>1.2</td>\n",
       "      <td>106.8</td>\n",
       "      <td>Fast &amp; Furious 6</td>\n",
       "    </tr>\n",
       "  </tbody>\n",
       "</table>\n",
       "</div>"
      ],
      "text/plain": [
       "      true revenue, млн. $  prediction revenue, млн. $  error_folds  \\\n",
       "5787                1292.6                       974.8          1.3   \n",
       "2630                1192.7                       693.3          1.7   \n",
       "5637                1137.7                       667.5          1.7   \n",
       "3243                1122.9                       806.4          1.4   \n",
       "8022                1014.7                      1105.2          0.9   \n",
       "1301                 954.3                      1074.1          0.9   \n",
       "6861                 911.8                       967.4          0.9   \n",
       "7601                 901.2                       625.1          1.4   \n",
       "6451                 840.2                       890.5          0.9   \n",
       "6917                 738.2                       631.4          1.2   \n",
       "\n",
       "      error, млн. $                                original_title  \n",
       "5787          317.8                       Avengers: Age of Ultron  \n",
       "2630          499.4                                        Frozen  \n",
       "5637          470.2                                    Iron Man 3  \n",
       "3243          316.5         The Lord of the Rings: The Two Towers  \n",
       "8022          -90.5                               The Dark Knight  \n",
       "1301         -119.8  Harry Potter and the Deathly Hallows: Part 1  \n",
       "6861          -55.6      Harry Potter and the Prisoner of Azkaban  \n",
       "7601          276.2                Ice Age: Dawn of the Dinosaurs  \n",
       "6451          -50.2                               Shrek the Third  \n",
       "6917          106.8                              Fast & Furious 6  "
      ]
     },
     "metadata": {},
     "output_type": "display_data"
    }
   ],
   "source": [
    "df_pred_test_comparison = pd.DataFrame({'true revenue, млн. $': y_test/1000000, 'prediction revenue, млн. $': y_pred /\n",
    "                                       1000000, 'error_folds': y_test/y_pred, 'error, млн. $': (y_test-y_pred)/1000000})\n",
    "df = df_pred_test_comparison.merge(\n",
    "    data['original_title'], left_index=True, right_index=True, how='inner')\n",
    "pd.options.display.float_format = '{:.1f}'.format\n",
    "display(df.sample(n=10).sort_values(\n",
    "    by='true revenue, млн. $', ascending=False))\n",
    "display(df.sort_values(by='true revenue, млн. $', ascending=False).head(10))"
   ]
  },
  {
   "cell_type": "markdown",
   "metadata": {},
   "source": [
    "# <a id='toc8_'></a>[Результаты](#toc0_)"
   ]
  },
  {
   "attachments": {},
   "cell_type": "markdown",
   "metadata": {},
   "source": [
    "<style>\n",
    "    .bordered-cell {\n",
    "        border: 3px solid black;\n",
    "        padding: 10px;\n",
    "    }\n",
    "</style>\n",
    "\n",
    "<div class=\"bordered-cell\">\n",
    "\n",
    "<font color='green' font size=4>**Модель**</font>\n",
    "\n",
    "- Модель построена и работает\n",
    "- Основа модели - CatboostRegressor\n",
    "- RMSE модели ~87 млн $\n",
    "- Скорость обучения и предсказания модели довольно высока, модель можно быстро обучить заново на новых данных\n",
    "\n",
    "<font color='green' font size=4>**Данные и признаки**</font>\n",
    "\n",
    "- Основная проблема этой задачи - обработка признаков и поиск актуального периода. Если бинарно классифицировать всех доступных актеров/режиссеров/компаний и др., количество признаков становится огромным и:\n",
    "   1. Модель становится медленной\n",
    "   2. Метрика RMSE падает\n",
    "\n",
    "- Поэтому была создана функция для кастомной и настраиваемой подготовки признаков:\n",
    "  1. Кратко суть функции - выделить n-топ (топ по выручке фильмов, n - параметр функции) актеров, режиссеров, продакшн-компаний и сделать из них признаки.\n",
    "  2. Данной функцией можно подобрать количество топ значимых признаков\n",
    "  3. Также в параметрах функции можно указать год начала данных (необходимо для актуализации периода)\n",
    "  4. При больших вычислительных ресурсах можно еще попробовать поискать лучший вариант классификации\n",
    "\n",
    "<font color='green' font size=4>**Дальнейшее развитие модели для выхода в продакшн**</font>\n",
    "\n",
    "- Часть признаков (например vote_count, popularity, оценки), доступных для построения модели на текущем датасете будут отсутствовать после получения новых данных (в ситуации когда фильм еще не вышел). Однако, на сайте IMDB до выхода фильма доступны аналогичные признаки, например vote_count можно заменить на wishlist_count, есть оценки критиков до выхода фильма, также присутствует аналог popularity.\n",
    "- Можно собрать больше признаков парсером - например звуковые компании, количество новостей, встречаемость в подборках и другие. К тому же, можно собрать больше информации с других ресурсов, кроме IMDB.\n",
    "- Необоходимо унифицировать функцию для обработки топ признаков, так как после новых фильмов будут появляться новые успешные режиссеры, актеры и др.\n",
    "- Собрать настраиваемый пайплайн"
   ]
  }
 ],
 "metadata": {
  "kernelspec": {
   "display_name": "datasci",
   "language": "python",
   "name": "python3"
  },
  "language_info": {
   "codemirror_mode": {
    "name": "ipython",
    "version": 3
   },
   "file_extension": ".py",
   "mimetype": "text/x-python",
   "name": "python",
   "nbconvert_exporter": "python",
   "pygments_lexer": "ipython3",
   "version": "3.10.11"
  },
  "orig_nbformat": 4
 },
 "nbformat": 4,
 "nbformat_minor": 2
}
