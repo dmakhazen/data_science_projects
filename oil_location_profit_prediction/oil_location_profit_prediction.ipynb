{
 "cells": [
  {
   "cell_type": "markdown",
   "metadata": {},
   "source": [
    "# Выбор локации для скважины"
   ]
  },
  {
   "cell_type": "markdown",
   "metadata": {},
   "source": [
    "Допустим, вы работаете в добывающей компании «ГлавРосГосНефть». Нужно решить, где бурить новую скважину.\n",
    "\n",
    "Вам предоставлены пробы нефти в трёх регионах: в каждом 10 000 месторождений, где измерили качество нефти и объём её запасов. Постройте модель машинного обучения, которая поможет определить регион, где добыча принесёт наибольшую прибыль. Проанализируйте возможную прибыль и риски техникой *Bootstrap.*\n",
    "\n",
    "Шаги для выбора локации:\n",
    "\n",
    "- В избранном регионе ищут месторождения, для каждого определяют значения признаков;\n",
    "- Строят модель и оценивают объём запасов;\n",
    "- Выбирают месторождения с самым высокими оценками значений. Количество месторождений зависит от бюджета компании и стоимости разработки одной скважины;\n",
    "- Прибыль равна суммарной прибыли отобранных месторождений."
   ]
  },
  {
   "attachments": {},
   "cell_type": "markdown",
   "metadata": {},
   "source": [
    "# Импорт библиотек"
   ]
  },
  {
   "cell_type": "code",
   "execution_count": 1,
   "metadata": {},
   "outputs": [],
   "source": [
    "#Pandas\n",
    "import pandas as pd\n",
    "\n",
    "# Seaborn\n",
    "import seaborn as sns\n",
    "\n",
    "#np\n",
    "import numpy as np\n",
    "\n",
    "#plt\n",
    "import matplotlib.pyplot as plt\n",
    "\n",
    "#Scikit-learn\n",
    "from sklearn.model_selection import train_test_split\n",
    "from sklearn.metrics import mean_absolute_error, mean_squared_error, r2_score \n",
    "from sklearn.linear_model import LinearRegression\n",
    "from sklearn.utils import shuffle\n",
    "from sklearn.preprocessing import StandardScaler"
   ]
  },
  {
   "attachments": {},
   "cell_type": "markdown",
   "metadata": {},
   "source": [
    "# Загрузка и подготовка данных"
   ]
  },
  {
   "cell_type": "code",
   "execution_count": 2,
   "metadata": {},
   "outputs": [],
   "source": [
    "geo_data_0 = pd.read_csv('/datasets/geo_data_0.csv')\n",
    "geo_data_1 = pd.read_csv('/datasets/geo_data_1.csv')\n",
    "geo_data_2 = pd.read_csv('/datasets/geo_data_2.csv')"
   ]
  },
  {
   "cell_type": "markdown",
   "metadata": {},
   "source": [
    "**Осмотр данных**"
   ]
  },
  {
   "cell_type": "code",
   "execution_count": 3,
   "metadata": {},
   "outputs": [
    {
     "data": {
      "text/html": [
       "<div>\n",
       "<style scoped>\n",
       "    .dataframe tbody tr th:only-of-type {\n",
       "        vertical-align: middle;\n",
       "    }\n",
       "\n",
       "    .dataframe tbody tr th {\n",
       "        vertical-align: top;\n",
       "    }\n",
       "\n",
       "    .dataframe thead th {\n",
       "        text-align: right;\n",
       "    }\n",
       "</style>\n",
       "<table border=\"1\" class=\"dataframe\">\n",
       "  <thead>\n",
       "    <tr style=\"text-align: right;\">\n",
       "      <th></th>\n",
       "      <th>id</th>\n",
       "      <th>f0</th>\n",
       "      <th>f1</th>\n",
       "      <th>f2</th>\n",
       "      <th>product</th>\n",
       "    </tr>\n",
       "  </thead>\n",
       "  <tbody>\n",
       "    <tr>\n",
       "      <th>0</th>\n",
       "      <td>txEyH</td>\n",
       "      <td>0.705745</td>\n",
       "      <td>-0.497823</td>\n",
       "      <td>1.221170</td>\n",
       "      <td>105.280062</td>\n",
       "    </tr>\n",
       "    <tr>\n",
       "      <th>1</th>\n",
       "      <td>2acmU</td>\n",
       "      <td>1.334711</td>\n",
       "      <td>-0.340164</td>\n",
       "      <td>4.365080</td>\n",
       "      <td>73.037750</td>\n",
       "    </tr>\n",
       "    <tr>\n",
       "      <th>2</th>\n",
       "      <td>409Wp</td>\n",
       "      <td>1.022732</td>\n",
       "      <td>0.151990</td>\n",
       "      <td>1.419926</td>\n",
       "      <td>85.265647</td>\n",
       "    </tr>\n",
       "    <tr>\n",
       "      <th>3</th>\n",
       "      <td>iJLyR</td>\n",
       "      <td>-0.032172</td>\n",
       "      <td>0.139033</td>\n",
       "      <td>2.978566</td>\n",
       "      <td>168.620776</td>\n",
       "    </tr>\n",
       "    <tr>\n",
       "      <th>4</th>\n",
       "      <td>Xdl7t</td>\n",
       "      <td>1.988431</td>\n",
       "      <td>0.155413</td>\n",
       "      <td>4.751769</td>\n",
       "      <td>154.036647</td>\n",
       "    </tr>\n",
       "  </tbody>\n",
       "</table>\n",
       "</div>"
      ],
      "text/plain": [
       "      id        f0        f1        f2     product\n",
       "0  txEyH  0.705745 -0.497823  1.221170  105.280062\n",
       "1  2acmU  1.334711 -0.340164  4.365080   73.037750\n",
       "2  409Wp  1.022732  0.151990  1.419926   85.265647\n",
       "3  iJLyR -0.032172  0.139033  2.978566  168.620776\n",
       "4  Xdl7t  1.988431  0.155413  4.751769  154.036647"
      ]
     },
     "metadata": {},
     "output_type": "display_data"
    },
    {
     "data": {
      "text/plain": [
       "id         0\n",
       "f0         0\n",
       "f1         0\n",
       "f2         0\n",
       "product    0\n",
       "dtype: int64"
      ]
     },
     "metadata": {},
     "output_type": "display_data"
    },
    {
     "data": {
      "text/plain": [
       "id          object\n",
       "f0         float64\n",
       "f1         float64\n",
       "f2         float64\n",
       "product    float64\n",
       "dtype: object"
      ]
     },
     "metadata": {},
     "output_type": "display_data"
    },
    {
     "data": {
      "text/plain": [
       "(100000, 5)"
      ]
     },
     "metadata": {},
     "output_type": "display_data"
    },
    {
     "name": "stdout",
     "output_type": "stream",
     "text": [
      "                  f0             f1             f2        product\n",
      "count  100000.000000  100000.000000  100000.000000  100000.000000\n",
      "mean        0.500419       0.250143       2.502647      92.500000\n",
      "std         0.871832       0.504433       3.248248      44.288691\n",
      "min        -1.408605      -0.848218     -12.088328       0.000000\n",
      "25%        -0.072580      -0.200881       0.287748      56.497507\n",
      "50%         0.502360       0.250252       2.515969      91.849972\n",
      "75%         1.073581       0.700646       4.715088     128.564089\n",
      "max         2.362331       1.343769      16.003790     185.364347\n",
      "9250000.000000002\n"
     ]
    },
    {
     "data": {
      "image/png": "[encoded data removed]",
      "text/plain": [
       "<Figure size 432x288 with 1 Axes>"
      ]
     },
     "metadata": {
      "needs_background": "light"
     },
     "output_type": "display_data"
    }
   ],
   "source": [
    "display(geo_data_0.head(), geo_data_0.isna().sum(), geo_data_0.dtypes, geo_data_0.shape)\n",
    "print(geo_data_0.describe())\n",
    "geo_data_0['product'].hist(bins=200)\n",
    "print(geo_data_0['product'].sum())"
   ]
  },
  {
   "cell_type": "code",
   "execution_count": 4,
   "metadata": {},
   "outputs": [
    {
     "data": {
      "text/html": [
       "<div>\n",
       "<style scoped>\n",
       "    .dataframe tbody tr th:only-of-type {\n",
       "        vertical-align: middle;\n",
       "    }\n",
       "\n",
       "    .dataframe tbody tr th {\n",
       "        vertical-align: top;\n",
       "    }\n",
       "\n",
       "    .dataframe thead th {\n",
       "        text-align: right;\n",
       "    }\n",
       "</style>\n",
       "<table border=\"1\" class=\"dataframe\">\n",
       "  <thead>\n",
       "    <tr style=\"text-align: right;\">\n",
       "      <th></th>\n",
       "      <th>id</th>\n",
       "      <th>f0</th>\n",
       "      <th>f1</th>\n",
       "      <th>f2</th>\n",
       "      <th>product</th>\n",
       "    </tr>\n",
       "  </thead>\n",
       "  <tbody>\n",
       "    <tr>\n",
       "      <th>0</th>\n",
       "      <td>kBEdx</td>\n",
       "      <td>-15.001348</td>\n",
       "      <td>-8.276000</td>\n",
       "      <td>-0.005876</td>\n",
       "      <td>3.179103</td>\n",
       "    </tr>\n",
       "    <tr>\n",
       "      <th>1</th>\n",
       "      <td>62mP7</td>\n",
       "      <td>14.272088</td>\n",
       "      <td>-3.475083</td>\n",
       "      <td>0.999183</td>\n",
       "      <td>26.953261</td>\n",
       "    </tr>\n",
       "    <tr>\n",
       "      <th>2</th>\n",
       "      <td>vyE1P</td>\n",
       "      <td>6.263187</td>\n",
       "      <td>-5.948386</td>\n",
       "      <td>5.001160</td>\n",
       "      <td>134.766305</td>\n",
       "    </tr>\n",
       "    <tr>\n",
       "      <th>3</th>\n",
       "      <td>KcrkZ</td>\n",
       "      <td>-13.081196</td>\n",
       "      <td>-11.506057</td>\n",
       "      <td>4.999415</td>\n",
       "      <td>137.945408</td>\n",
       "    </tr>\n",
       "    <tr>\n",
       "      <th>4</th>\n",
       "      <td>AHL4O</td>\n",
       "      <td>12.702195</td>\n",
       "      <td>-8.147433</td>\n",
       "      <td>5.004363</td>\n",
       "      <td>134.766305</td>\n",
       "    </tr>\n",
       "  </tbody>\n",
       "</table>\n",
       "</div>"
      ],
      "text/plain": [
       "      id         f0         f1        f2     product\n",
       "0  kBEdx -15.001348  -8.276000 -0.005876    3.179103\n",
       "1  62mP7  14.272088  -3.475083  0.999183   26.953261\n",
       "2  vyE1P   6.263187  -5.948386  5.001160  134.766305\n",
       "3  KcrkZ -13.081196 -11.506057  4.999415  137.945408\n",
       "4  AHL4O  12.702195  -8.147433  5.004363  134.766305"
      ]
     },
     "metadata": {},
     "output_type": "display_data"
    },
    {
     "data": {
      "text/plain": [
       "id         0\n",
       "f0         0\n",
       "f1         0\n",
       "f2         0\n",
       "product    0\n",
       "dtype: int64"
      ]
     },
     "metadata": {},
     "output_type": "display_data"
    },
    {
     "data": {
      "text/plain": [
       "id          object\n",
       "f0         float64\n",
       "f1         float64\n",
       "f2         float64\n",
       "product    float64\n",
       "dtype: object"
      ]
     },
     "metadata": {},
     "output_type": "display_data"
    },
    {
     "data": {
      "text/plain": [
       "(100000, 5)"
      ]
     },
     "metadata": {},
     "output_type": "display_data"
    },
    {
     "name": "stdout",
     "output_type": "stream",
     "text": [
      "                  f0             f1             f2        product\n",
      "count  100000.000000  100000.000000  100000.000000  100000.000000\n",
      "mean        1.141296      -4.796579       2.494541      68.825000\n",
      "std         8.965932       5.119872       1.703572      45.944423\n",
      "min       -31.609576     -26.358598      -0.018144       0.000000\n",
      "25%        -6.298551      -8.267985       1.000021      26.953261\n",
      "50%         1.153055      -4.813172       2.011479      57.085625\n",
      "75%         8.621015      -1.332816       3.999904     107.813044\n",
      "max        29.421755      18.734063       5.019721     137.945408\n",
      "6882500.000000002\n"
     ]
    },
    {
     "data": {
      "image/png": "[encoded data removed]",
      "text/plain": [
       "<Figure size 432x288 with 1 Axes>"
      ]
     },
     "metadata": {
      "needs_background": "light"
     },
     "output_type": "display_data"
    }
   ],
   "source": [
    "display(geo_data_1.head(), geo_data_1.isna().sum(), geo_data_1.dtypes, geo_data_1.shape)\n",
    "print(geo_data_1.describe())\n",
    "geo_data_1['product'].hist(bins=200)\n",
    "print(geo_data_1['product'].sum())"
   ]
  },
  {
   "cell_type": "code",
   "execution_count": 5,
   "metadata": {},
   "outputs": [
    {
     "data": {
      "text/html": [
       "<div>\n",
       "<style scoped>\n",
       "    .dataframe tbody tr th:only-of-type {\n",
       "        vertical-align: middle;\n",
       "    }\n",
       "\n",
       "    .dataframe tbody tr th {\n",
       "        vertical-align: top;\n",
       "    }\n",
       "\n",
       "    .dataframe thead th {\n",
       "        text-align: right;\n",
       "    }\n",
       "</style>\n",
       "<table border=\"1\" class=\"dataframe\">\n",
       "  <thead>\n",
       "    <tr style=\"text-align: right;\">\n",
       "      <th></th>\n",
       "      <th>id</th>\n",
       "      <th>f0</th>\n",
       "      <th>f1</th>\n",
       "      <th>f2</th>\n",
       "      <th>product</th>\n",
       "    </tr>\n",
       "  </thead>\n",
       "  <tbody>\n",
       "    <tr>\n",
       "      <th>0</th>\n",
       "      <td>fwXo0</td>\n",
       "      <td>-1.146987</td>\n",
       "      <td>0.963328</td>\n",
       "      <td>-0.828965</td>\n",
       "      <td>27.758673</td>\n",
       "    </tr>\n",
       "    <tr>\n",
       "      <th>1</th>\n",
       "      <td>WJtFt</td>\n",
       "      <td>0.262778</td>\n",
       "      <td>0.269839</td>\n",
       "      <td>-2.530187</td>\n",
       "      <td>56.069697</td>\n",
       "    </tr>\n",
       "    <tr>\n",
       "      <th>2</th>\n",
       "      <td>ovLUW</td>\n",
       "      <td>0.194587</td>\n",
       "      <td>0.289035</td>\n",
       "      <td>-5.586433</td>\n",
       "      <td>62.871910</td>\n",
       "    </tr>\n",
       "    <tr>\n",
       "      <th>3</th>\n",
       "      <td>q6cA6</td>\n",
       "      <td>2.236060</td>\n",
       "      <td>-0.553760</td>\n",
       "      <td>0.930038</td>\n",
       "      <td>114.572842</td>\n",
       "    </tr>\n",
       "    <tr>\n",
       "      <th>4</th>\n",
       "      <td>WPMUX</td>\n",
       "      <td>-0.515993</td>\n",
       "      <td>1.716266</td>\n",
       "      <td>5.899011</td>\n",
       "      <td>149.600746</td>\n",
       "    </tr>\n",
       "  </tbody>\n",
       "</table>\n",
       "</div>"
      ],
      "text/plain": [
       "      id        f0        f1        f2     product\n",
       "0  fwXo0 -1.146987  0.963328 -0.828965   27.758673\n",
       "1  WJtFt  0.262778  0.269839 -2.530187   56.069697\n",
       "2  ovLUW  0.194587  0.289035 -5.586433   62.871910\n",
       "3  q6cA6  2.236060 -0.553760  0.930038  114.572842\n",
       "4  WPMUX -0.515993  1.716266  5.899011  149.600746"
      ]
     },
     "metadata": {},
     "output_type": "display_data"
    },
    {
     "data": {
      "text/plain": [
       "id         0\n",
       "f0         0\n",
       "f1         0\n",
       "f2         0\n",
       "product    0\n",
       "dtype: int64"
      ]
     },
     "metadata": {},
     "output_type": "display_data"
    },
    {
     "data": {
      "text/plain": [
       "id          object\n",
       "f0         float64\n",
       "f1         float64\n",
       "f2         float64\n",
       "product    float64\n",
       "dtype: object"
      ]
     },
     "metadata": {},
     "output_type": "display_data"
    },
    {
     "data": {
      "text/plain": [
       "(100000, 5)"
      ]
     },
     "metadata": {},
     "output_type": "display_data"
    },
    {
     "name": "stdout",
     "output_type": "stream",
     "text": [
      "                  f0             f1             f2        product\n",
      "count  100000.000000  100000.000000  100000.000000  100000.000000\n",
      "mean        0.002023      -0.002081       2.495128      95.000000\n",
      "std         1.732045       1.730417       3.473445      44.749921\n",
      "min        -8.760004      -7.084020     -11.970335       0.000000\n",
      "25%        -1.162288      -1.174820       0.130359      59.450441\n",
      "50%         0.009424      -0.009482       2.484236      94.925613\n",
      "75%         1.158535       1.163678       4.858794     130.595027\n",
      "max         7.238262       7.844801      16.739402     190.029838\n",
      "9500000.000000004\n"
     ]
    },
    {
     "data": {
      "image/png": "[encoded data removed]",
      "text/plain": [
       "<Figure size 432x288 with 1 Axes>"
      ]
     },
     "metadata": {
      "needs_background": "light"
     },
     "output_type": "display_data"
    }
   ],
   "source": [
    "display(geo_data_2.head(), geo_data_2.isna().sum(), geo_data_2.dtypes, geo_data_2.shape)\n",
    "print(geo_data_2.describe())\n",
    "geo_data_2['product'].hist(bins=200)\n",
    "print(geo_data_2['product'].sum())"
   ]
  },
  {
   "attachments": {},
   "cell_type": "markdown",
   "metadata": {},
   "source": [
    "<style>\n",
    "    .bordered-cell {\n",
    "        border: 3px solid black;\n",
    "        padding: 10px;\n",
    "    }\n",
    "</style>\n",
    "\n",
    "<div class=\"bordered-cell\">\n",
    "\n",
    "**Вывод:** \n",
    "\n",
    "- пропусков нет \n",
    "- типы данных соответствующие\n",
    "- количество продукта распределенно похоже в данных регионов geo0 и geo2, но в geo1 данные расположены более дискретно."
   ]
  },
  {
   "attachments": {},
   "cell_type": "markdown",
   "metadata": {},
   "source": [
    "**Разбиваю данные на группы**"
   ]
  },
  {
   "cell_type": "code",
   "execution_count": 6,
   "metadata": {},
   "outputs": [],
   "source": [
    "# Целевой признак\n",
    "target_0 = geo_data_0['product']\n",
    "target_1 = geo_data_1['product']\n",
    "target_2 = geo_data_2['product']\n",
    "\n",
    "# Признаки\n",
    "features_0 = geo_data_0.drop(['product', 'id'], axis=1)\n",
    "features_1 = geo_data_1.drop(['product', 'id'], axis=1)\n",
    "features_2 = geo_data_2.drop(['product', 'id'], axis=1)\n",
    "\n",
    "# Выборки\n",
    "features_train_0, features_valid_0, target_train_0, target_valid_0 = train_test_split(\n",
    "    features_0, target_0, test_size=0.25, random_state=12345)\n",
    "features_train_1, features_valid_1, target_train_1, target_valid_1 = train_test_split(\n",
    "    features_1, target_1, test_size=0.25, random_state=12345)\n",
    "features_train_2, features_valid_2, target_train_2, target_valid_2 = train_test_split(\n",
    "    features_2, target_2, test_size=0.25, random_state=12345)"
   ]
  },
  {
   "cell_type": "markdown",
   "metadata": {},
   "source": [
    "**Масштабирование признаков**"
   ]
  },
  {
   "cell_type": "code",
   "execution_count": 7,
   "metadata": {},
   "outputs": [],
   "source": [
    "# Geo0\n",
    "# Создаю скейлер\n",
    "scaler = StandardScaler()\n",
    "# Обучаю скейлер\n",
    "scaler.fit(features_train_0)\n",
    "# Трансформирую данные\n",
    "features_train_0 = scaler.transform(features_train_0)\n",
    "features_valid_0 = scaler.transform(features_valid_0)\n",
    "\n",
    "# Geo1\n",
    "# Создаю скейлер\n",
    "scaler = StandardScaler()\n",
    "# Обучаю скейлер\n",
    "scaler.fit(features_train_1)\n",
    "# Трансформирую данные\n",
    "features_train_1 = scaler.transform(features_train_1)\n",
    "features_valid_1 = scaler.transform(features_valid_1)\n",
    "\n",
    "# Geo2\n",
    "# Создаю скейлер\n",
    "scaler = StandardScaler()\n",
    "# Обучаю скейлер\n",
    "scaler.fit(features_train_2)\n",
    "# Трансформирую данные\n",
    "features_train_2 = scaler.transform(features_train_2)\n",
    "features_valid_2 = scaler.transform(features_valid_2)"
   ]
  },
  {
   "attachments": {},
   "cell_type": "markdown",
   "metadata": {},
   "source": [
    "# Обучение и проверка модели"
   ]
  },
  {
   "cell_type": "markdown",
   "metadata": {},
   "source": [
    "Создаю списки для дальнейшей работы"
   ]
  },
  {
   "cell_type": "code",
   "execution_count": 8,
   "metadata": {},
   "outputs": [],
   "source": [
    "features_train_list = [features_train_0, features_train_1 , features_train_2]\n",
    "features_valid_list = [features_valid_0, features_valid_1 , features_valid_2]\n",
    "target_train_list = [target_train_0, target_train_1, target_train_2]\n",
    "target_valid_list = [target_valid_0, target_valid_1, target_valid_2]\n",
    "predicted_valid_list = []\n",
    "model_list = []"
   ]
  },
  {
   "cell_type": "markdown",
   "metadata": {},
   "source": [
    "Обучаю модели и вывожу метрики моделей"
   ]
  },
  {
   "cell_type": "code",
   "execution_count": 9,
   "metadata": {},
   "outputs": [
    {
     "name": "stdout",
     "output_type": "stream",
     "text": [
      "Model for geo_data 0\n",
      "Model MAE = 30.919600777151313\n",
      "Median MAE = 37.665591078998496\n",
      "RMSE = 37.5794217150813\n",
      "Средний запас предсказанного сырья 92.59256778438035\n",
      "Реальный средний запас сырья 92.50000000000001\n",
      "R2 = 0.27994321524487786 \n",
      "\n",
      "Model for geo_data 1\n",
      "Model MAE = 0.7187662442124758\n",
      "Median MAE = 40.26547941945416\n",
      "RMSE = 0.893099286775617\n",
      "Средний запас предсказанного сырья 68.728546895446\n",
      "Реальный средний запас сырья 68.825\n",
      "R2 = 0.9996233978805127 \n",
      "\n",
      "Model for geo_data 2\n",
      "Model MAE = 32.792652105481814\n",
      "Median MAE = 37.920985595269364\n",
      "RMSE = 40.02970873393434\n",
      "Средний запас предсказанного сырья 94.96504596800489\n",
      "Реальный средний запас сырья 95.00000000000004\n",
      "R2 = 0.20524758386040443 \n",
      "\n"
     ]
    }
   ],
   "source": [
    "for i in range(len(features_train_list)):\n",
    "    \n",
    "    # Создание и обучение\n",
    "    model = LinearRegression()\n",
    "    model.fit(features_train_list[i], target_train_list[i])\n",
    "    \n",
    "    # Сбор в списки\n",
    "    predicted_valid_list.append(model.predict(features_valid_list[i]))\n",
    "    model_list.append(model)\n",
    "    \n",
    "    # Расчёт метрик\n",
    "    print('Model for geo_data', i)\n",
    "    print('Model MAE =', mean_absolute_error(target_valid_list[i], predicted_valid_list[i]))\n",
    "    print(\"Median MAE =\", mean_absolute_error(\n",
    "        target_valid_list[i], \n",
    "        pd.Series(target_valid_list[i].median(),index=target_valid_list[i].index)))\n",
    "    print(\"RMSE =\", mean_squared_error(target_valid_list[i], predicted_valid_list[i]) ** 0.5)\n",
    "    print(\"Средний запас предсказанного сырья\", predicted_valid_list[i].mean())\n",
    "    print(\"Реальный средний запас сырья\",pd.concat([target_valid_list[i], target_train_list[i]]).mean())\n",
    "    print(\"R2 =\", r2_score(target_valid_list[i], predicted_valid_list[i]), \"\\n\")"
   ]
  },
  {
   "attachments": {},
   "cell_type": "markdown",
   "metadata": {},
   "source": [
    "<style>\n",
    "    .bordered-cell {\n",
    "        border: 3px solid black;\n",
    "        padding: 10px;\n",
    "    }\n",
    "</style>\n",
    "\n",
    "<div class=\"bordered-cell\">\n",
    "\n",
    "**Выводы:** \n",
    "- модели получены \n",
    "- MAE в моделях geo0 и geo2 немного ниже, чем MAE в константной модели по медиане\n",
    "- geo1 модель намного лучше, чем константная\n",
    "- В регионе 0 и 2 средный запас сырья выше, чем в регионе 1"
   ]
  },
  {
   "attachments": {},
   "cell_type": "markdown",
   "metadata": {},
   "source": [
    "# Подготовка к расчёту прибыли\n"
   ]
  },
  {
   "cell_type": "markdown",
   "metadata": {},
   "source": [
    "**Константы и объемы сырья**"
   ]
  },
  {
   "cell_type": "code",
   "execution_count": null,
   "metadata": {},
   "outputs": [
    {
     "name": "stdout",
     "output_type": "stream",
     "text": [
      "Цена скаважины исходя из расходов 50.0, млн. рублей\n",
      "Минимальное среднее количество продукта в месторождениях региона, достаточное для разработки 111.11, тыс. баррелей\n"
     ]
    }
   ],
   "source": [
    "# Бюджет на разработку скважин в регионе — 10 млрд рублей, в млн. рублей\n",
    "EXPENSES = 10000\n",
    "# Доход с каждой единицы продукта составляет 450 тыс. рублей, поскольку объём указан в тысячах баррелей. в млн. рублей\n",
    "PER_BARREL_INCOME = 0.45\n",
    "# При разведке региона исследуют 500 точек, из которых с помощью машинного обучения выбирают 200 лучших для разработки.\n",
    "WELLS_NUMBER = 500\n",
    "WELLS_NUMBER_BEST = 200\n",
    "# Цена скаважины исходя из расходов, в млн. рублей\n",
    "WELL_COST = EXPENSES / WELLS_NUMBER_BEST\n",
    "print(f'Цена скаважины исходя из расходов {WELL_COST}, млн. рублей')\n",
    "# Минимальное среднее количество продукта в месторождениях региона, достаточное для разработки\n",
    "PRODUCT_MIN_MEAN_PROFIT = WELL_COST / PER_BARREL_INCOME\n",
    "print(f'Минимальное среднее количество продукта в месторождениях региона, достаточное для разработки {PRODUCT_MIN_MEAN_PROFIT:.2f}, тыс. баррелей')"
   ]
  },
  {
   "cell_type": "code",
   "execution_count": 11,
   "metadata": {},
   "outputs": [
    {
     "name": "stdout",
     "output_type": "stream",
     "text": [
      "Общие запасы в регионе, медиана, среднее\n",
      "9250000.00, 91.85, 92.50\n",
      "6882500.00, 57.09, 68.83\n",
      "9500000.00, 94.93, 95.00\n"
     ]
    }
   ],
   "source": [
    "print('Общие запасы в регионе, медиана, среднее')\n",
    "print(f'{geo_data_0[\"product\"].sum():.2f}, {geo_data_0[\"product\"].median():.2f}, {geo_data_0[\"product\"].mean():.2f}')\n",
    "print(f'{geo_data_1[\"product\"].sum():.2f}, {geo_data_1[\"product\"].median():.2f}, {geo_data_1[\"product\"].mean():.2f}')\n",
    "print(f'{geo_data_2[\"product\"].sum():.2f}, {geo_data_2[\"product\"].median():.2f}, {geo_data_2[\"product\"].mean():.2f}')"
   ]
  },
  {
   "attachments": {},
   "cell_type": "markdown",
   "metadata": {},
   "source": [
    "<style>\n",
    "    .bordered-cell {\n",
    "        border: 3px solid black;\n",
    "        padding: 10px;\n",
    "    }\n",
    "</style>\n",
    "\n",
    "<div class=\"bordered-cell\">\n",
    "\n",
    "**Вывод**\n",
    "- Константы для расчета прибыли и рисков получены\n",
    "- Средние запасы сырья в скважинах ниже, чем минимальные для разработки\n",
    "- Цена скважины 50 млн\n",
    "- Минимальное количество сырья для разработки ~ 111.1 тыс. баррелей"
   ]
  },
  {
   "cell_type": "markdown",
   "metadata": {},
   "source": [
    "**Функция расчёта прибыли**"
   ]
  },
  {
   "cell_type": "code",
   "execution_count": 12,
   "metadata": {},
   "outputs": [],
   "source": [
    "def income(target, probabilities, count):\n",
    "    probs_sorted = probabilities.sort_values(ascending=False) \n",
    "    selected = target[probs_sorted.index].iloc[:count] \n",
    "    return selected.sum()*per_barrel_income"
   ]
  },
  {
   "attachments": {},
   "cell_type": "markdown",
   "metadata": {},
   "source": [
    "# Расчёт прибыли и рисков "
   ]
  },
  {
   "cell_type": "code",
   "execution_count": 13,
   "metadata": {},
   "outputs": [
    {
     "name": "stdout",
     "output_type": "stream",
     "text": [
      "Интервал возможных доходов для региона 0\n",
      "Средняя выручка: 10425.938526910591\n",
      "Средняя прибыль: 425.93852691059146\n",
      "2.5% квантиль -102.0900948379367\n",
      "97,5% квантиль 947.9763533583682 \n",
      "\n",
      "Интервал возможных доходов для региона 1\n",
      "Средняя выручка: 10518.259493697327\n",
      "Средняя прибыль: 518.2594936973273\n",
      "2.5% квантиль 128.12323143308458\n",
      "97,5% квантиль 953.6129820669084 \n",
      "\n",
      "Интервал возможных доходов для региона 2\n",
      "Средняя выручка: 10420.194005344052\n",
      "Средняя прибыль: 420.19400534405213\n",
      "2.5% квантиль -115.85260916001062\n",
      "97,5% квантиль 989.6299398445753 \n",
      "\n"
     ]
    }
   ],
   "source": [
    "# Переделываю индексы\n",
    "for i in range(3):\n",
    "    predicted_valid_list[i] = pd.Series(predicted_valid_list[i], index=target_valid_list[i].index)\n",
    "\n",
    "# State для случайного состояния для каждого бутстрепа\n",
    "state = np.random.RandomState(12345)\n",
    "# В этот список записываю все значения из бутстрепа\n",
    "values_list = []\n",
    "\n",
    "# Сам бутстреп\n",
    "for geo in range(3):\n",
    "    values = []\n",
    "    for i in range(1000):\n",
    "        target = target_valid_list[geo].sample(n=500, replace=True, random_state=state)\n",
    "        prediction = predicted_valid_list[geo][target.index]\n",
    "        values.append(income(target, prediction, 200))\n",
    "    #Переделываю список в Series и добавляю в список для дальнейшего анализа\n",
    "    values = pd.Series(values)\n",
    "    values_list.append(values)\n",
    "    # Расчёт квантилей, сделал несколько отличных от 5% для поиска риска убыточности\n",
    "    print('Интервал возможных доходов для региона', geo)\n",
    "    print(\"Средняя выручка:\", values.mean())\n",
    "    print(\"Средняя прибыль:\", values.mean()-expenses)\n",
    "    print('2.5% квантиль', values.quantile(0.025)-expenses)\n",
    "    print('97,5% квантиль', values.quantile(0.975)-expenses, \"\\n\")   "
   ]
  },
  {
   "cell_type": "code",
   "execution_count": 14,
   "metadata": {},
   "outputs": [
    {
     "name": "stdout",
     "output_type": "stream",
     "text": [
      "              geo0         geo1         geo2\n",
      "count  1000.000000  1000.000000  1000.000000\n",
      "mean    425.938527   518.259494   420.194005\n",
      "std     277.276722   209.647539   284.673132\n",
      "min    -376.842708  -140.144649  -437.918803\n",
      "25%     234.466546   376.424965   212.848779\n",
      "50%     420.672271   510.527806   414.664227\n",
      "75%     619.279046   654.131670   621.125333\n",
      "max    1409.841663  1176.128220  1479.012648\n"
     ]
    },
    {
     "data": {
      "image/png": "[encoded data removed]",
      "text/plain": [
       "<Figure size 432x288 with 1 Axes>"
      ]
     },
     "metadata": {
      "needs_background": "light"
     },
     "output_type": "display_data"
    }
   ],
   "source": [
    "values_df = pd.DataFrame({'geo0': values_list[0]-expenses,\n",
    "                   'geo1': values_list[1]-expenses,\n",
    "                    'geo2': values_list[2]-expenses})\n",
    "print(values_df.describe())\n",
    "\n",
    "fig = sns.histplot(data=values_df, element=\"poly\")\n",
    "plt.xlabel(\"Доход в млн. рублей\")\n",
    "plt.ylabel(\"Количество выборок\")\n",
    "plt.title(\"Распределение средних выборок по доходу\")\n",
    "plt.show(fig)"
   ]
  },
  {
   "cell_type": "markdown",
   "metadata": {},
   "source": [
    "**Подсчёт рисков**"
   ]
  },
  {
   "cell_type": "code",
   "execution_count": 41,
   "metadata": {},
   "outputs": [
    {
     "name": "stdout",
     "output_type": "stream",
     "text": [
      "Вероятность убытка равна 5.9 % для региона 0\n",
      "Вероятность убытка равна 0.2 % для региона 1\n",
      "Вероятность убытка равна 6.1 % для региона 2\n",
      "\n",
      "Вероятность получения убытков для регионов, в процентах\n",
      "geo0    6.0\n",
      "geo1    0.3\n",
      "geo2    6.2\n",
      "dtype: float64\n"
     ]
    }
   ],
   "source": [
    "count=0\n",
    "for value in values_list:\n",
    "    for quantile in np.arange(0.001, 0.10, 0.001):\n",
    "        if value.quantile(quantile)-expenses>0:\n",
    "            print('Вероятность убытка равна', (quantile-0.001)*100, '% для региона', count)\n",
    "            break\n",
    "    count+=1\n",
    "\n",
    "print()    \n",
    "    \n",
    "print('Вероятность получения убытков для регионов, в процентах')\n",
    "print(values_df[values_df<0].count()/values_df.shape[0]*100)"
   ]
  },
  {
   "attachments": {},
   "cell_type": "markdown",
   "metadata": {},
   "source": [
    "# Результат"
   ]
  },
  {
   "attachments": {},
   "cell_type": "markdown",
   "metadata": {
    "jp-MarkdownHeadingCollapsed": true,
    "tags": []
   },
   "source": [
    "<style>\n",
    "    .bordered-cell {\n",
    "        border: 3px solid black;\n",
    "        padding: 10px;\n",
    "    }\n",
    "</style>\n",
    "\n",
    "<div class=\"bordered-cell\">\n",
    "\n",
    "**Поиск региона:**\n",
    "\n",
    "- Риск убытков для региона 0 равен 5%, средняя прибыль равна 425.93 млн. рублей\n",
    "- Риск убытков для региона 1 менее 1%, средняя прибыль равна 518.25 млн. рублей\n",
    "- Риск убытков для региона 2 равен 6%, средняя прибыль равна 420.19 млн. рублей\n",
    "- Вероятность получения убытка для региона 0 равна 5.9 %\n",
    "- Вероятность получения убытка для региона 1 равна 0.2 %\n",
    "- Вероятность получения убытка для региона 2 равна 6.1 %\n",
    "\n",
    "**Выводы по региону 1:**\n",
    "- Средняя выручка 10518.25 млн. рублей\n",
    "- Средняя прибыль равна 518.25 млн. рублей\n",
    "- Интервал 2,5%->97,5% (0.95 доверительный интервал) соответствует 128.12 и 1953.61 млн. рублей прибыли\n",
    "- Распределение предсказанных доходов и прибыли отличается от двух других регионов в лучшую сторону\n",
    "\n",
    "**Вывод общий:**\n",
    "- Наименее рисковый и наиболее прибыльный регион - номер 1"
   ]
  }
 ],
 "metadata": {
  "ExecuteTimeLog": [
   {
    "duration": 1727,
    "start_time": "2023-03-12T07:10:28.128Z"
   },
   {
    "duration": 588,
    "start_time": "2023-03-12T07:10:38.595Z"
   },
   {
    "duration": 5,
    "start_time": "2023-03-12T07:10:45.642Z"
   },
   {
    "duration": 1844,
    "start_time": "2023-03-15T06:08:15.203Z"
   },
   {
    "duration": 208,
    "start_time": "2023-03-15T06:08:17.050Z"
   },
   {
    "duration": 0,
    "start_time": "2023-03-15T06:08:17.260Z"
   },
   {
    "duration": 0,
    "start_time": "2023-03-15T06:08:17.262Z"
   },
   {
    "duration": 0,
    "start_time": "2023-03-15T06:08:17.263Z"
   },
   {
    "duration": 0,
    "start_time": "2023-03-15T06:08:17.264Z"
   },
   {
    "duration": 0,
    "start_time": "2023-03-15T06:08:17.265Z"
   },
   {
    "duration": 0,
    "start_time": "2023-03-15T06:08:17.266Z"
   },
   {
    "duration": 0,
    "start_time": "2023-03-15T06:08:17.278Z"
   },
   {
    "duration": 0,
    "start_time": "2023-03-15T06:08:17.280Z"
   },
   {
    "duration": 0,
    "start_time": "2023-03-15T06:08:17.281Z"
   },
   {
    "duration": 0,
    "start_time": "2023-03-15T06:08:17.282Z"
   },
   {
    "duration": 0,
    "start_time": "2023-03-15T06:08:17.284Z"
   },
   {
    "duration": 0,
    "start_time": "2023-03-15T06:08:17.285Z"
   },
   {
    "duration": 1474,
    "start_time": "2023-03-15T06:08:43.099Z"
   },
   {
    "duration": 663,
    "start_time": "2023-03-15T06:08:44.575Z"
   },
   {
    "duration": 486,
    "start_time": "2023-03-15T06:08:45.240Z"
   },
   {
    "duration": 582,
    "start_time": "2023-03-15T06:08:45.729Z"
   },
   {
    "duration": 487,
    "start_time": "2023-03-15T06:08:46.313Z"
   },
   {
    "duration": 40,
    "start_time": "2023-03-15T06:08:46.802Z"
   },
   {
    "duration": 50,
    "start_time": "2023-03-15T06:08:46.844Z"
   },
   {
    "duration": 3,
    "start_time": "2023-03-15T06:08:46.897Z"
   },
   {
    "duration": 188,
    "start_time": "2023-03-15T06:08:46.902Z"
   },
   {
    "duration": 92,
    "start_time": "2023-03-15T06:08:47.093Z"
   },
   {
    "duration": 124,
    "start_time": "2023-03-15T06:08:47.187Z"
   },
   {
    "duration": 3,
    "start_time": "2023-03-15T06:08:47.313Z"
   },
   {
    "duration": 4418,
    "start_time": "2023-03-15T06:08:47.318Z"
   },
   {
    "duration": 257,
    "start_time": "2023-03-15T06:08:51.738Z"
   },
   {
    "duration": 5157,
    "start_time": "2023-03-15T06:11:30.794Z"
   },
   {
    "duration": 4653,
    "start_time": "2023-03-15T06:12:11.655Z"
   },
   {
    "duration": 263,
    "start_time": "2023-03-15T06:12:35.841Z"
   },
   {
    "duration": 76,
    "start_time": "2023-03-15T06:23:37.415Z"
   },
   {
    "duration": 115,
    "start_time": "2023-03-15T06:23:45.837Z"
   },
   {
    "duration": 11,
    "start_time": "2023-03-15T06:25:21.995Z"
   },
   {
    "duration": 12,
    "start_time": "2023-03-15T06:25:33.339Z"
   },
   {
    "duration": 4,
    "start_time": "2023-03-15T06:27:54.260Z"
   },
   {
    "duration": 61,
    "start_time": "2023-03-15T06:27:58.792Z"
   },
   {
    "duration": 68,
    "start_time": "2023-03-15T06:28:14.109Z"
   },
   {
    "duration": 64,
    "start_time": "2023-03-15T06:28:18.472Z"
   },
   {
    "duration": 38,
    "start_time": "2023-03-15T06:28:53.498Z"
   },
   {
    "duration": 67,
    "start_time": "2023-03-15T06:30:11.256Z"
   },
   {
    "duration": 1405,
    "start_time": "2023-03-15T06:31:47.936Z"
   },
   {
    "duration": 423,
    "start_time": "2023-03-15T06:31:49.343Z"
   },
   {
    "duration": 498,
    "start_time": "2023-03-15T06:31:49.768Z"
   },
   {
    "duration": 573,
    "start_time": "2023-03-15T06:31:50.268Z"
   },
   {
    "duration": 534,
    "start_time": "2023-03-15T06:31:50.843Z"
   },
   {
    "duration": 43,
    "start_time": "2023-03-15T06:31:51.379Z"
   },
   {
    "duration": 33,
    "start_time": "2023-03-15T06:31:51.424Z"
   },
   {
    "duration": 6,
    "start_time": "2023-03-15T06:31:51.482Z"
   },
   {
    "duration": 205,
    "start_time": "2023-03-15T06:31:51.491Z"
   },
   {
    "duration": 6,
    "start_time": "2023-03-15T06:31:51.781Z"
   },
   {
    "duration": 133,
    "start_time": "2023-03-15T06:31:51.791Z"
   },
   {
    "duration": 3,
    "start_time": "2023-03-15T06:31:51.928Z"
   },
   {
    "duration": 4536,
    "start_time": "2023-03-15T06:31:51.932Z"
   },
   {
    "duration": 275,
    "start_time": "2023-03-15T06:31:56.470Z"
   },
   {
    "duration": 68,
    "start_time": "2023-03-15T06:31:56.747Z"
   },
   {
    "duration": 48,
    "start_time": "2023-03-16T02:59:37.114Z"
   },
   {
    "duration": 8,
    "start_time": "2023-03-16T02:59:53.863Z"
   },
   {
    "duration": 1732,
    "start_time": "2023-03-16T03:00:23.667Z"
   },
   {
    "duration": 703,
    "start_time": "2023-03-16T03:00:25.401Z"
   },
   {
    "duration": 459,
    "start_time": "2023-03-16T03:00:26.106Z"
   },
   {
    "duration": 516,
    "start_time": "2023-03-16T03:00:26.567Z"
   },
   {
    "duration": 436,
    "start_time": "2023-03-16T03:00:27.085Z"
   },
   {
    "duration": 42,
    "start_time": "2023-03-16T03:00:27.524Z"
   },
   {
    "duration": 34,
    "start_time": "2023-03-16T03:00:27.568Z"
   },
   {
    "duration": 3,
    "start_time": "2023-03-16T03:00:27.604Z"
   },
   {
    "duration": 281,
    "start_time": "2023-03-16T03:00:27.609Z"
   },
   {
    "duration": 8,
    "start_time": "2023-03-16T03:00:27.895Z"
   },
   {
    "duration": 100,
    "start_time": "2023-03-16T03:00:27.906Z"
   },
   {
    "duration": 4,
    "start_time": "2023-03-16T03:00:28.007Z"
   },
   {
    "duration": 4040,
    "start_time": "2023-03-16T03:00:28.012Z"
   },
   {
    "duration": 227,
    "start_time": "2023-03-16T03:00:32.055Z"
   },
   {
    "duration": 1131,
    "start_time": "2023-03-16T03:00:32.284Z"
   },
   {
    "duration": 58,
    "start_time": "2023-03-16T03:00:42.457Z"
   },
   {
    "duration": 60,
    "start_time": "2023-03-16T03:01:09.467Z"
   },
   {
    "duration": 79,
    "start_time": "2023-03-16T03:02:37.841Z"
   },
   {
    "duration": 61,
    "start_time": "2023-03-16T03:03:51.194Z"
   },
   {
    "duration": 189,
    "start_time": "2023-03-16T03:05:12.006Z"
   },
   {
    "duration": 63,
    "start_time": "2023-03-16T03:05:27.720Z"
   },
   {
    "duration": 72,
    "start_time": "2023-03-16T03:05:57.094Z"
   },
   {
    "duration": 68,
    "start_time": "2023-03-16T03:06:49.229Z"
   },
   {
    "duration": 67,
    "start_time": "2023-03-16T03:06:58.310Z"
   },
   {
    "duration": 58,
    "start_time": "2023-03-16T03:07:25.334Z"
   },
   {
    "duration": 79,
    "start_time": "2023-03-16T03:07:38.466Z"
   },
   {
    "duration": 59,
    "start_time": "2023-03-16T03:08:29.693Z"
   },
   {
    "duration": 64,
    "start_time": "2023-03-16T03:08:37.570Z"
   },
   {
    "duration": 62,
    "start_time": "2023-03-16T03:08:43.317Z"
   },
   {
    "duration": 59,
    "start_time": "2023-03-16T03:08:58.743Z"
   },
   {
    "duration": 61,
    "start_time": "2023-03-16T03:09:09.533Z"
   },
   {
    "duration": 61,
    "start_time": "2023-03-16T03:09:24.622Z"
   },
   {
    "duration": 64,
    "start_time": "2023-03-16T03:09:31.370Z"
   },
   {
    "duration": 60,
    "start_time": "2023-03-16T03:10:24.223Z"
   },
   {
    "duration": 62,
    "start_time": "2023-03-16T03:10:57.716Z"
   },
   {
    "duration": 66,
    "start_time": "2023-03-16T03:11:34.067Z"
   },
   {
    "duration": 57,
    "start_time": "2023-03-16T03:11:41.881Z"
   },
   {
    "duration": 58,
    "start_time": "2023-03-16T03:11:47.417Z"
   },
   {
    "duration": 60,
    "start_time": "2023-03-16T03:14:21.778Z"
   },
   {
    "duration": 59,
    "start_time": "2023-03-16T03:14:28.313Z"
   }
  ],
  "kernelspec": {
   "display_name": "Python 3 (ipykernel)",
   "language": "python",
   "name": "python3"
  },
  "language_info": {
   "codemirror_mode": {
    "name": "ipython",
    "version": 3
   },
   "file_extension": ".py",
   "mimetype": "text/x-python",
   "name": "python",
   "nbconvert_exporter": "python",
   "pygments_lexer": "ipython3",
   "version": "3.9.5"
  },
  "toc": {
   "base_numbering": 1,
   "nav_menu": {},
   "number_sections": true,
   "sideBar": true,
   "skip_h1_title": true,
   "title_cell": "Table of Contents",
   "title_sidebar": "Contents",
   "toc_cell": false,
   "toc_position": {},
   "toc_section_display": true,
   "toc_window_display": false
  }
 },
 "nbformat": 4,
 "nbformat_minor": 4
}
