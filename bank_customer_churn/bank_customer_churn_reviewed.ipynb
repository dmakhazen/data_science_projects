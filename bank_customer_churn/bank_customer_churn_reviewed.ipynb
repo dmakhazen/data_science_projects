{
 "cells": [
  {
   "cell_type": "markdown",
   "metadata": {},
   "source": [
    "**Table of contents**<a id='toc0_'></a>    \n",
    "- [Описание проекта](#toc1_)    \n",
    "- [Импорт библиотек](#toc2_)    \n",
    "- [Подготовка данных](#toc3_)    \n",
    "- [Исследование задачи и баланса классов](#toc4_)    \n",
    "- [Борьба с дисбалансом классов](#toc5_)    \n",
    "- [Тестирование лучшей модели](#toc6_)    \n",
    "- [Результат](#toc7_)    \n",
    "\n",
    "<!-- vscode-jupyter-toc-config\n",
    "\tnumbering=false\n",
    "\tanchor=true\n",
    "\tflat=false\n",
    "\tminLevel=1\n",
    "\tmaxLevel=6\n",
    "\t/vscode-jupyter-toc-config -->\n",
    "<!-- THIS CELL WILL BE REPLACED ON TOC UPDATE. DO NOT WRITE YOUR TEXT IN THIS CELL -->"
   ]
  },
  {
   "cell_type": "markdown",
   "metadata": {},
   "source": [
    "# <a id='toc1_'></a>[Описание проекта](#toc0_)"
   ]
  },
  {
   "attachments": {},
   "cell_type": "markdown",
   "metadata": {},
   "source": [
    "<p><img style=\"float:right; margin:20px; padding:20px; max-height:400px\" src=\"https://as2.ftcdn.net/v2/jpg/03/08/02/45/1000_F_308024548_kMQJ3FWfmUX2djOl9tAYCYeToAs97o6h.jpg\"></p>\n",
    "<p style=\"text-align:justify;\">\n",
    "\n",
    "**Описание проблемы**\n",
    "\n",
    "Из «South Park Bank» стали уходить клиенты. Каждый месяц. Немного, но заметно. Банковские маркетологи посчитали: сохранять текущих клиентов дешевле, чем привлекать новых. Нужно спрогнозировать, уйдёт клиент из банка в ближайшее время или нет. Вам предоставлены исторические данные о поведении клиентов и расторжении договоров с банком. \n",
    "\n",
    "**Цель**\n",
    "\n",
    "Моя цель состоит в том, чтобы разработать модель, способную предсказать, уйдет ли клиент из нашего банка в ближайшем будущем или нет. Я стремлюсь построить модель с высоким значением F1-меры, которая является важной метрикой для нашего проекта. Необходимо достичь значения F1-меры не менее 0.59, чтобы успешно завершить проект. Кроме того, я также буду оценивать AUC-ROC и сравнивать его со значением F1-меры.\n",
    "\n",
    "**Источник данных:** [https://www.kaggle.com/barelydedicated/bank-customer-churn-modeling](https://www.kaggle.com/barelydedicated/bank-customer-churn-modeling)"
   ]
  },
  {
   "cell_type": "markdown",
   "metadata": {},
   "source": [
    "# <a id='toc2_'></a>[Импорт библиотек](#toc0_)"
   ]
  },
  {
   "cell_type": "code",
   "execution_count": 1,
   "metadata": {},
   "outputs": [],
   "source": [
    "#Pandas\n",
    "import pandas as pd\n",
    "\n",
    "#np\n",
    "import numpy as np\n",
    "\n",
    "#plt\n",
    "import matplotlib.pyplot as plt\n",
    "\n",
    "#Scikit-learn\n",
    "from sklearn.model_selection import train_test_split\n",
    "from sklearn.ensemble import RandomForestClassifier\n",
    "from sklearn.metrics import precision_score, recall_score, f1_score, roc_curve, roc_auc_score, precision_recall_curve\n",
    "from sklearn.linear_model import LogisticRegression \n",
    "from sklearn.utils import shuffle\n",
    "from sklearn.preprocessing import StandardScaler"
   ]
  },
  {
   "cell_type": "markdown",
   "metadata": {},
   "source": [
    "# <a id='toc3_'></a>[Подготовка данных](#toc0_)"
   ]
  },
  {
   "cell_type": "code",
   "execution_count": 2,
   "metadata": {},
   "outputs": [],
   "source": [
    "data = pd.read_csv('/datasets/Churn.csv')"
   ]
  },
  {
   "cell_type": "markdown",
   "metadata": {},
   "source": [
    "**Осмотр данных**"
   ]
  },
  {
   "cell_type": "code",
   "execution_count": 3,
   "metadata": {},
   "outputs": [
    {
     "name": "stdout",
     "output_type": "stream",
     "text": [
      "<class 'pandas.core.frame.DataFrame'>\n",
      "RangeIndex: 10000 entries, 0 to 9999\n",
      "Data columns (total 14 columns):\n",
      " #   Column           Non-Null Count  Dtype  \n",
      "---  ------           --------------  -----  \n",
      " 0   RowNumber        10000 non-null  int64  \n",
      " 1   CustomerId       10000 non-null  int64  \n",
      " 2   Surname          10000 non-null  object \n",
      " 3   CreditScore      10000 non-null  int64  \n",
      " 4   Geography        10000 non-null  object \n",
      " 5   Gender           10000 non-null  object \n",
      " 6   Age              10000 non-null  int64  \n",
      " 7   Tenure           9091 non-null   float64\n",
      " 8   Balance          10000 non-null  float64\n",
      " 9   NumOfProducts    10000 non-null  int64  \n",
      " 10  HasCrCard        10000 non-null  int64  \n",
      " 11  IsActiveMember   10000 non-null  int64  \n",
      " 12  EstimatedSalary  10000 non-null  float64\n",
      " 13  Exited           10000 non-null  int64  \n",
      "dtypes: float64(3), int64(8), object(3)\n",
      "memory usage: 1.1+ MB\n"
     ]
    }
   ],
   "source": [
    "data.info()"
   ]
  },
  {
   "cell_type": "code",
   "execution_count": 4,
   "metadata": {},
   "outputs": [
    {
     "data": {
      "text/html": [
       "<div>\n",
       "<style scoped>\n",
       "    .dataframe tbody tr th:only-of-type {\n",
       "        vertical-align: middle;\n",
       "    }\n",
       "\n",
       "    .dataframe tbody tr th {\n",
       "        vertical-align: top;\n",
       "    }\n",
       "\n",
       "    .dataframe thead th {\n",
       "        text-align: right;\n",
       "    }\n",
       "</style>\n",
       "<table border=\"1\" class=\"dataframe\">\n",
       "  <thead>\n",
       "    <tr style=\"text-align: right;\">\n",
       "      <th></th>\n",
       "      <th>RowNumber</th>\n",
       "      <th>CustomerId</th>\n",
       "      <th>Surname</th>\n",
       "      <th>CreditScore</th>\n",
       "      <th>Geography</th>\n",
       "      <th>Gender</th>\n",
       "      <th>Age</th>\n",
       "      <th>Tenure</th>\n",
       "      <th>Balance</th>\n",
       "      <th>NumOfProducts</th>\n",
       "      <th>HasCrCard</th>\n",
       "      <th>IsActiveMember</th>\n",
       "      <th>EstimatedSalary</th>\n",
       "      <th>Exited</th>\n",
       "    </tr>\n",
       "  </thead>\n",
       "  <tbody>\n",
       "    <tr>\n",
       "      <th>0</th>\n",
       "      <td>1</td>\n",
       "      <td>15634602</td>\n",
       "      <td>Hargrave</td>\n",
       "      <td>619</td>\n",
       "      <td>France</td>\n",
       "      <td>Female</td>\n",
       "      <td>42</td>\n",
       "      <td>2.0</td>\n",
       "      <td>0.00</td>\n",
       "      <td>1</td>\n",
       "      <td>1</td>\n",
       "      <td>1</td>\n",
       "      <td>101348.88</td>\n",
       "      <td>1</td>\n",
       "    </tr>\n",
       "    <tr>\n",
       "      <th>1</th>\n",
       "      <td>2</td>\n",
       "      <td>15647311</td>\n",
       "      <td>Hill</td>\n",
       "      <td>608</td>\n",
       "      <td>Spain</td>\n",
       "      <td>Female</td>\n",
       "      <td>41</td>\n",
       "      <td>1.0</td>\n",
       "      <td>83807.86</td>\n",
       "      <td>1</td>\n",
       "      <td>0</td>\n",
       "      <td>1</td>\n",
       "      <td>112542.58</td>\n",
       "      <td>0</td>\n",
       "    </tr>\n",
       "    <tr>\n",
       "      <th>2</th>\n",
       "      <td>3</td>\n",
       "      <td>15619304</td>\n",
       "      <td>Onio</td>\n",
       "      <td>502</td>\n",
       "      <td>France</td>\n",
       "      <td>Female</td>\n",
       "      <td>42</td>\n",
       "      <td>8.0</td>\n",
       "      <td>159660.80</td>\n",
       "      <td>3</td>\n",
       "      <td>1</td>\n",
       "      <td>0</td>\n",
       "      <td>113931.57</td>\n",
       "      <td>1</td>\n",
       "    </tr>\n",
       "    <tr>\n",
       "      <th>3</th>\n",
       "      <td>4</td>\n",
       "      <td>15701354</td>\n",
       "      <td>Boni</td>\n",
       "      <td>699</td>\n",
       "      <td>France</td>\n",
       "      <td>Female</td>\n",
       "      <td>39</td>\n",
       "      <td>1.0</td>\n",
       "      <td>0.00</td>\n",
       "      <td>2</td>\n",
       "      <td>0</td>\n",
       "      <td>0</td>\n",
       "      <td>93826.63</td>\n",
       "      <td>0</td>\n",
       "    </tr>\n",
       "    <tr>\n",
       "      <th>4</th>\n",
       "      <td>5</td>\n",
       "      <td>15737888</td>\n",
       "      <td>Mitchell</td>\n",
       "      <td>850</td>\n",
       "      <td>Spain</td>\n",
       "      <td>Female</td>\n",
       "      <td>43</td>\n",
       "      <td>2.0</td>\n",
       "      <td>125510.82</td>\n",
       "      <td>1</td>\n",
       "      <td>1</td>\n",
       "      <td>1</td>\n",
       "      <td>79084.10</td>\n",
       "      <td>0</td>\n",
       "    </tr>\n",
       "  </tbody>\n",
       "</table>\n",
       "</div>"
      ],
      "text/plain": [
       "   RowNumber  CustomerId   Surname  CreditScore Geography  Gender  Age  \\\n",
       "0          1    15634602  Hargrave          619    France  Female   42   \n",
       "1          2    15647311      Hill          608     Spain  Female   41   \n",
       "2          3    15619304      Onio          502    France  Female   42   \n",
       "3          4    15701354      Boni          699    France  Female   39   \n",
       "4          5    15737888  Mitchell          850     Spain  Female   43   \n",
       "\n",
       "   Tenure    Balance  NumOfProducts  HasCrCard  IsActiveMember  \\\n",
       "0     2.0       0.00              1          1               1   \n",
       "1     1.0   83807.86              1          0               1   \n",
       "2     8.0  159660.80              3          1               0   \n",
       "3     1.0       0.00              2          0               0   \n",
       "4     2.0  125510.82              1          1               1   \n",
       "\n",
       "   EstimatedSalary  Exited  \n",
       "0        101348.88       1  \n",
       "1        112542.58       0  \n",
       "2        113931.57       1  \n",
       "3         93826.63       0  \n",
       "4         79084.10       0  "
      ]
     },
     "metadata": {},
     "output_type": "display_data"
    }
   ],
   "source": [
    "display(data.head())"
   ]
  },
  {
   "cell_type": "code",
   "execution_count": 5,
   "metadata": {},
   "outputs": [
    {
     "name": "stdout",
     "output_type": "stream",
     "text": [
      "RowNumber          10000\n",
      "CustomerId         10000\n",
      "Surname             2932\n",
      "CreditScore          460\n",
      "Geography              3\n",
      "Gender                 2\n",
      "Age                   70\n",
      "Tenure                11\n",
      "Balance             6382\n",
      "NumOfProducts          4\n",
      "HasCrCard              2\n",
      "IsActiveMember         2\n",
      "EstimatedSalary     9999\n",
      "Exited                 2\n",
      "dtype: int64\n"
     ]
    }
   ],
   "source": [
    "print(data.nunique())"
   ]
  },
  {
   "cell_type": "markdown",
   "metadata": {},
   "source": [
    "Есть пропуски в столбце Tenure"
   ]
  },
  {
   "cell_type": "code",
   "execution_count": 6,
   "metadata": {},
   "outputs": [
    {
     "name": "stdout",
     "output_type": "stream",
     "text": [
      "909\n",
      "[ 2.  1.  8.  7.  4.  6.  3. 10.  5.  9.  0. nan]\n"
     ]
    }
   ],
   "source": [
    "print(data['Tenure'].isna().sum())\n",
    "print(data['Tenure'].unique())"
   ]
  },
  {
   "cell_type": "code",
   "execution_count": 7,
   "metadata": {},
   "outputs": [
    {
     "data": {
      "text/html": [
       "<div>\n",
       "<style scoped>\n",
       "    .dataframe tbody tr th:only-of-type {\n",
       "        vertical-align: middle;\n",
       "    }\n",
       "\n",
       "    .dataframe tbody tr th {\n",
       "        vertical-align: top;\n",
       "    }\n",
       "\n",
       "    .dataframe thead th {\n",
       "        text-align: right;\n",
       "    }\n",
       "</style>\n",
       "<table border=\"1\" class=\"dataframe\">\n",
       "  <thead>\n",
       "    <tr style=\"text-align: right;\">\n",
       "      <th></th>\n",
       "      <th>RowNumber</th>\n",
       "      <th>CustomerId</th>\n",
       "      <th>Surname</th>\n",
       "      <th>CreditScore</th>\n",
       "      <th>Geography</th>\n",
       "      <th>Gender</th>\n",
       "      <th>Age</th>\n",
       "      <th>Tenure</th>\n",
       "      <th>Balance</th>\n",
       "      <th>NumOfProducts</th>\n",
       "      <th>HasCrCard</th>\n",
       "      <th>IsActiveMember</th>\n",
       "      <th>EstimatedSalary</th>\n",
       "      <th>Exited</th>\n",
       "    </tr>\n",
       "  </thead>\n",
       "  <tbody>\n",
       "    <tr>\n",
       "      <th>30</th>\n",
       "      <td>31</td>\n",
       "      <td>15589475</td>\n",
       "      <td>Azikiwe</td>\n",
       "      <td>591</td>\n",
       "      <td>Spain</td>\n",
       "      <td>Female</td>\n",
       "      <td>39</td>\n",
       "      <td>NaN</td>\n",
       "      <td>0.00</td>\n",
       "      <td>3</td>\n",
       "      <td>1</td>\n",
       "      <td>0</td>\n",
       "      <td>140469.38</td>\n",
       "      <td>1</td>\n",
       "    </tr>\n",
       "    <tr>\n",
       "      <th>48</th>\n",
       "      <td>49</td>\n",
       "      <td>15766205</td>\n",
       "      <td>Yin</td>\n",
       "      <td>550</td>\n",
       "      <td>Germany</td>\n",
       "      <td>Male</td>\n",
       "      <td>38</td>\n",
       "      <td>NaN</td>\n",
       "      <td>103391.38</td>\n",
       "      <td>1</td>\n",
       "      <td>0</td>\n",
       "      <td>1</td>\n",
       "      <td>90878.13</td>\n",
       "      <td>0</td>\n",
       "    </tr>\n",
       "    <tr>\n",
       "      <th>51</th>\n",
       "      <td>52</td>\n",
       "      <td>15768193</td>\n",
       "      <td>Trevisani</td>\n",
       "      <td>585</td>\n",
       "      <td>Germany</td>\n",
       "      <td>Male</td>\n",
       "      <td>36</td>\n",
       "      <td>NaN</td>\n",
       "      <td>146050.97</td>\n",
       "      <td>2</td>\n",
       "      <td>0</td>\n",
       "      <td>0</td>\n",
       "      <td>86424.57</td>\n",
       "      <td>0</td>\n",
       "    </tr>\n",
       "    <tr>\n",
       "      <th>53</th>\n",
       "      <td>54</td>\n",
       "      <td>15702298</td>\n",
       "      <td>Parkhill</td>\n",
       "      <td>655</td>\n",
       "      <td>Germany</td>\n",
       "      <td>Male</td>\n",
       "      <td>41</td>\n",
       "      <td>NaN</td>\n",
       "      <td>125561.97</td>\n",
       "      <td>1</td>\n",
       "      <td>0</td>\n",
       "      <td>0</td>\n",
       "      <td>164040.94</td>\n",
       "      <td>1</td>\n",
       "    </tr>\n",
       "    <tr>\n",
       "      <th>60</th>\n",
       "      <td>61</td>\n",
       "      <td>15651280</td>\n",
       "      <td>Hunter</td>\n",
       "      <td>742</td>\n",
       "      <td>Germany</td>\n",
       "      <td>Male</td>\n",
       "      <td>35</td>\n",
       "      <td>NaN</td>\n",
       "      <td>136857.00</td>\n",
       "      <td>1</td>\n",
       "      <td>0</td>\n",
       "      <td>0</td>\n",
       "      <td>84509.57</td>\n",
       "      <td>0</td>\n",
       "    </tr>\n",
       "    <tr>\n",
       "      <th>82</th>\n",
       "      <td>83</td>\n",
       "      <td>15641732</td>\n",
       "      <td>Mills</td>\n",
       "      <td>543</td>\n",
       "      <td>France</td>\n",
       "      <td>Female</td>\n",
       "      <td>36</td>\n",
       "      <td>NaN</td>\n",
       "      <td>0.00</td>\n",
       "      <td>2</td>\n",
       "      <td>0</td>\n",
       "      <td>0</td>\n",
       "      <td>26019.59</td>\n",
       "      <td>0</td>\n",
       "    </tr>\n",
       "    <tr>\n",
       "      <th>85</th>\n",
       "      <td>86</td>\n",
       "      <td>15805254</td>\n",
       "      <td>Ndukaku</td>\n",
       "      <td>652</td>\n",
       "      <td>Spain</td>\n",
       "      <td>Female</td>\n",
       "      <td>75</td>\n",
       "      <td>NaN</td>\n",
       "      <td>0.00</td>\n",
       "      <td>2</td>\n",
       "      <td>1</td>\n",
       "      <td>1</td>\n",
       "      <td>114675.75</td>\n",
       "      <td>0</td>\n",
       "    </tr>\n",
       "    <tr>\n",
       "      <th>94</th>\n",
       "      <td>95</td>\n",
       "      <td>15676966</td>\n",
       "      <td>Capon</td>\n",
       "      <td>730</td>\n",
       "      <td>Spain</td>\n",
       "      <td>Male</td>\n",
       "      <td>42</td>\n",
       "      <td>NaN</td>\n",
       "      <td>0.00</td>\n",
       "      <td>2</td>\n",
       "      <td>0</td>\n",
       "      <td>1</td>\n",
       "      <td>85982.47</td>\n",
       "      <td>0</td>\n",
       "    </tr>\n",
       "    <tr>\n",
       "      <th>99</th>\n",
       "      <td>100</td>\n",
       "      <td>15633059</td>\n",
       "      <td>Fanucci</td>\n",
       "      <td>413</td>\n",
       "      <td>France</td>\n",
       "      <td>Male</td>\n",
       "      <td>34</td>\n",
       "      <td>NaN</td>\n",
       "      <td>0.00</td>\n",
       "      <td>2</td>\n",
       "      <td>0</td>\n",
       "      <td>0</td>\n",
       "      <td>6534.18</td>\n",
       "      <td>0</td>\n",
       "    </tr>\n",
       "    <tr>\n",
       "      <th>111</th>\n",
       "      <td>112</td>\n",
       "      <td>15665790</td>\n",
       "      <td>Rowntree</td>\n",
       "      <td>538</td>\n",
       "      <td>Germany</td>\n",
       "      <td>Male</td>\n",
       "      <td>39</td>\n",
       "      <td>NaN</td>\n",
       "      <td>108055.10</td>\n",
       "      <td>2</td>\n",
       "      <td>1</td>\n",
       "      <td>0</td>\n",
       "      <td>27231.26</td>\n",
       "      <td>0</td>\n",
       "    </tr>\n",
       "  </tbody>\n",
       "</table>\n",
       "</div>"
      ],
      "text/plain": [
       "     RowNumber  CustomerId    Surname  CreditScore Geography  Gender  Age  \\\n",
       "30          31    15589475    Azikiwe          591     Spain  Female   39   \n",
       "48          49    15766205        Yin          550   Germany    Male   38   \n",
       "51          52    15768193  Trevisani          585   Germany    Male   36   \n",
       "53          54    15702298   Parkhill          655   Germany    Male   41   \n",
       "60          61    15651280     Hunter          742   Germany    Male   35   \n",
       "82          83    15641732      Mills          543    France  Female   36   \n",
       "85          86    15805254    Ndukaku          652     Spain  Female   75   \n",
       "94          95    15676966      Capon          730     Spain    Male   42   \n",
       "99         100    15633059    Fanucci          413    France    Male   34   \n",
       "111        112    15665790   Rowntree          538   Germany    Male   39   \n",
       "\n",
       "     Tenure    Balance  NumOfProducts  HasCrCard  IsActiveMember  \\\n",
       "30      NaN       0.00              3          1               0   \n",
       "48      NaN  103391.38              1          0               1   \n",
       "51      NaN  146050.97              2          0               0   \n",
       "53      NaN  125561.97              1          0               0   \n",
       "60      NaN  136857.00              1          0               0   \n",
       "82      NaN       0.00              2          0               0   \n",
       "85      NaN       0.00              2          1               1   \n",
       "94      NaN       0.00              2          0               1   \n",
       "99      NaN       0.00              2          0               0   \n",
       "111     NaN  108055.10              2          1               0   \n",
       "\n",
       "     EstimatedSalary  Exited  \n",
       "30         140469.38       1  \n",
       "48          90878.13       0  \n",
       "51          86424.57       0  \n",
       "53         164040.94       1  \n",
       "60          84509.57       0  \n",
       "82          26019.59       0  \n",
       "85         114675.75       0  \n",
       "94          85982.47       0  \n",
       "99           6534.18       0  \n",
       "111         27231.26       0  "
      ]
     },
     "metadata": {},
     "output_type": "display_data"
    }
   ],
   "source": [
    "display(data.query('Tenure.isna()').head(10))"
   ]
  },
  {
   "attachments": {},
   "cell_type": "markdown",
   "metadata": {},
   "source": [
    "<style>\n",
    "    .bordered-cell {\n",
    "        border: 3px solid black;\n",
    "        padding: 10px;\n",
    "    }\n",
    "</style>\n",
    "\n",
    "<div class=\"bordered-cell\">\n",
    "\n",
    "**Вывод**\n",
    "\n",
    "Не до конца понятно, что делать с этими пропусками. Первая догадка, что это клиенты в первый год их обслуживания, хотя есть записи клиентов со значением 0. Заполню пропуски значением 0."
   ]
  },
  {
   "cell_type": "code",
   "execution_count": 8,
   "metadata": {},
   "outputs": [],
   "source": [
    "data['Tenure'].fillna(0, inplace=True)"
   ]
  },
  {
   "cell_type": "markdown",
   "metadata": {},
   "source": [
    "**Данные которые не нужны для обучения модели:**\n",
    "- RowNumber\n",
    "- CustomerId\n",
    "- Surname"
   ]
  },
  {
   "cell_type": "code",
   "execution_count": 9,
   "metadata": {
    "scrolled": true
   },
   "outputs": [
    {
     "name": "stdout",
     "output_type": "stream",
     "text": [
      "<class 'pandas.core.frame.DataFrame'>\n",
      "RangeIndex: 10000 entries, 0 to 9999\n",
      "Data columns (total 11 columns):\n",
      " #   Column           Non-Null Count  Dtype  \n",
      "---  ------           --------------  -----  \n",
      " 0   CreditScore      10000 non-null  int64  \n",
      " 1   Geography        10000 non-null  object \n",
      " 2   Gender           10000 non-null  object \n",
      " 3   Age              10000 non-null  int64  \n",
      " 4   Tenure           10000 non-null  float64\n",
      " 5   Balance          10000 non-null  float64\n",
      " 6   NumOfProducts    10000 non-null  int64  \n",
      " 7   HasCrCard        10000 non-null  int64  \n",
      " 8   IsActiveMember   10000 non-null  int64  \n",
      " 9   EstimatedSalary  10000 non-null  float64\n",
      " 10  Exited           10000 non-null  int64  \n",
      "dtypes: float64(3), int64(6), object(2)\n",
      "memory usage: 859.5+ KB\n"
     ]
    }
   ],
   "source": [
    "# Удаляю столбцы ненужные\n",
    "data.drop(['RowNumber', 'CustomerId', 'Surname'], axis=1, inplace=True)\n",
    "# Проверка\n",
    "data.info()"
   ]
  },
  {
   "cell_type": "markdown",
   "metadata": {},
   "source": [
    "**Столбцы gender и geography содержат категории в виде строк,** их нужно переделать в категориальную переменную через OHE"
   ]
  },
  {
   "cell_type": "markdown",
   "metadata": {},
   "source": [
    "**Создаю тестовую, валидационную и обучающую выборки**"
   ]
  },
  {
   "cell_type": "code",
   "execution_count": 11,
   "metadata": {},
   "outputs": [],
   "source": [
    "# Разделение на целевой признак и объекты\n",
    "target = data[\"Exited\"]\n",
    "features = data.drop(\"Exited\", axis=1)\n",
    "\n",
    "# Разделение на выборки\n",
    "features_train, features_valid_test, target_train, target_valid_test = train_test_split(\n",
    "    features, target, test_size=0.4, random_state=12345, stratify=target\n",
    ")\n",
    "# Разделяю дальше\n",
    "features_valid, features_test, target_valid, target_test = train_test_split(\n",
    "    features_valid_test,\n",
    "    target_valid_test,\n",
    "    test_size=0.5,\n",
    "    random_state=12345,\n",
    "    stratify=target_valid_test,\n",
    ")"
   ]
  },
  {
   "cell_type": "code",
   "execution_count": 12,
   "metadata": {},
   "outputs": [],
   "source": [
    "# One-hot encoding для всех выборок\n",
    "features_train = pd.get_dummies(features_train, drop_first=True)\n",
    "features_valid = pd.get_dummies(features_valid, drop_first=True)\n",
    "features_test = pd.get_dummies(features_test, drop_first=True)\n",
    "\n",
    "# Масштабирование\n",
    "# Список признаков количественных\n",
    "numeric = ['CreditScore', 'Age', 'Tenure',\n",
    "           'Balance', 'NumOfProducts', 'EstimatedSalary']\n",
    "# Убираю предупреждение\n",
    "pd.options.mode.chained_assignment = None\n",
    "# Создаю и обучаю scaler\n",
    "scaler = StandardScaler()\n",
    "scaler.fit(features_train[numeric])\n",
    "# Масштабирую признаки\n",
    "features_train[numeric] = scaler.transform(features_train[numeric])\n",
    "features_valid[numeric] = scaler.transform(features_valid[numeric])\n",
    "features_test[numeric] = scaler.transform(features_test[numeric])"
   ]
  },
  {
   "attachments": {},
   "cell_type": "markdown",
   "metadata": {},
   "source": [
    "<style>\n",
    "    .bordered-cell {\n",
    "        border: 3px solid black;\n",
    "        padding: 10px;\n",
    "    }\n",
    "</style>\n",
    "\n",
    "<div class=\"bordered-cell\">\n",
    "\n",
    "**Вывод**\n",
    "\n",
    "Начальные выборки созданы, сделано OHE, разделение 60:20:20, со стратификацией"
   ]
  },
  {
   "cell_type": "markdown",
   "metadata": {},
   "source": [
    "# <a id='toc4_'></a>[Исследование задачи и баланса классов](#toc0_)"
   ]
  },
  {
   "cell_type": "markdown",
   "metadata": {},
   "source": [
    "**Изучаю баланс классов**"
   ]
  },
  {
   "cell_type": "code",
   "execution_count": 13,
   "metadata": {},
   "outputs": [
    {
     "name": "stdout",
     "output_type": "stream",
     "text": [
      "0    7963\n",
      "1    2037\n",
      "Name: Exited, dtype: int64\n"
     ]
    }
   ],
   "source": [
    "print(data['Exited'].value_counts())"
   ]
  },
  {
   "cell_type": "markdown",
   "metadata": {},
   "source": [
    "**Вывод**\n",
    "- Баланс классов примерно 20% положительных и 80% отрицательных"
   ]
  },
  {
   "attachments": {},
   "cell_type": "markdown",
   "metadata": {},
   "source": [
    "**Ищу параметры к первой пробной модели \"случайного леса\".** \n",
    "- Выбрал эту модель исходя из предыщуего опыта.\n",
    "- В переборе хотел увидеть сравнение и по F1-мере и по скору, поэтому условие двойное"
   ]
  },
  {
   "cell_type": "code",
   "execution_count": 14,
   "metadata": {
    "scrolled": false
   },
   "outputs": [
    {
     "name": "stdout",
     "output_type": "stream",
     "text": [
      "Score= 0.8235 F1= 0.2661122661122662 depth= 1 n_est= 1\n",
      "Score= 0.824 F1= 0.26666666666666666 depth= 3 n_est= 1\n",
      "Score= 0.825 F1= 0.2616033755274262 depth= 3 n_est= 41\n",
      "Score= 0.8255 F1= 0.26526315789473687 depth= 3 n_est= 61\n",
      "Score= 0.8435 F1= 0.4685908319185059 depth= 5 n_est= 1\n",
      "Score= 0.8605 F1= 0.5578446909667195 depth= 5 n_est= 21\n",
      "Score= 0.8605 F1= 0.5633802816901409 depth= 7 n_est= 21\n",
      "Score= 0.8635 F1= 0.5687203791469194 depth= 7 n_est= 41\n",
      "Score= 0.869 F1= 0.598159509202454 depth= 9 n_est= 21\n",
      "Score= 0.8685 F1= 0.6009104704097117 depth= 11 n_est= 41\n",
      "Score= 0.869 F1= 0.6077844311377246 depth= 15 n_est= 61\n",
      "Score= 0.8665 F1= 0.6090775988286969 depth= 17 n_est= 41\n",
      "Score= 0.8675 F1= 0.6074074074074075 depth= 17 n_est= 81\n",
      "Score= 0.871 F1= 0.618343195266272 depth= 19 n_est= 41\n",
      "best score= 0.871 best f1= 0.618343195266272\n",
      "CPU times: user 11.1 s, sys: 112 ms, total: 11.2 s\n",
      "Wall time: 11.2 s\n"
     ]
    }
   ],
   "source": [
    "%%time\n",
    "\n",
    "# Перебираю гиперпараметры сравнивая модель по метрике Score,\n",
    "# вывожу также F1-меру для каждой модели которая лучше предыдущей\n",
    "# Поиск стандартный, как в тренажере, но ради интереса в условии сравнения добавил\n",
    "# вывод новой модели исходя из обоих параметров\n",
    "\n",
    "best_score = 0\n",
    "best_f1 = 0\n",
    "for depth in range(1, 20, 2):\n",
    "    for est in range(1, 101, 20):\n",
    "        model = RandomForestClassifier(\n",
    "            max_depth=depth, n_estimators=est, random_state=12345\n",
    "        )\n",
    "        model.fit(features_train, target_train)\n",
    "        predicted_valid = model.predict(features_valid)\n",
    "        if best_score < model.score(features_valid, target_valid) or best_f1 < f1_score(\n",
    "            target_valid, predicted_valid\n",
    "        ):\n",
    "            best_score = model.score(features_valid, target_valid)\n",
    "            best_f1 = f1_score(target_valid, predicted_valid)\n",
    "            print(\n",
    "                \"Score=\",\n",
    "                model.score(features_valid, target_valid),\n",
    "                \"F1=\",\n",
    "                f1_score(target_valid, predicted_valid),\n",
    "                \"depth=\",\n",
    "                depth,\n",
    "                \"n_est=\",\n",
    "                est,\n",
    "            )\n",
    "print(\"best score=\", best_score, \"best f1=\", best_f1)\n"
   ]
  },
  {
   "attachments": {},
   "cell_type": "markdown",
   "metadata": {},
   "source": [
    "<style>\n",
    "    .bordered-cell {\n",
    "        border: 3px solid black;\n",
    "        padding: 10px;\n",
    "    }\n",
    "</style>\n",
    "\n",
    "<div class=\"bordered-cell\">\n",
    "\n",
    "**Вывод**\n",
    "- Лучшая модель Score = 0.8705 F1 = 0.6174298375184638 depth = 19 n_est = 81\n",
    "- Пробовал с увеличением количества деревьев и глубины, вроде получается лучше, но незначительно"
   ]
  },
  {
   "cell_type": "markdown",
   "metadata": {},
   "source": [
    "**Исследую модель логистической регресии**"
   ]
  },
  {
   "cell_type": "code",
   "execution_count": 15,
   "metadata": {},
   "outputs": [
    {
     "name": "stdout",
     "output_type": "stream",
     "text": [
      "Score= 0.7325 F1= 0.5302897278314311\n"
     ]
    }
   ],
   "source": [
    "model = LogisticRegression(random_state=12345, solver=\"liblinear\", class_weight=\"balanced\")\n",
    "model.fit(features_train, target_train)\n",
    "predicted_valid = model.predict(features_valid)\n",
    "print(\n",
    "    \"Score =\",\n",
    "    model.score(features_valid, target_valid),\n",
    "    \"F1 =\",\n",
    "    f1_score(target_valid, predicted_valid),\n",
    ")"
   ]
  },
  {
   "attachments": {},
   "cell_type": "markdown",
   "metadata": {},
   "source": [
    "<style>\n",
    "    .bordered-cell {\n",
    "        border: 3px solid black;\n",
    "        padding: 10px;\n",
    "    }\n",
    "</style>\n",
    "\n",
    "<div class=\"bordered-cell\">\n",
    "\n",
    "**Вывод**\n",
    "\n",
    "- На признаках без масштаба модель имела показатели: Score= 0.7905 F1= 0.06263982102908278\n",
    "- С масштабированием признаков: Score= 0.811 F1= 0.3076923076923077\n",
    "- А если добавить баланс признаков: Score= 0.7325 F1= 0.5302897278314311"
   ]
  },
  {
   "cell_type": "markdown",
   "metadata": {},
   "source": [
    "**Тестирую модель \"случайного леса\" с параметрами**\n",
    "- depth=19 n_est=81"
   ]
  },
  {
   "cell_type": "code",
   "execution_count": 16,
   "metadata": {},
   "outputs": [],
   "source": [
    "# Объединяю выборки обучающую и валидационную для тренировки модели\n",
    "features_train_valid = pd.concat([features_train, features_valid])\n",
    "target_train_valid = pd.concat([target_train, target_valid])"
   ]
  },
  {
   "cell_type": "code",
   "execution_count": 17,
   "metadata": {},
   "outputs": [
    {
     "name": "stdout",
     "output_type": "stream",
     "text": [
      "Тест модели depth=26 n_est=141\n",
      "Score = 0.855\n",
      "auc_roc = 0.8455713031984218\n",
      "precision = 0.7349397590361446\n",
      "recall = 0.44963144963144963\n",
      "F1= 0.5579268292682927\n"
     ]
    },
    {
     "data": {
      "image/png": "[encoded data removed]",
      "text/plain": [
       "<Figure size 432x288 with 1 Axes>"
      ]
     },
     "metadata": {
      "needs_background": "light"
     },
     "output_type": "display_data"
    }
   ],
   "source": [
    "# Анализ для модели depth= 19 n_est= 81\n",
    "\n",
    "# Создаю модель, обучаю, предсказываю, считаю вероятности для положительного класса\n",
    "model = RandomForestClassifier(max_depth=19, n_estimators=81, random_state=12345)\n",
    "model.fit(features_train_valid, target_train_valid)\n",
    "predicted_test = model.predict(features_test)\n",
    "probabilities_test = model.predict_proba(features_test)\n",
    "probabilities_one_test = probabilities_test[:, 1]\n",
    "\n",
    "# Считаю метрики\n",
    "print('Тест модели depth=19 n_est=81')\n",
    "print('Score =', model.score(features_test, target_test))\n",
    "print('auc_roc =', roc_auc_score(target_test, probabilities_one_test))\n",
    "print('precision =', precision_score(target_test, predicted_test))\n",
    "print('recall =', recall_score(target_test, predicted_test))\n",
    "print('F1=', f1_score(target_test,predicted_test))\n",
    "\n",
    "# Строю ROC-кривую\n",
    "fpr, tpr, thresholds = roc_curve(target_test, probabilities_one_test)\n",
    "plt.figure()\n",
    "plt.plot(fpr, tpr, linestyle='--')\n",
    "plt.xlim([0.0, 1.0])\n",
    "plt.ylim([0.0, 1.0])\n",
    "plt.xlabel(\"False Positive Rate\")\n",
    "plt.ylabel(\"True Positive Rate\")\n",
    "plt.title(\"ROC-кривая\")\n",
    "plt.show()"
   ]
  },
  {
   "cell_type": "markdown",
   "metadata": {},
   "source": [
    "**Вывод**\n",
    "- F1 score для модели случайного леса на тестовой выборке равно примерно 0.55\n",
    "- Точность довольно высока - 0.75\n",
    "- Полнота ниже точности значительно, и равна 0.45\n",
    "- Из-за низкой полноты F1-мера тоже ниже\n",
    "- Необходимо балансировать классы и работать с выборкой"
   ]
  },
  {
   "cell_type": "markdown",
   "metadata": {},
   "source": [
    "# <a id='toc5_'></a>[Борьба с дисбалансом классов](#toc0_)"
   ]
  },
  {
   "cell_type": "markdown",
   "metadata": {},
   "source": [
    "**По условию задания необходимо опробовать несколько способов борьбы с дисбалансом классов, в ячейках ниже я буду пробовать разные методы. В каждой ячейке свой метод и после выполнения ячейки сохраняется лучшая модель, её я тестировал в самой последней ячейке (Тестирование модели). В выводе к каждому методу описаны характеристики модели после теста**"
   ]
  },
  {
   "cell_type": "markdown",
   "metadata": {},
   "source": [
    "**class_weight='balanced'**\n",
    "\n",
    "Добавляю аргумент class_weight='balanced' для балансировки классов"
   ]
  },
  {
   "cell_type": "code",
   "execution_count": 18,
   "metadata": {},
   "outputs": [
    {
     "name": "stdout",
     "output_type": "stream",
     "text": [
      "Score= 0.8235 F1= 0.2661122661122662 depth= 1 n_est= 1\n",
      "Score= 0.7765 F1= 0.5647517039922103 depth= 1 n_est= 21\n",
      "Score= 0.7685 F1= 0.5817524841915086 depth= 3 n_est= 21\n",
      "Score= 0.7665 F1= 0.58266309204647 depth= 3 n_est= 41\n",
      "Score= 0.773 F1= 0.5880217785843919 depth= 3 n_est= 61\n",
      "Score= 0.773 F1= 0.588768115942029 depth= 3 n_est= 81\n",
      "Score= 0.809 F1= 0.6164658634538153 depth= 5 n_est= 21\n",
      "Score= 0.805 F1= 0.6168958742632613 depth= 5 n_est= 61\n",
      "Score= 0.808 F1= 0.6182902584493042 depth= 5 n_est= 81\n",
      "Score= 0.8295 F1= 0.6391534391534391 depth= 7 n_est= 41\n",
      "Score= 0.8435 F1= 0.6414662084765177 depth= 9 n_est= 61\n",
      "best score= 0.8435 best f1= 0.6414662084765177\n",
      "CPU times: user 9.97 s, sys: 48.3 ms, total: 10 s\n",
      "Wall time: 10 s\n"
     ]
    }
   ],
   "source": [
    "%%time\n",
    "\n",
    "# Перебираю гиперпараметры сравнивая модель по метрике F1\n",
    "\n",
    "best_score = 0\n",
    "best_f1 = 0\n",
    "best_model = None\n",
    "\n",
    "for depth in range(1, 20, 2):\n",
    "    for est in range(1, 101, 20):\n",
    "        model = RandomForestClassifier(\n",
    "            max_depth=depth,\n",
    "            n_estimators=est,\n",
    "            random_state=12345,\n",
    "            class_weight=\"balanced\",\n",
    "        )\n",
    "        model.fit(features_train, target_train)\n",
    "        predicted_valid = model.predict(features_valid)\n",
    "        if best_f1 < f1_score(target_valid, predicted_valid):\n",
    "            best_score = model.score(features_valid, target_valid)\n",
    "            best_f1 = f1_score(target_valid, predicted_valid)\n",
    "            best_model = model\n",
    "            print(\n",
    "                \"Score=\",\n",
    "                model.score(features_valid, target_valid),\n",
    "                \"F1=\",\n",
    "                f1_score(target_valid, predicted_valid),\n",
    "                \"depth=\",\n",
    "                depth,\n",
    "                \"n_est=\",\n",
    "                est,\n",
    "            )\n",
    "print(\"best score=\", best_score, \"best f1=\", best_f1)\n",
    "best_model_class_balance = best_model"
   ]
  },
  {
   "attachments": {},
   "cell_type": "markdown",
   "metadata": {},
   "source": [
    "<style>\n",
    "    .bordered-cell {\n",
    "        border: 3px solid black;\n",
    "        padding: 10px;\n",
    "    }\n",
    "</style>\n",
    "\n",
    "<div class=\"bordered-cell\">\n",
    "\n",
    "**Вывод**\n",
    "\n",
    "Добавление аргумента class_weight='balanced' для балансировки классов и поиск модели по F1-мере уже позволяют найти модель в соответствии с заданием. Интересно что теперь точность снижена, а полнота наоборот выше.\n",
    "\n",
    "Подбранная модель обладает следующими характеристиками:\n",
    "\n",
    "- Score = 0.8275\n",
    "- auc_roc = 0.8524580050003778\n",
    "- precision = 0.5668103448275862\n",
    "- recall = 0.6461916461916462\n",
    "- F1 = 0.6039035591274398"
   ]
  },
  {
   "cell_type": "markdown",
   "metadata": {},
   "source": [
    "**Upsampling + баланс классов выше** "
   ]
  },
  {
   "cell_type": "code",
   "execution_count": 19,
   "metadata": {},
   "outputs": [
    {
     "name": "stdout",
     "output_type": "stream",
     "text": [
      "Score= 0.846 F1= 0.6467889908256881 depth= 9 n_est= 41 upsampling= 1\n",
      "Score= 0.843 F1= 0.6503340757238307 depth= 9 n_est= 61 upsampling= 2\n",
      "Score= 0.842 F1= 0.6512141280353201 depth= 9 n_est= 81 upsampling= 2\n",
      "best score= 0.842 best f1= 0.6512141280353201\n",
      "CPU times: user 2min 8s, sys: 358 ms, total: 2min 8s\n",
      "Wall time: 2min 8s\n"
     ]
    }
   ],
   "source": [
    "%%time\n",
    "\n",
    "def upsample(features, target, repeat):\n",
    "    features_zeros = features[target == 0]\n",
    "    features_ones = features[target == 1]\n",
    "    target_zeros = target[target == 0]\n",
    "    target_ones = target[target == 1]\n",
    "    features_upsampled = pd.concat([features_zeros] + [features_ones] * repeat)\n",
    "    target_upsampled = pd.concat([target_zeros] + [target_ones] * repeat)\n",
    "    features_upsampled, target_upsampled = shuffle(\n",
    "        features_upsampled, target_upsampled, random_state=12345\n",
    "    )\n",
    "    return features_upsampled, target_upsampled\n",
    "\n",
    "\n",
    "for upsampl in range(1, 10, 1):\n",
    "    features_upsampled, target_upsampled = upsample(\n",
    "        features_train, target_train, upsampl\n",
    "    )\n",
    "    for depth in range(1, 20, 2):\n",
    "        for est in range(1, 101, 20):\n",
    "            model = RandomForestClassifier(\n",
    "                max_depth=depth,\n",
    "                n_estimators=est,\n",
    "                random_state=12345,\n",
    "                class_weight=\"balanced\",\n",
    "            )\n",
    "            model.fit(features_upsampled, target_upsampled)\n",
    "            predicted_valid = model.predict(features_valid)\n",
    "            if best_f1 < f1_score(target_valid, predicted_valid):\n",
    "                best_score = model.score(features_valid, target_valid)\n",
    "                best_f1 = f1_score(target_valid, predicted_valid)\n",
    "                best_model = model\n",
    "                print(\n",
    "                    \"Score=\",\n",
    "                    model.score(features_valid, target_valid),\n",
    "                    \"F1=\",\n",
    "                    f1_score(target_valid, predicted_valid),\n",
    "                    \"depth=\",\n",
    "                    depth,\n",
    "                    \"n_est=\",\n",
    "                    est,\n",
    "                    \"upsampling=\",\n",
    "                    upsampl,\n",
    "                )\n",
    "print(\"best score=\", best_score, \"best f1=\", best_f1)\n",
    "\n",
    "best_model_class_balance_ups = best_model"
   ]
  },
  {
   "attachments": {},
   "cell_type": "markdown",
   "metadata": {},
   "source": [
    "<style>\n",
    "    .bordered-cell {\n",
    "        border: 3px solid black;\n",
    "        padding: 10px;\n",
    "    }\n",
    "</style>\n",
    "\n",
    "<div class=\"bordered-cell\">\n",
    "\n",
    "**Вывод**\n",
    "\n",
    "Хотя на валидационной выборке находится модель лучше по F1-мере, чем без upsampling, на тестовой выборке F1-мера ниже. В данных условиях upsampling не нужен.\n",
    "\n",
    "- Score = 0.829\n",
    "- auc_roc = 0.848390763645001\n",
    "- precision = 0.5848563968668408\n",
    "- recall = 0.5503685503685504\n",
    "- F1= 0.5670886075949368"
   ]
  },
  {
   "cell_type": "markdown",
   "metadata": {},
   "source": [
    "**Downsampling + баланс классов выше**"
   ]
  },
  {
   "cell_type": "code",
   "execution_count": 20,
   "metadata": {},
   "outputs": [
    {
     "name": "stdout",
     "output_type": "stream",
     "text": [
      "best score= 0.842 best f1= 0.6512141280353201\n",
      "CPU times: user 37 s, sys: 156 ms, total: 37.2 s\n",
      "Wall time: 37.2 s\n"
     ]
    }
   ],
   "source": [
    "%%time\n",
    "\n",
    "def downsample(features, target, fraction):\n",
    "    features_zeros = features[target == 0]\n",
    "    features_ones = features[target == 1]\n",
    "    target_zeros = target[target == 0]\n",
    "    target_ones = target[target == 1]\n",
    "    features_downsampled = pd.concat(\n",
    "        [features_zeros.sample(frac=fraction, random_state=12345), features_ones]\n",
    "    )\n",
    "    target_downsampled = pd.concat(\n",
    "        [target_zeros.sample(frac=fraction, random_state=12345), target_ones]\n",
    "    )\n",
    "    features_downsampled_s = shuffle(features_downsampled, random_state=12345)\n",
    "    target_downsampled_s = shuffle(target_downsampled, random_state=12345)\n",
    "    target_downsampled = target_downsampled_s\n",
    "    features_downsampled = features_downsampled_s\n",
    "    return features_downsampled, target_downsampled\n",
    "\n",
    "\n",
    "for downsampl in np.arange(0.1, 1.0, 0.2):\n",
    "    features_downsampled, target_downsampled = downsample(\n",
    "        features_train, target_train, downsampl\n",
    "    )\n",
    "    for depth in range(1, 20, 2):\n",
    "        for est in range(1, 101, 20):\n",
    "            model = RandomForestClassifier(\n",
    "                max_depth=depth,\n",
    "                n_estimators=est,\n",
    "                random_state=12345,\n",
    "                class_weight=\"balanced\",\n",
    "            )\n",
    "            model.fit(features_downsampled, target_downsampled)\n",
    "            predicted_valid = model.predict(features_valid)\n",
    "            if best_f1 < f1_score(target_valid, predicted_valid):\n",
    "                best_score = model.score(features_valid, target_valid)\n",
    "                best_f1 = f1_score(target_valid, predicted_valid)\n",
    "                best_model = model\n",
    "                print(\n",
    "                    \"Score=\",\n",
    "                    model.score(features_valid, target_valid),\n",
    "                    \"F1=\",\n",
    "                    f1_score(target_valid, predicted_valid),\n",
    "                    \"depth=\",\n",
    "                    depth,\n",
    "                    \"n_est=\",\n",
    "                    est,\n",
    "                    \"upsampling=\",\n",
    "                    upsampl,\n",
    "                )\n",
    "print(\"best score=\", best_score, \"best f1=\", best_f1)\n",
    "\n",
    "best_model_class_balance_down = best_model"
   ]
  },
  {
   "attachments": {},
   "cell_type": "markdown",
   "metadata": {},
   "source": [
    "<style>\n",
    "    .bordered-cell {\n",
    "        border: 3px solid black;\n",
    "        padding: 10px;\n",
    "    }\n",
    "</style>\n",
    "\n",
    "<div class=\"bordered-cell\">\n",
    "\n",
    "**Вывод по борьбе с дисбалансом**\n",
    "\n",
    "- Upsamling и downsampling не помогли в данной работе\n",
    "- class_weight=\"balanced\" в модели про баланс классов помогает значительно"
   ]
  },
  {
   "cell_type": "markdown",
   "metadata": {},
   "source": [
    "Лучшая модель сохранена в переменной best_model"
   ]
  },
  {
   "cell_type": "code",
   "execution_count": 25,
   "metadata": {},
   "outputs": [],
   "source": [
    "best_model = best_model_class_balance"
   ]
  },
  {
   "cell_type": "markdown",
   "metadata": {},
   "source": [
    "# <a id='toc6_'></a>[Тестирование лучшей модели](#toc0_)"
   ]
  },
  {
   "cell_type": "code",
   "execution_count": 26,
   "metadata": {},
   "outputs": [
    {
     "name": "stdout",
     "output_type": "stream",
     "text": [
      "Тест лучшей модели\n",
      "Score = 0.8285\n",
      "auc_roc = 0.8574367896401796\n",
      "precision = 0.5669456066945606\n",
      "recall = 0.6658476658476659\n",
      "F1= 0.6124293785310734\n"
     ]
    },
    {
     "data": {
      "image/png": "[encoded data removed]",
      "text/plain": [
       "<Figure size 432x432 with 1 Axes>"
      ]
     },
     "metadata": {
      "needs_background": "light"
     },
     "output_type": "display_data"
    },
    {
     "data": {
      "image/png": "[encoded data removed]",
      "text/plain": [
       "<Figure size 432x432 with 1 Axes>"
      ]
     },
     "metadata": {
      "needs_background": "light"
     },
     "output_type": "display_data"
    }
   ],
   "source": [
    "# Использую созданную ранее модель, предсказываю, считаю вероятности для положительного класса\n",
    "best_model.fit(features_train_valid, target_train_valid)\n",
    "predicted_test = best_model.predict(features_test)\n",
    "probabilities_test = best_model.predict_proba(features_test)\n",
    "probabilities_one_test = probabilities_test[:, 1]\n",
    "\n",
    "# Считаю метрики\n",
    "print('Тест лучшей модели')\n",
    "print('Score =', best_model.score(features_test, target_test))\n",
    "print('auc_roc =', roc_auc_score(target_test, probabilities_one_test))\n",
    "print('precision =', precision_score(target_test, predicted_test))\n",
    "print('recall =', recall_score(target_test, predicted_test))\n",
    "print('F1=', f1_score(target_test,predicted_test))\n",
    "\n",
    "# Строю ROC-кривую\n",
    "fpr, tpr, thresholds = roc_curve(target_test, probabilities_one_test)\n",
    "plt.figure(figsize=(6, 6))\n",
    "plt.plot(fpr, tpr, linestyle='--')\n",
    "plt.xlim([0.0, 1.0])\n",
    "plt.ylim([0.0, 1.0])\n",
    "plt.xlabel(\"False Positive Rate\")\n",
    "plt.ylabel(\"True Positive Rate\")\n",
    "plt.title(\"ROC-кривая\")\n",
    "plt.show()\n",
    "\n",
    "# Строю PR-кривую\n",
    "precision, recall, thresholds = precision_recall_curve(target_test, probabilities_test[:, 1])\n",
    "plt.figure(figsize=(6, 6))\n",
    "plt.step(recall, precision, where='post')\n",
    "plt.xlabel('Recall')\n",
    "plt.ylabel('Precision')\n",
    "plt.ylim([0.0, 1.05])\n",
    "plt.xlim([0.0, 1.0])\n",
    "plt.title('Кривая Precision-Recall')\n",
    "plt.show() "
   ]
  },
  {
   "cell_type": "markdown",
   "metadata": {},
   "source": [
    "# <a id='toc7_'></a>[Результат](#toc0_)"
   ]
  },
  {
   "attachments": {},
   "cell_type": "markdown",
   "metadata": {},
   "source": [
    "<style>\n",
    "    .bordered-cell {\n",
    "        border: 3px solid black;\n",
    "        padding: 10px;\n",
    "    }\n",
    "</style>\n",
    "\n",
    "<div class=\"bordered-cell\">\n",
    "\n",
    "**Модель**\n",
    "\n",
    "- Модель построена на основе RandomForestClassifier\n",
    "- Метрики модели\n",
    "  1. **F1 = 0.6124**\n",
    "  2. accuracy = 0.8285\n",
    "  3. auc_roc = 0.8574\n",
    "  4. precision = 0.566\n",
    "  5. recall = 0.665\n",
    "  \n",
    "**Выводы**\n",
    "- На данной выборке самый лучший результат дает широкий подбор гиперпараметров и балансировка классов в аргументе к модели. \n",
    "- Синтетическое изменение баланса классов в данной работе повредило F1-мере модели\n",
    "\n",
    "**Дальнейшее развитие модели**\n",
    "- Хотя данных достаточно для обучения (10к строк), дополнительный сбор новых данных помог бы улучшить модель\n",
    "- В работе доступно для модели 11 признаков, неплохо было бы расширить их количество, например уточнить место жительства, вид работы, должность, данные родственников и многое другое\n",
    "- Акцент в работе сделан на борьбе с дисбалансов классов, а не на выборе модели. Если взять в качестве основной модели - какой-либо градиентный бустинг (либо перебрать больше моделей), метрики возможно улучшить\n",
    "- После появления новых признаков и моделей, стоит оценить feature_importance и дальше работать над обработкой признаков: убрать лишние, преобразовать имеющиеся"
   ]
  }
 ],
 "metadata": {
  "ExecuteTimeLog": [
   {
    "duration": 403,
    "start_time": "2023-02-20T04:57:28.915Z"
   },
   {
    "duration": 205,
    "start_time": "2023-02-20T04:57:29.821Z"
   },
   {
    "duration": 37,
    "start_time": "2023-02-20T04:58:40.146Z"
   },
   {
    "duration": 97,
    "start_time": "2023-02-20T05:04:37.181Z"
   },
   {
    "duration": 32,
    "start_time": "2023-02-20T05:04:44.421Z"
   },
   {
    "duration": 15,
    "start_time": "2023-02-20T05:05:56.414Z"
   },
   {
    "duration": 15,
    "start_time": "2023-02-20T05:05:59.288Z"
   },
   {
    "duration": 14,
    "start_time": "2023-02-20T05:06:43.224Z"
   },
   {
    "duration": 3,
    "start_time": "2023-02-24T04:05:26.516Z"
   },
   {
    "duration": 1329,
    "start_time": "2023-02-24T04:06:31.107Z"
   },
   {
    "duration": 99,
    "start_time": "2023-02-24T04:06:41.774Z"
   },
   {
    "duration": 10,
    "start_time": "2023-02-24T04:07:01.690Z"
   },
   {
    "duration": 68,
    "start_time": "2023-02-24T04:07:16.788Z"
   },
   {
    "duration": 175,
    "start_time": "2023-02-24T04:07:21.310Z"
   },
   {
    "duration": 129,
    "start_time": "2023-02-24T04:07:26.046Z"
   },
   {
    "duration": 51,
    "start_time": "2023-02-24T04:11:20.108Z"
   },
   {
    "duration": 14,
    "start_time": "2023-02-24T04:11:21.978Z"
   },
   {
    "duration": 3,
    "start_time": "2023-02-24T04:16:42.176Z"
   },
   {
    "duration": 131,
    "start_time": "2023-02-24T04:18:16.802Z"
   },
   {
    "duration": 227,
    "start_time": "2023-02-24T04:19:53.197Z"
   },
   {
    "duration": 3,
    "start_time": "2023-02-24T04:20:16.536Z"
   },
   {
    "duration": 43,
    "start_time": "2023-02-24T04:20:16.541Z"
   },
   {
    "duration": 12,
    "start_time": "2023-02-24T04:20:16.586Z"
   },
   {
    "duration": 14,
    "start_time": "2023-02-24T04:20:16.600Z"
   },
   {
    "duration": 14,
    "start_time": "2023-02-24T04:20:16.615Z"
   },
   {
    "duration": 4,
    "start_time": "2023-02-24T04:20:16.630Z"
   },
   {
    "duration": 24,
    "start_time": "2023-02-24T04:20:16.636Z"
   },
   {
    "duration": 3,
    "start_time": "2023-02-24T04:20:16.661Z"
   },
   {
    "duration": 16,
    "start_time": "2023-02-24T04:20:16.665Z"
   },
   {
    "duration": 14,
    "start_time": "2023-02-24T04:20:16.682Z"
   },
   {
    "duration": 13,
    "start_time": "2023-02-24T04:20:16.698Z"
   },
   {
    "duration": 37,
    "start_time": "2023-02-24T04:20:16.712Z"
   },
   {
    "duration": 9,
    "start_time": "2023-02-24T04:20:16.750Z"
   },
   {
    "duration": 0,
    "start_time": "2023-02-24T04:20:16.761Z"
   },
   {
    "duration": 4,
    "start_time": "2023-02-24T04:20:40.429Z"
   },
   {
    "duration": 54,
    "start_time": "2023-02-24T04:20:44.695Z"
   },
   {
    "duration": 22,
    "start_time": "2023-02-24T04:21:26.978Z"
   },
   {
    "duration": 1405,
    "start_time": "2023-02-24T04:23:48.970Z"
   },
   {
    "duration": 41,
    "start_time": "2023-02-24T04:23:50.377Z"
   },
   {
    "duration": 13,
    "start_time": "2023-02-24T04:23:50.419Z"
   },
   {
    "duration": 13,
    "start_time": "2023-02-24T04:23:50.434Z"
   },
   {
    "duration": 12,
    "start_time": "2023-02-24T04:23:50.449Z"
   },
   {
    "duration": 4,
    "start_time": "2023-02-24T04:23:50.462Z"
   },
   {
    "duration": 18,
    "start_time": "2023-02-24T04:23:50.468Z"
   },
   {
    "duration": 3,
    "start_time": "2023-02-24T04:23:50.488Z"
   },
   {
    "duration": 13,
    "start_time": "2023-02-24T04:23:50.492Z"
   },
   {
    "duration": 4,
    "start_time": "2023-02-24T04:23:50.508Z"
   },
   {
    "duration": 43,
    "start_time": "2023-02-24T04:23:50.513Z"
   },
   {
    "duration": 42,
    "start_time": "2023-02-24T04:23:50.558Z"
   },
   {
    "duration": 4,
    "start_time": "2023-02-24T04:23:50.601Z"
   },
   {
    "duration": 11256,
    "start_time": "2023-02-24T04:23:50.607Z"
   },
   {
    "duration": 83,
    "start_time": "2023-02-24T04:24:01.865Z"
   },
   {
    "duration": 100,
    "start_time": "2023-02-24T04:24:01.951Z"
   },
   {
    "duration": 902,
    "start_time": "2023-02-24T04:24:02.053Z"
   },
   {
    "duration": 10049,
    "start_time": "2023-02-24T04:24:02.957Z"
   },
   {
    "duration": 128475,
    "start_time": "2023-02-24T04:24:13.007Z"
   },
   {
    "duration": 37173,
    "start_time": "2023-02-24T04:26:21.483Z"
   },
   {
    "duration": 3,
    "start_time": "2023-02-24T04:26:58.658Z"
   },
   {
    "duration": 687,
    "start_time": "2023-02-24T04:26:58.663Z"
   },
   {
    "duration": 3,
    "start_time": "2023-02-24T04:34:29.538Z"
   },
   {
    "duration": 826,
    "start_time": "2023-02-24T04:34:31.165Z"
   },
   {
    "duration": 3,
    "start_time": "2023-02-24T04:34:40.432Z"
   },
   {
    "duration": 707,
    "start_time": "2023-02-24T04:34:41.949Z"
   },
   {
    "duration": 1495,
    "start_time": "2023-03-17T05:15:32.706Z"
   },
   {
    "duration": 170,
    "start_time": "2023-03-17T05:15:34.208Z"
   },
   {
    "duration": 16,
    "start_time": "2023-03-17T05:15:36.314Z"
   }
  ],
  "kernelspec": {
   "display_name": "Python 3 (ipykernel)",
   "language": "python",
   "name": "python3"
  },
  "language_info": {
   "codemirror_mode": {
    "name": "ipython",
    "version": 3
   },
   "file_extension": ".py",
   "mimetype": "text/x-python",
   "name": "python",
   "nbconvert_exporter": "python",
   "pygments_lexer": "ipython3",
   "version": "3.9.5"
  },
  "toc": {
   "base_numbering": 1,
   "nav_menu": {},
   "number_sections": true,
   "sideBar": true,
   "skip_h1_title": true,
   "title_cell": "Содержание",
   "title_sidebar": "Contents",
   "toc_cell": true,
   "toc_position": {
    "height": "calc(100% - 180px)",
    "left": "10px",
    "top": "150px",
    "width": "199.4px"
   },
   "toc_section_display": true,
   "toc_window_display": true
  }
 },
 "nbformat": 4,
 "nbformat_minor": 4
}
